{
 "cells": [
  {
   "cell_type": "code",
   "execution_count": 1,
   "metadata": {},
   "outputs": [],
   "source": [
    "import os\n",
    "import time \n",
    "import tensorflow as tf\n",
    "import numpy as np"
   ]
  },
  {
   "cell_type": "code",
   "execution_count": 8,
   "metadata": {},
   "outputs": [],
   "source": [
    "LABEL_DIMENSIONS = 10\n",
    "(train_images, train_labels), (test_images, test_labels) = tf.keras.datasets.fashion_mnist.load_data()\n",
    "TRAINING_SIZE = len(train_images)\n",
    "TEST_SIZE = len(test_images)\n",
    "# print(TRAINING_SIZE,TEST_SIZE)"
   ]
  },
  {
   "cell_type": "code",
   "execution_count": 9,
   "metadata": {},
   "outputs": [
    {
     "name": "stdout",
     "output_type": "stream",
     "text": [
      "(60000, 10)\n",
      "(10000, 10)\n"
     ]
    }
   ],
   "source": [
    "train_images = np.asarray(train_images, dtype= np.float32)/255\n",
    "train_images = train_images.reshape((TRAINING_SIZE, 28, 28, 1))\n",
    "test_images = np.asarray(test_images,  dtype = np.float32)/255\n",
    "test_images = test_images.reshape((TEST_SIZE, 28, 28, 1))\n",
    "\n",
    "train_labels = tf.keras.utils.to_categorical(train_labels, LABEL_DIMENSIONS)\n",
    "test_labels = tf.keras.utils.to_categorical(test_labels, LABEL_DIMENSIONS)\n",
    "train_labels = train_labels.astype(np.float32)\n",
    "test_labels = test_labels.astype(np.float32)\n",
    "print(train_labels.shape)\n",
    "print(test_labels.shape)"
   ]
  },
  {
   "cell_type": "code",
   "execution_count": 11,
   "metadata": {},
   "outputs": [
    {
     "name": "stdout",
     "output_type": "stream",
     "text": [
      "Model: \"model\"\n",
      "_________________________________________________________________\n",
      "Layer (type)                 Output Shape              Param #   \n",
      "=================================================================\n",
      "input_2 (InputLayer)         [(None, 28, 28, 1)]       0         \n",
      "_________________________________________________________________\n",
      "conv2d_3 (Conv2D)            (None, 26, 26, 32)        320       \n",
      "_________________________________________________________________\n",
      "max_pooling2d_2 (MaxPooling2 (None, 13, 13, 32)        0         \n",
      "_________________________________________________________________\n",
      "conv2d_4 (Conv2D)            (None, 11, 11, 64)        18496     \n",
      "_________________________________________________________________\n",
      "max_pooling2d_3 (MaxPooling2 (None, 5, 5, 64)          0         \n",
      "_________________________________________________________________\n",
      "conv2d_5 (Conv2D)            (None, 3, 3, 64)          36928     \n",
      "_________________________________________________________________\n",
      "flatten_1 (Flatten)          (None, 576)               0         \n",
      "_________________________________________________________________\n",
      "dense_2 (Dense)              (None, 64)                36928     \n",
      "_________________________________________________________________\n",
      "dense_3 (Dense)              (None, 10)                650       \n",
      "=================================================================\n",
      "Total params: 93,322\n",
      "Trainable params: 93,322\n",
      "Non-trainable params: 0\n",
      "_________________________________________________________________\n"
     ]
    }
   ],
   "source": [
    "# Functional API to make a convolutional net\n",
    "\n",
    "inputs = tf.keras.Input(shape=(28,28,1))\n",
    "x = tf.keras.layers.Conv2D(filters=32, kernel_size=(3,3), activation='relu')(inputs)\n",
    "x = tf.keras.layers.MaxPooling2D(pool_size=(2,2), strides=2)(x)\n",
    "x = tf.keras.layers.Conv2D(filters=64, kernel_size=(3,3), activation='relu')(x)\n",
    "x = tf.keras.layers.MaxPooling2D(pool_size=(2,2), strides=2)(x)\n",
    "x = tf.keras.layers.Conv2D(filters=64, kernel_size=(3,3), activation='relu')(x)\n",
    "x = tf.keras.layers.Flatten()(x)\n",
    "x = tf.keras.layers.Dense(64, activation='relu')(x)\n",
    "predictions = tf.keras.layers.Dense(LABEL_DIMENSIONS, activation='softmax')(x)\n",
    "model = tf.keras.Model(inputs=inputs, outputs=predictions)\n",
    "model.summary()"
   ]
  },
  {
   "cell_type": "code",
   "execution_count": 12,
   "metadata": {},
   "outputs": [],
   "source": [
    "optimizer = tf.keras.optimizers.SGD()\n",
    "model.compile(loss='categorical_crossentropy', optimizer=optimizer, metrics=['accuracy'])"
   ]
  },
  {
   "cell_type": "code",
   "execution_count": 13,
   "metadata": {},
   "outputs": [],
   "source": [
    "strategy = None\n",
    "config = tf.estimator.RunConfig(train_distribute=strategy)"
   ]
  },
  {
   "cell_type": "code",
   "execution_count": 15,
   "metadata": {},
   "outputs": [
    {
     "name": "stdout",
     "output_type": "stream",
     "text": [
      "WARNING:tensorflow:Using temporary folder as model directory: /var/folders/q1/d82dt4ns3kd7h9yk5cv3ysfr0000gn/T/tmpjo6o2oue\n",
      "INFO:tensorflow:Using the Keras model provided.\n",
      "WARNING:tensorflow:From /Applications/anaconda3/envs/ML_env/lib/python3.7/site-packages/tensorflow_core/python/ops/resource_variable_ops.py:1630: calling BaseResourceVariable.__init__ (from tensorflow.python.ops.resource_variable_ops) with constraint is deprecated and will be removed in a future version.\n",
      "Instructions for updating:\n",
      "If using Keras pass *_constraint arguments to layers.\n"
     ]
    },
    {
     "name": "stderr",
     "output_type": "stream",
     "text": [
      "2022-06-14 22:01:02.720650: I tensorflow/core/common_runtime/process_util.cc:115] Creating new thread pool with default inter op setting: 8. Tune using inter_op_parallelism_threads for best performance.\n"
     ]
    },
    {
     "name": "stdout",
     "output_type": "stream",
     "text": [
      "INFO:tensorflow:Using config: {'_model_dir': '/var/folders/q1/d82dt4ns3kd7h9yk5cv3ysfr0000gn/T/tmpjo6o2oue', '_tf_random_seed': None, '_save_summary_steps': 100, '_save_checkpoints_steps': None, '_save_checkpoints_secs': 600, '_session_config': allow_soft_placement: true\n",
      "graph_options {\n",
      "  rewrite_options {\n",
      "    meta_optimizer_iterations: ONE\n",
      "  }\n",
      "}\n",
      ", '_keep_checkpoint_max': 5, '_keep_checkpoint_every_n_hours': 10000, '_log_step_count_steps': 100, '_train_distribute': None, '_device_fn': None, '_protocol': None, '_eval_distribute': None, '_experimental_distribute': None, '_experimental_max_worker_delay_secs': None, '_session_creation_timeout_secs': 7200, '_service': None, '_cluster_spec': <tensorflow.python.training.server_lib.ClusterSpec object at 0x7fe128171090>, '_task_type': 'worker', '_task_id': 0, '_global_id_in_cluster': 0, '_master': '', '_evaluation_master': '', '_is_chief': True, '_num_ps_replicas': 0, '_num_worker_replicas': 1}\n"
     ]
    }
   ],
   "source": [
    "estimator = tf.keras.estimator.model_to_estimator(model, config=config)"
   ]
  },
  {
   "cell_type": "code",
   "execution_count": 17,
   "metadata": {},
   "outputs": [],
   "source": [
    "def input_fn(images, labels, epochs, batch_size):\n",
    "    dataset = tf.data.Dataset.from_tensor_slices((images, labels))\n",
    "    SHUFFLE_SIZE = 5000\n",
    "    dataset = dataset.shuffle(SHUFFLE_SIZE).repeat(epochs).batch(batch_size)\n",
    "    dataset = dataset.prefetch(None)\n",
    "\n",
    "    return dataset"
   ]
  },
  {
   "cell_type": "code",
   "execution_count": 18,
   "metadata": {},
   "outputs": [
    {
     "name": "stdout",
     "output_type": "stream",
     "text": [
      "WARNING:tensorflow:From /Applications/anaconda3/envs/ML_env/lib/python3.7/site-packages/tensorflow_core/python/training/training_util.py:236: Variable.initialized_value (from tensorflow.python.ops.variables) is deprecated and will be removed in a future version.\n",
      "Instructions for updating:\n",
      "Use Variable.read_value. Variables in 2.X are initialized automatically both in eager and graph (inside tf.defun) contexts.\n",
      "INFO:tensorflow:Calling model_fn.\n",
      "INFO:tensorflow:Done calling model_fn.\n",
      "INFO:tensorflow:Warm-starting with WarmStartSettings: WarmStartSettings(ckpt_to_initialize_from='/var/folders/q1/d82dt4ns3kd7h9yk5cv3ysfr0000gn/T/tmpjo6o2oue/keras/keras_model.ckpt', vars_to_warm_start='.*', var_name_to_vocab_info={}, var_name_to_prev_var_name={})\n",
      "INFO:tensorflow:Warm-starting from: /var/folders/q1/d82dt4ns3kd7h9yk5cv3ysfr0000gn/T/tmpjo6o2oue/keras/keras_model.ckpt\n",
      "INFO:tensorflow:Warm-starting variables only in TRAINABLE_VARIABLES.\n",
      "INFO:tensorflow:Warm-started 10 variables.\n",
      "INFO:tensorflow:Create CheckpointSaverHook.\n",
      "INFO:tensorflow:Graph was finalized.\n",
      "INFO:tensorflow:Running local_init_op.\n",
      "INFO:tensorflow:Done running local_init_op.\n",
      "INFO:tensorflow:Saving checkpoints for 0 into /var/folders/q1/d82dt4ns3kd7h9yk5cv3ysfr0000gn/T/tmpjo6o2oue/model.ckpt.\n",
      "INFO:tensorflow:loss = 2.3042383, step = 0\n",
      "INFO:tensorflow:global_step/sec: 6.97176\n",
      "INFO:tensorflow:loss = 2.1574397, step = 100 (14.344 sec)\n",
      "INFO:tensorflow:global_step/sec: 6.66037\n",
      "INFO:tensorflow:loss = 1.460139, step = 200 (15.014 sec)\n",
      "INFO:tensorflow:global_step/sec: 6.62145\n",
      "INFO:tensorflow:loss = 1.0790093, step = 300 (15.103 sec)\n",
      "INFO:tensorflow:global_step/sec: 7.17679\n",
      "INFO:tensorflow:loss = 0.92636997, step = 400 (13.932 sec)\n",
      "INFO:tensorflow:global_step/sec: 7.68\n",
      "INFO:tensorflow:loss = 0.8403442, step = 500 (13.021 sec)\n",
      "INFO:tensorflow:global_step/sec: 7.26991\n",
      "INFO:tensorflow:loss = 0.759693, step = 600 (13.757 sec)\n",
      "INFO:tensorflow:global_step/sec: 8.11391\n",
      "INFO:tensorflow:loss = 0.7962407, step = 700 (12.323 sec)\n",
      "INFO:tensorflow:global_step/sec: 7.13072\n",
      "INFO:tensorflow:loss = 0.7045082, step = 800 (14.024 sec)\n",
      "INFO:tensorflow:global_step/sec: 7.44904\n",
      "INFO:tensorflow:loss = 0.7141104, step = 900 (13.426 sec)\n",
      "INFO:tensorflow:global_step/sec: 7.1977\n",
      "INFO:tensorflow:loss = 0.65039706, step = 1000 (13.893 sec)\n",
      "INFO:tensorflow:global_step/sec: 7.10723\n",
      "INFO:tensorflow:loss = 0.6973382, step = 1100 (14.069 sec)\n",
      "INFO:tensorflow:global_step/sec: 7.04508\n",
      "INFO:tensorflow:loss = 0.66250217, step = 1200 (14.197 sec)\n",
      "INFO:tensorflow:global_step/sec: 7.24628\n",
      "INFO:tensorflow:loss = 0.5598731, step = 1300 (13.797 sec)\n",
      "INFO:tensorflow:global_step/sec: 7.51367\n",
      "INFO:tensorflow:loss = 0.5965701, step = 1400 (13.309 sec)\n",
      "INFO:tensorflow:global_step/sec: 6.49262\n",
      "INFO:tensorflow:loss = 0.71263564, step = 1500 (15.403 sec)\n",
      "INFO:tensorflow:global_step/sec: 6.6305\n",
      "INFO:tensorflow:loss = 0.6102392, step = 1600 (15.082 sec)\n",
      "INFO:tensorflow:global_step/sec: 6.26013\n",
      "INFO:tensorflow:loss = 0.53893566, step = 1700 (15.974 sec)\n",
      "INFO:tensorflow:global_step/sec: 6.81988\n",
      "INFO:tensorflow:loss = 0.63004804, step = 1800 (14.663 sec)\n",
      "INFO:tensorflow:global_step/sec: 6.34633\n",
      "INFO:tensorflow:loss = 0.60499, step = 1900 (15.757 sec)\n",
      "INFO:tensorflow:global_step/sec: 6.61204\n",
      "INFO:tensorflow:loss = 0.52126795, step = 2000 (15.124 sec)\n",
      "INFO:tensorflow:global_step/sec: 6.8055\n",
      "INFO:tensorflow:loss = 0.5465097, step = 2100 (14.695 sec)\n",
      "INFO:tensorflow:global_step/sec: 6.05002\n",
      "INFO:tensorflow:loss = 0.48733318, step = 2200 (16.530 sec)\n",
      "INFO:tensorflow:global_step/sec: 6.36967\n",
      "INFO:tensorflow:loss = 0.4636617, step = 2300 (15.698 sec)\n",
      "INFO:tensorflow:global_step/sec: 6.77091\n",
      "INFO:tensorflow:loss = 0.5139601, step = 2400 (14.770 sec)\n",
      "INFO:tensorflow:global_step/sec: 6.82791\n",
      "INFO:tensorflow:loss = 0.5886715, step = 2500 (14.644 sec)\n",
      "INFO:tensorflow:global_step/sec: 6.87711\n",
      "INFO:tensorflow:loss = 0.48960078, step = 2600 (14.543 sec)\n",
      "INFO:tensorflow:global_step/sec: 6.88685\n",
      "INFO:tensorflow:loss = 0.51889724, step = 2700 (14.518 sec)\n",
      "INFO:tensorflow:global_step/sec: 6.65468\n",
      "INFO:tensorflow:loss = 0.55510044, step = 2800 (15.027 sec)\n",
      "INFO:tensorflow:global_step/sec: 6.81726\n",
      "INFO:tensorflow:loss = 0.5119055, step = 2900 (14.669 sec)\n",
      "INFO:tensorflow:global_step/sec: 6.9198\n",
      "INFO:tensorflow:loss = 0.54156715, step = 3000 (14.450 sec)\n",
      "INFO:tensorflow:global_step/sec: 6.70045\n",
      "INFO:tensorflow:loss = 0.4991998, step = 3100 (14.925 sec)\n",
      "INFO:tensorflow:global_step/sec: 6.94945\n",
      "INFO:tensorflow:loss = 0.5459721, step = 3200 (14.390 sec)\n",
      "INFO:tensorflow:global_step/sec: 6.9847\n",
      "INFO:tensorflow:loss = 0.41722864, step = 3300 (14.317 sec)\n",
      "INFO:tensorflow:global_step/sec: 6.95191\n",
      "INFO:tensorflow:loss = 0.44173932, step = 3400 (14.384 sec)\n",
      "INFO:tensorflow:global_step/sec: 7.00704\n",
      "INFO:tensorflow:loss = 0.46948862, step = 3500 (14.272 sec)\n",
      "INFO:tensorflow:global_step/sec: 6.32514\n",
      "INFO:tensorflow:loss = 0.45580882, step = 3600 (15.811 sec)\n",
      "INFO:tensorflow:global_step/sec: 6.72057\n",
      "INFO:tensorflow:loss = 0.45170763, step = 3700 (14.878 sec)\n",
      "INFO:tensorflow:global_step/sec: 6.81304\n",
      "INFO:tensorflow:loss = 0.48502302, step = 3800 (14.679 sec)\n",
      "INFO:tensorflow:global_step/sec: 7.07765\n",
      "INFO:tensorflow:loss = 0.4198295, step = 3900 (14.130 sec)\n",
      "INFO:tensorflow:global_step/sec: 6.82662\n",
      "INFO:tensorflow:loss = 0.44964638, step = 4000 (14.647 sec)\n",
      "INFO:tensorflow:Saving checkpoints for 4072 into /var/folders/q1/d82dt4ns3kd7h9yk5cv3ysfr0000gn/T/tmpjo6o2oue/model.ckpt.\n",
      "INFO:tensorflow:global_step/sec: 6.19822\n",
      "INFO:tensorflow:loss = 0.37624645, step = 4100 (16.134 sec)\n",
      "INFO:tensorflow:global_step/sec: 6.72103\n",
      "INFO:tensorflow:loss = 0.54782724, step = 4200 (14.879 sec)\n",
      "INFO:tensorflow:global_step/sec: 7.14673\n",
      "INFO:tensorflow:loss = 0.44523537, step = 4300 (13.993 sec)\n",
      "INFO:tensorflow:global_step/sec: 6.72059\n",
      "INFO:tensorflow:loss = 0.49858597, step = 4400 (14.881 sec)\n",
      "INFO:tensorflow:global_step/sec: 7.31875\n",
      "INFO:tensorflow:loss = 0.46694976, step = 4500 (13.662 sec)\n",
      "INFO:tensorflow:global_step/sec: 7.01159\n",
      "INFO:tensorflow:loss = 0.51042944, step = 4600 (14.262 sec)\n",
      "INFO:tensorflow:global_step/sec: 7.28391\n",
      "INFO:tensorflow:loss = 0.43039495, step = 4700 (13.732 sec)\n",
      "INFO:tensorflow:global_step/sec: 7.21425\n",
      "INFO:tensorflow:loss = 0.42496565, step = 4800 (13.858 sec)\n",
      "INFO:tensorflow:global_step/sec: 6.87652\n",
      "INFO:tensorflow:loss = 0.44056857, step = 4900 (14.544 sec)\n",
      "INFO:tensorflow:global_step/sec: 7.34987\n",
      "INFO:tensorflow:loss = 0.49350935, step = 5000 (13.604 sec)\n",
      "INFO:tensorflow:global_step/sec: 7.33713\n",
      "INFO:tensorflow:loss = 0.41658872, step = 5100 (13.630 sec)\n",
      "INFO:tensorflow:global_step/sec: 6.89788\n",
      "INFO:tensorflow:loss = 0.40476912, step = 5200 (14.498 sec)\n",
      "INFO:tensorflow:global_step/sec: 7.25658\n",
      "INFO:tensorflow:loss = 0.38492346, step = 5300 (13.783 sec)\n",
      "INFO:tensorflow:global_step/sec: 7.24678\n",
      "INFO:tensorflow:loss = 0.41683567, step = 5400 (13.798 sec)\n",
      "INFO:tensorflow:global_step/sec: 7.31648\n",
      "INFO:tensorflow:loss = 0.3828752, step = 5500 (13.666 sec)\n",
      "INFO:tensorflow:global_step/sec: 7.29859\n",
      "INFO:tensorflow:loss = 0.49522623, step = 5600 (13.705 sec)\n",
      "INFO:tensorflow:global_step/sec: 6.84269\n",
      "INFO:tensorflow:loss = 0.4382416, step = 5700 (14.611 sec)\n",
      "INFO:tensorflow:global_step/sec: 6.91605\n",
      "INFO:tensorflow:loss = 0.41003335, step = 5800 (14.459 sec)\n",
      "INFO:tensorflow:Saving checkpoints for 5860 into /var/folders/q1/d82dt4ns3kd7h9yk5cv3ysfr0000gn/T/tmpjo6o2oue/model.ckpt.\n",
      "INFO:tensorflow:Loss for final step: 0.35626897.\n",
      "<tensorflow_estimator.python.estimator.estimator.EstimatorV2 object at 0x7fe128530d10>\n"
     ]
    }
   ],
   "source": [
    "BATCH_SIZE = 512\n",
    "EPOCHS = 50\n",
    "estimator_train_result = estimator.train(input_fn = lambda:input_fn(train_images, train_labels, epochs=EPOCHS, batch_size=BATCH_SIZE))\n",
    "print(estimator_train_result)"
   ]
  },
  {
   "cell_type": "code",
   "execution_count": 19,
   "metadata": {},
   "outputs": [
    {
     "name": "stdout",
     "output_type": "stream",
     "text": [
      "INFO:tensorflow:Calling model_fn.\n",
      "INFO:tensorflow:Done calling model_fn.\n",
      "INFO:tensorflow:Starting evaluation at 2022-06-14T22:25:08Z\n",
      "INFO:tensorflow:Graph was finalized.\n",
      "INFO:tensorflow:Restoring parameters from /var/folders/q1/d82dt4ns3kd7h9yk5cv3ysfr0000gn/T/tmpjo6o2oue/model.ckpt-5860\n",
      "INFO:tensorflow:Running local_init_op.\n",
      "INFO:tensorflow:Done running local_init_op.\n",
      "INFO:tensorflow:Finished evaluation at 2022-06-14-22:25:11\n",
      "INFO:tensorflow:Saving dict for global step 5860: accuracy = 0.8332, global_step = 5860, loss = 0.45921192\n",
      "INFO:tensorflow:Saving 'checkpoint_path' summary for global step 5860: /var/folders/q1/d82dt4ns3kd7h9yk5cv3ysfr0000gn/T/tmpjo6o2oue/model.ckpt-5860\n"
     ]
    },
    {
     "data": {
      "text/plain": [
       "{'accuracy': 0.8332, 'loss': 0.45921192, 'global_step': 5860}"
      ]
     },
     "execution_count": 19,
     "metadata": {},
     "output_type": "execute_result"
    }
   ],
   "source": [
    "estimator.evaluate(lambda:input_fn(test_images, test_labels, epochs=1, batch_size=BATCH_SIZE))"
   ]
  }
 ],
 "metadata": {
  "interpreter": {
   "hash": "e075f35889cf4896b84e6091500e0536ffb720a60a1416c24df33b82d7beac2d"
  },
  "kernelspec": {
   "display_name": "Python 3.7.7 ('ML_env')",
   "language": "python",
   "name": "python3"
  },
  "language_info": {
   "codemirror_mode": {
    "name": "ipython",
    "version": 3
   },
   "file_extension": ".py",
   "mimetype": "text/x-python",
   "name": "python",
   "nbconvert_exporter": "python",
   "pygments_lexer": "ipython3",
   "version": "3.7.7"
  },
  "orig_nbformat": 4
 },
 "nbformat": 4,
 "nbformat_minor": 2
}
