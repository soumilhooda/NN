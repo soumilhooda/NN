{
 "cells": [
  {
   "cell_type": "code",
   "execution_count": 1,
   "metadata": {},
   "outputs": [],
   "source": [
    "import os\n",
    "import time \n",
    "import tensorflow as tf\n",
    "import numpy as np"
   ]
  },
  {
   "cell_type": "code",
   "execution_count": 2,
   "metadata": {},
   "outputs": [],
   "source": [
    "LABEL_DIMENSIONS = 10\n",
    "(train_images, train_labels), (test_images, test_labels) = tf.keras.datasets.fashion_mnist.load_data()\n",
    "TRAINING_SIZE = len(train_images)\n",
    "TEST_SIZE = len(test_images)"
   ]
  },
  {
   "cell_type": "code",
   "execution_count": 3,
   "metadata": {},
   "outputs": [
    {
     "name": "stdout",
     "output_type": "stream",
     "text": [
      "(60000, 10)\n",
      "(10000, 10)\n"
     ]
    }
   ],
   "source": [
    "train_images = np.asarray(train_images, dtype= np.float32)/255\n",
    "train_images = train_images.reshape((TRAINING_SIZE, 28, 28, 1))\n",
    "test_images = np.asarray(test_images,  dtype = np.float32)/255\n",
    "test_images = test_images.reshape((TEST_SIZE, 28, 28, 1))\n",
    "\n",
    "train_labels = tf.keras.utils.to_categorical(train_labels, LABEL_DIMENSIONS)\n",
    "test_labels = tf.keras.utils.to_categorical(test_labels, LABEL_DIMENSIONS)\n",
    "train_labels = train_labels.astype(np.float32)\n",
    "test_labels = test_labels.astype(np.float32)\n",
    "print(train_labels.shape)\n",
    "print(test_labels.shape)"
   ]
  },
  {
   "cell_type": "code",
   "execution_count": 4,
   "metadata": {},
   "outputs": [
    {
     "name": "stdout",
     "output_type": "stream",
     "text": [
      "Model: \"model\"\n",
      "_________________________________________________________________\n",
      "Layer (type)                 Output Shape              Param #   \n",
      "=================================================================\n",
      "input_1 (InputLayer)         [(None, 28, 28, 1)]       0         \n",
      "_________________________________________________________________\n",
      "conv2d (Conv2D)              (None, 26, 26, 32)        320       \n",
      "_________________________________________________________________\n",
      "max_pooling2d (MaxPooling2D) (None, 13, 13, 32)        0         \n",
      "_________________________________________________________________\n",
      "conv2d_1 (Conv2D)            (None, 11, 11, 64)        18496     \n",
      "_________________________________________________________________\n",
      "max_pooling2d_1 (MaxPooling2 (None, 5, 5, 64)          0         \n",
      "_________________________________________________________________\n",
      "conv2d_2 (Conv2D)            (None, 3, 3, 64)          36928     \n",
      "_________________________________________________________________\n",
      "flatten (Flatten)            (None, 576)               0         \n",
      "_________________________________________________________________\n",
      "dense (Dense)                (None, 64)                36928     \n",
      "_________________________________________________________________\n",
      "dense_1 (Dense)              (None, 10)                650       \n",
      "=================================================================\n",
      "Total params: 93,322\n",
      "Trainable params: 93,322\n",
      "Non-trainable params: 0\n",
      "_________________________________________________________________\n"
     ]
    },
    {
     "name": "stderr",
     "output_type": "stream",
     "text": [
      "2022-06-14 22:12:52.532518: I tensorflow/core/platform/cpu_feature_guard.cc:145] This TensorFlow binary is optimized with Intel(R) MKL-DNN to use the following CPU instructions in performance critical operations:  SSE4.1 SSE4.2 AVX AVX2 AVX512F FMA\n",
      "To enable them in non-MKL-DNN operations, rebuild TensorFlow with the appropriate compiler flags.\n",
      "2022-06-14 22:12:52.533093: I tensorflow/core/common_runtime/process_util.cc:115] Creating new thread pool with default inter op setting: 8. Tune using inter_op_parallelism_threads for best performance.\n"
     ]
    }
   ],
   "source": [
    "inputs = tf.keras.Input(shape=(28,28,1))\n",
    "x = tf.keras.layers.Conv2D(filters=32, kernel_size=(3,3), activation='relu')(inputs)\n",
    "x = tf.keras.layers.MaxPooling2D(pool_size=(2,2), strides=2)(x)\n",
    "x = tf.keras.layers.Conv2D(filters=64, kernel_size=(3,3), activation='relu')(x)\n",
    "x = tf.keras.layers.MaxPooling2D(pool_size=(2,2), strides=2)(x)\n",
    "x = tf.keras.layers.Conv2D(filters=64, kernel_size=(3,3), activation='relu')(x)\n",
    "x = tf.keras.layers.Flatten()(x)\n",
    "x = tf.keras.layers.Dense(64, activation='relu')(x)\n",
    "predictions = tf.keras.layers.Dense(LABEL_DIMENSIONS, activation='softmax')(x)\n",
    "model = tf.keras.Model(inputs=inputs, outputs=predictions)\n",
    "model.summary()"
   ]
  },
  {
   "cell_type": "code",
   "execution_count": 5,
   "metadata": {},
   "outputs": [],
   "source": [
    "optimizer = tf.keras.optimizers.SGD()\n",
    "model.compile(loss='categorical_crossentropy', optimizer=optimizer, metrics=['accuracy'])"
   ]
  },
  {
   "cell_type": "code",
   "execution_count": 6,
   "metadata": {},
   "outputs": [
    {
     "name": "stdout",
     "output_type": "stream",
     "text": [
      "WARNING:tensorflow:There is non-GPU devices in `tf.distribute.Strategy`, not using nccl allreduce.\n",
      "INFO:tensorflow:Initializing RunConfig with distribution strategies.\n",
      "INFO:tensorflow:Not using Distribute Coordinator.\n"
     ]
    }
   ],
   "source": [
    "strategy = tf.distribute.MirroredStrategy()\n",
    "config = tf.estimator.RunConfig(train_distribute=strategy)"
   ]
  },
  {
   "cell_type": "code",
   "execution_count": 7,
   "metadata": {},
   "outputs": [
    {
     "name": "stdout",
     "output_type": "stream",
     "text": [
      "WARNING:tensorflow:Using temporary folder as model directory: /var/folders/q1/d82dt4ns3kd7h9yk5cv3ysfr0000gn/T/tmpuqoa7eyd\n",
      "INFO:tensorflow:Using the Keras model provided.\n",
      "WARNING:tensorflow:From /Applications/anaconda3/envs/ML_env/lib/python3.7/site-packages/tensorflow_core/python/ops/resource_variable_ops.py:1630: calling BaseResourceVariable.__init__ (from tensorflow.python.ops.resource_variable_ops) with constraint is deprecated and will be removed in a future version.\n",
      "Instructions for updating:\n",
      "If using Keras pass *_constraint arguments to layers.\n"
     ]
    },
    {
     "name": "stderr",
     "output_type": "stream",
     "text": [
      "2022-06-14 22:12:53.267399: I tensorflow/core/common_runtime/process_util.cc:115] Creating new thread pool with default inter op setting: 8. Tune using inter_op_parallelism_threads for best performance.\n"
     ]
    },
    {
     "name": "stdout",
     "output_type": "stream",
     "text": [
      "INFO:tensorflow:Using config: {'_model_dir': '/var/folders/q1/d82dt4ns3kd7h9yk5cv3ysfr0000gn/T/tmpuqoa7eyd', '_tf_random_seed': None, '_save_summary_steps': 100, '_save_checkpoints_steps': None, '_save_checkpoints_secs': 600, '_session_config': allow_soft_placement: true\n",
      "graph_options {\n",
      "  rewrite_options {\n",
      "    meta_optimizer_iterations: ONE\n",
      "  }\n",
      "}\n",
      ", '_keep_checkpoint_max': 5, '_keep_checkpoint_every_n_hours': 10000, '_log_step_count_steps': 100, '_train_distribute': <tensorflow.python.distribute.mirrored_strategy.MirroredStrategy object at 0x7fa3752e6810>, '_device_fn': None, '_protocol': None, '_eval_distribute': None, '_experimental_distribute': None, '_experimental_max_worker_delay_secs': None, '_session_creation_timeout_secs': 7200, '_service': None, '_cluster_spec': <tensorflow.python.training.server_lib.ClusterSpec object at 0x7fa3752e6dd0>, '_task_type': 'worker', '_task_id': 0, '_global_id_in_cluster': 0, '_master': '', '_evaluation_master': '', '_is_chief': True, '_num_ps_replicas': 0, '_num_worker_replicas': 1, '_distribute_coordinator_mode': None}\n"
     ]
    }
   ],
   "source": [
    "estimator = tf.keras.estimator.model_to_estimator(model, config=config)"
   ]
  },
  {
   "cell_type": "code",
   "execution_count": 8,
   "metadata": {},
   "outputs": [],
   "source": [
    "def input_fn(images, labels, epochs, batch_size):\n",
    "    dataset = tf.data.Dataset.from_tensor_slices((images, labels))\n",
    "    SHUFFLE_SIZE = 5000\n",
    "    dataset = dataset.shuffle(SHUFFLE_SIZE).repeat(epochs).batch(batch_size)\n",
    "    dataset = dataset.prefetch(None)\n",
    "\n",
    "    return dataset"
   ]
  },
  {
   "cell_type": "code",
   "execution_count": 9,
   "metadata": {},
   "outputs": [
    {
     "name": "stdout",
     "output_type": "stream",
     "text": [
      "INFO:tensorflow:Reduce to /replica:0/task:0/device:CPU:0 then broadcast to ('/replica:0/task:0/device:CPU:0',).\n",
      "INFO:tensorflow:Calling model_fn.\n",
      "INFO:tensorflow:Reduce to /replica:0/task:0/device:CPU:0 then broadcast to ('/replica:0/task:0/device:CPU:0',).\n",
      "INFO:tensorflow:Reduce to /replica:0/task:0/device:CPU:0 then broadcast to ('/replica:0/task:0/device:CPU:0',).\n",
      "INFO:tensorflow:Reduce to /replica:0/task:0/device:CPU:0 then broadcast to ('/replica:0/task:0/device:CPU:0',).\n",
      "INFO:tensorflow:Reduce to /replica:0/task:0/device:CPU:0 then broadcast to ('/replica:0/task:0/device:CPU:0',).\n",
      "INFO:tensorflow:Reduce to /replica:0/task:0/device:CPU:0 then broadcast to ('/replica:0/task:0/device:CPU:0',).\n",
      "INFO:tensorflow:Reduce to /replica:0/task:0/device:CPU:0 then broadcast to ('/replica:0/task:0/device:CPU:0',).\n",
      "INFO:tensorflow:Reduce to /replica:0/task:0/device:CPU:0 then broadcast to ('/replica:0/task:0/device:CPU:0',).\n",
      "INFO:tensorflow:Reduce to /replica:0/task:0/device:CPU:0 then broadcast to ('/replica:0/task:0/device:CPU:0',).\n",
      "INFO:tensorflow:Reduce to /replica:0/task:0/device:CPU:0 then broadcast to ('/replica:0/task:0/device:CPU:0',).\n",
      "INFO:tensorflow:Done calling model_fn.\n",
      "INFO:tensorflow:Warm-starting with WarmStartSettings: WarmStartSettings(ckpt_to_initialize_from='/var/folders/q1/d82dt4ns3kd7h9yk5cv3ysfr0000gn/T/tmpuqoa7eyd/keras/keras_model.ckpt', vars_to_warm_start='.*', var_name_to_vocab_info={}, var_name_to_prev_var_name={})\n",
      "INFO:tensorflow:Warm-starting from: /var/folders/q1/d82dt4ns3kd7h9yk5cv3ysfr0000gn/T/tmpuqoa7eyd/keras/keras_model.ckpt\n",
      "INFO:tensorflow:Warm-starting variables only in TRAINABLE_VARIABLES.\n",
      "INFO:tensorflow:Warm-started 10 variables.\n",
      "INFO:tensorflow:Create CheckpointSaverHook.\n",
      "INFO:tensorflow:Graph was finalized.\n",
      "INFO:tensorflow:Running local_init_op.\n",
      "INFO:tensorflow:Done running local_init_op.\n",
      "INFO:tensorflow:Saving checkpoints for 0 into /var/folders/q1/d82dt4ns3kd7h9yk5cv3ysfr0000gn/T/tmpuqoa7eyd/model.ckpt.\n",
      "INFO:tensorflow:loss = 2.301134, step = 0\n",
      "INFO:tensorflow:global_step/sec: 5.91369\n",
      "INFO:tensorflow:loss = 2.25226, step = 100 (16.914 sec)\n",
      "INFO:tensorflow:global_step/sec: 6.6442\n",
      "INFO:tensorflow:loss = 2.0619695, step = 200 (15.047 sec)\n",
      "INFO:tensorflow:global_step/sec: 6.34978\n",
      "INFO:tensorflow:loss = 1.2604655, step = 300 (15.750 sec)\n",
      "INFO:tensorflow:global_step/sec: 6.6863\n",
      "INFO:tensorflow:loss = 1.0026364, step = 400 (14.956 sec)\n",
      "INFO:tensorflow:global_step/sec: 6.43241\n",
      "INFO:tensorflow:loss = 0.973356, step = 500 (15.546 sec)\n",
      "INFO:tensorflow:global_step/sec: 6.68417\n",
      "INFO:tensorflow:loss = 0.87097204, step = 600 (14.960 sec)\n",
      "INFO:tensorflow:global_step/sec: 6.76175\n",
      "INFO:tensorflow:loss = 0.812414, step = 700 (14.790 sec)\n",
      "INFO:tensorflow:global_step/sec: 6.09889\n",
      "INFO:tensorflow:loss = 0.78341395, step = 800 (16.395 sec)\n",
      "INFO:tensorflow:global_step/sec: 6.46183\n",
      "INFO:tensorflow:loss = 0.6959876, step = 900 (15.475 sec)\n",
      "INFO:tensorflow:global_step/sec: 6.79032\n",
      "INFO:tensorflow:loss = 0.73975295, step = 1000 (14.727 sec)\n",
      "INFO:tensorflow:global_step/sec: 6.77466\n",
      "INFO:tensorflow:loss = 0.7032063, step = 1100 (14.760 sec)\n",
      "INFO:tensorflow:global_step/sec: 6.98099\n",
      "INFO:tensorflow:loss = 0.68687946, step = 1200 (14.325 sec)\n",
      "INFO:tensorflow:global_step/sec: 6.81327\n",
      "INFO:tensorflow:loss = 0.5852237, step = 1300 (14.677 sec)\n",
      "INFO:tensorflow:global_step/sec: 6.66759\n",
      "INFO:tensorflow:loss = 0.59904635, step = 1400 (14.998 sec)\n",
      "INFO:tensorflow:global_step/sec: 6.79736\n",
      "INFO:tensorflow:loss = 0.58278173, step = 1500 (14.714 sec)\n",
      "INFO:tensorflow:global_step/sec: 6.97729\n",
      "INFO:tensorflow:loss = 0.5819555, step = 1600 (14.330 sec)\n",
      "INFO:tensorflow:global_step/sec: 6.61646\n",
      "INFO:tensorflow:loss = 0.56179106, step = 1700 (15.115 sec)\n",
      "INFO:tensorflow:global_step/sec: 7.10136\n",
      "INFO:tensorflow:loss = 0.618235, step = 1800 (14.081 sec)\n",
      "INFO:tensorflow:global_step/sec: 6.88415\n",
      "INFO:tensorflow:loss = 0.55370694, step = 1900 (14.526 sec)\n",
      "INFO:tensorflow:global_step/sec: 7.04494\n",
      "INFO:tensorflow:loss = 0.49906722, step = 2000 (14.196 sec)\n",
      "INFO:tensorflow:global_step/sec: 6.88726\n",
      "INFO:tensorflow:loss = 0.52971137, step = 2100 (14.520 sec)\n",
      "INFO:tensorflow:global_step/sec: 6.31648\n",
      "INFO:tensorflow:loss = 0.5338659, step = 2200 (15.832 sec)\n",
      "INFO:tensorflow:global_step/sec: 6.80632\n",
      "INFO:tensorflow:loss = 0.539918, step = 2300 (14.691 sec)\n",
      "INFO:tensorflow:global_step/sec: 6.87943\n",
      "INFO:tensorflow:loss = 0.5259562, step = 2400 (14.536 sec)\n",
      "INFO:tensorflow:global_step/sec: 7.01233\n",
      "INFO:tensorflow:loss = 0.52248144, step = 2500 (14.261 sec)\n",
      "INFO:tensorflow:global_step/sec: 6.91541\n",
      "INFO:tensorflow:loss = 0.48798895, step = 2600 (14.460 sec)\n",
      "INFO:tensorflow:global_step/sec: 7.4146\n",
      "INFO:tensorflow:loss = 0.4467932, step = 2700 (13.487 sec)\n",
      "INFO:tensorflow:global_step/sec: 6.72786\n",
      "INFO:tensorflow:loss = 0.52056867, step = 2800 (14.865 sec)\n",
      "INFO:tensorflow:global_step/sec: 7.23581\n",
      "INFO:tensorflow:loss = 0.48594972, step = 2900 (13.821 sec)\n",
      "INFO:tensorflow:global_step/sec: 6.70172\n",
      "INFO:tensorflow:loss = 0.5168625, step = 3000 (14.920 sec)\n",
      "INFO:tensorflow:global_step/sec: 7.32079\n",
      "INFO:tensorflow:loss = 0.49882707, step = 3100 (13.660 sec)\n",
      "INFO:tensorflow:global_step/sec: 7.03563\n",
      "INFO:tensorflow:loss = 0.4757655, step = 3200 (14.214 sec)\n",
      "INFO:tensorflow:global_step/sec: 7.24177\n",
      "INFO:tensorflow:loss = 0.4670094, step = 3300 (13.808 sec)\n",
      "INFO:tensorflow:global_step/sec: 7.25824\n",
      "INFO:tensorflow:loss = 0.41044077, step = 3400 (13.779 sec)\n",
      "INFO:tensorflow:global_step/sec: 6.85276\n",
      "INFO:tensorflow:loss = 0.46789402, step = 3500 (14.592 sec)\n",
      "INFO:tensorflow:global_step/sec: 7.30303\n",
      "INFO:tensorflow:loss = 0.45360586, step = 3600 (13.693 sec)\n",
      "INFO:tensorflow:global_step/sec: 7.43066\n",
      "INFO:tensorflow:loss = 0.4229498, step = 3700 (13.458 sec)\n",
      "INFO:tensorflow:global_step/sec: 6.9338\n",
      "INFO:tensorflow:loss = 0.41953015, step = 3800 (14.421 sec)\n",
      "INFO:tensorflow:global_step/sec: 7.21973\n",
      "INFO:tensorflow:loss = 0.43478936, step = 3900 (13.851 sec)\n",
      "INFO:tensorflow:global_step/sec: 7.28472\n",
      "INFO:tensorflow:loss = 0.5133567, step = 4000 (13.727 sec)\n",
      "INFO:tensorflow:Saving checkpoints for 4050 into /var/folders/q1/d82dt4ns3kd7h9yk5cv3ysfr0000gn/T/tmpuqoa7eyd/model.ckpt.\n",
      "INFO:tensorflow:global_step/sec: 6.11684\n",
      "INFO:tensorflow:loss = 0.4603111, step = 4100 (16.349 sec)\n",
      "INFO:tensorflow:global_step/sec: 7.23149\n",
      "INFO:tensorflow:loss = 0.39228427, step = 4200 (13.828 sec)\n",
      "INFO:tensorflow:global_step/sec: 6.89168\n",
      "INFO:tensorflow:loss = 0.43540215, step = 4300 (14.511 sec)\n",
      "INFO:tensorflow:global_step/sec: 6.98216\n",
      "INFO:tensorflow:loss = 0.40907234, step = 4400 (14.322 sec)\n",
      "INFO:tensorflow:global_step/sec: 7.21586\n",
      "INFO:tensorflow:loss = 0.3788538, step = 4500 (13.860 sec)\n",
      "INFO:tensorflow:global_step/sec: 7.59962\n",
      "INFO:tensorflow:loss = 0.47441623, step = 4600 (13.157 sec)\n",
      "INFO:tensorflow:global_step/sec: 7.72428\n",
      "INFO:tensorflow:loss = 0.4334597, step = 4700 (12.949 sec)\n",
      "INFO:tensorflow:global_step/sec: 7.31923\n",
      "INFO:tensorflow:loss = 0.41354594, step = 4800 (13.660 sec)\n",
      "INFO:tensorflow:global_step/sec: 7.98561\n",
      "INFO:tensorflow:loss = 0.51274014, step = 4900 (12.523 sec)\n",
      "INFO:tensorflow:global_step/sec: 7.8248\n",
      "INFO:tensorflow:loss = 0.43143517, step = 5000 (12.779 sec)\n",
      "INFO:tensorflow:global_step/sec: 8.31688\n",
      "INFO:tensorflow:loss = 0.40659073, step = 5100 (12.023 sec)\n",
      "INFO:tensorflow:global_step/sec: 7.85616\n",
      "INFO:tensorflow:loss = 0.39629203, step = 5200 (12.730 sec)\n",
      "INFO:tensorflow:global_step/sec: 7.93082\n",
      "INFO:tensorflow:loss = 0.46231237, step = 5300 (12.608 sec)\n",
      "INFO:tensorflow:global_step/sec: 8.25097\n",
      "INFO:tensorflow:loss = 0.440845, step = 5400 (12.120 sec)\n",
      "INFO:tensorflow:global_step/sec: 7.75051\n",
      "INFO:tensorflow:loss = 0.4122209, step = 5500 (12.903 sec)\n",
      "INFO:tensorflow:global_step/sec: 8.37304\n",
      "INFO:tensorflow:loss = 0.46459347, step = 5600 (11.943 sec)\n",
      "INFO:tensorflow:global_step/sec: 7.64335\n",
      "INFO:tensorflow:loss = 0.38252938, step = 5700 (13.084 sec)\n",
      "INFO:tensorflow:global_step/sec: 7.90807\n",
      "INFO:tensorflow:loss = 0.46632314, step = 5800 (12.646 sec)\n",
      "INFO:tensorflow:Saving checkpoints for 5860 into /var/folders/q1/d82dt4ns3kd7h9yk5cv3ysfr0000gn/T/tmpuqoa7eyd/model.ckpt.\n",
      "INFO:tensorflow:Loss for final step: 0.49106836.\n",
      "<tensorflow_estimator.python.estimator.estimator.EstimatorV2 object at 0x7fa3755d9710>\n"
     ]
    }
   ],
   "source": [
    "BATCH_SIZE = 512\n",
    "EPOCHS = 50\n",
    "estimator_train_result = estimator.train(input_fn = lambda:input_fn(train_images, train_labels, epochs=EPOCHS, batch_size=BATCH_SIZE))\n",
    "print(estimator_train_result)"
   ]
  },
  {
   "cell_type": "code",
   "execution_count": 10,
   "metadata": {},
   "outputs": [
    {
     "name": "stdout",
     "output_type": "stream",
     "text": [
      "INFO:tensorflow:Calling model_fn.\n",
      "INFO:tensorflow:Done calling model_fn.\n",
      "INFO:tensorflow:Starting evaluation at 2022-06-14T22:28:08Z\n",
      "INFO:tensorflow:Graph was finalized.\n",
      "INFO:tensorflow:Restoring parameters from /var/folders/q1/d82dt4ns3kd7h9yk5cv3ysfr0000gn/T/tmpuqoa7eyd/model.ckpt-5860\n",
      "INFO:tensorflow:Running local_init_op.\n",
      "INFO:tensorflow:Done running local_init_op.\n",
      "INFO:tensorflow:Finished evaluation at 2022-06-14-22:28:10\n",
      "INFO:tensorflow:Saving dict for global step 5860: accuracy = 0.8391, global_step = 5860, loss = 0.4461836\n",
      "INFO:tensorflow:Saving 'checkpoint_path' summary for global step 5860: /var/folders/q1/d82dt4ns3kd7h9yk5cv3ysfr0000gn/T/tmpuqoa7eyd/model.ckpt-5860\n"
     ]
    },
    {
     "data": {
      "text/plain": [
       "{'accuracy': 0.8391, 'loss': 0.4461836, 'global_step': 5860}"
      ]
     },
     "execution_count": 10,
     "metadata": {},
     "output_type": "execute_result"
    }
   ],
   "source": [
    "estimator.evaluate(lambda:input_fn(test_images, test_labels, epochs=1, batch_size=BATCH_SIZE))"
   ]
  }
 ],
 "metadata": {
  "interpreter": {
   "hash": "e075f35889cf4896b84e6091500e0536ffb720a60a1416c24df33b82d7beac2d"
  },
  "kernelspec": {
   "display_name": "Python 3.7.7 ('ML_env')",
   "language": "python",
   "name": "python3"
  },
  "language_info": {
   "codemirror_mode": {
    "name": "ipython",
    "version": 3
   },
   "file_extension": ".py",
   "mimetype": "text/x-python",
   "name": "python",
   "nbconvert_exporter": "python",
   "pygments_lexer": "ipython3",
   "version": "3.7.7"
  },
  "orig_nbformat": 4
 },
 "nbformat": 4,
 "nbformat_minor": 2
}
