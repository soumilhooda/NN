{
  "nbformat": 4,
  "nbformat_minor": 0,
  "metadata": {
    "colab": {
      "name": "LinearRegression_GDTypesWOLambda.ipynb",
      "provenance": [],
      "authorship_tag": "ABX9TyNgU3TWhK/Xoz7E4RF4A2V+",
      "include_colab_link": true
    },
    "kernelspec": {
      "name": "python3",
      "display_name": "Python 3"
    },
    "language_info": {
      "name": "python"
    }
  },
  "cells": [
    {
      "cell_type": "markdown",
      "metadata": {
        "id": "view-in-github",
        "colab_type": "text"
      },
      "source": [
        "<a href=\"https://colab.research.google.com/github/soumilhooda/MLDLNNtoCV/blob/main/LinearRegression_GDTypesWOLambda_NNFL.ipynb\" target=\"_parent\"><img src=\"https://colab.research.google.com/assets/colab-badge.svg\" alt=\"Open In Colab\"/></a>"
      ]
    },
    {
      "cell_type": "code",
      "execution_count": 1,
      "metadata": {
        "colab": {
          "base_uri": "https://localhost:8080/"
        },
        "id": "FFyV_Jwl8Q-w",
        "outputId": "a586ee59-f7c0-4e72-9e19-e56ab49097a9"
      },
      "outputs": [
        {
          "output_type": "stream",
          "name": "stdout",
          "text": [
            "Drive already mounted at /content/drive; to attempt to forcibly remount, call drive.mount(\"/content/drive\", force_remount=True).\n"
          ]
        }
      ],
      "source": [
        "from google.colab import drive\n",
        "drive.mount('/content/drive')"
      ]
    },
    {
      "cell_type": "code",
      "source": [
        "import pandas as pd\n",
        "import numpy as np\n",
        "import math \n",
        "import matplotlib.pyplot as plt\n",
        "import numpy.random as nr"
      ],
      "metadata": {
        "id": "P_p4LPJs9bEO"
      },
      "execution_count": 2,
      "outputs": []
    },
    {
      "cell_type": "code",
      "source": [
        "def cost_function(X,y,w):\n",
        "  hypothesis = np.dot(X,w.T)\n",
        "  J = 1/(2*len(y))*np.sum((hypothesis-y)**2)\n",
        "  return J"
      ],
      "metadata": {
        "id": "jpz-qKYR9qlv"
      },
      "execution_count": 3,
      "outputs": []
    },
    {
      "cell_type": "code",
      "source": [
        "def batch_gd(X,y,w,alpha,iters):\n",
        "  cost_history = np.zeros(iters)\n",
        "  for i in range(iters):\n",
        "    hypothesis = np.dot(X,w.T)\n",
        "    w = w - alpha/len(y)*np.dot(hypothesis-y,X)\n",
        "    cost_history[i] = cost_function(X,y,w)\n",
        "  return w, cost_history\n"
      ],
      "metadata": {
        "id": "0fJhJX2C-O1a"
      },
      "execution_count": 4,
      "outputs": []
    },
    {
      "cell_type": "code",
      "source": [
        "def MB_gd(X,y,w,alpha,iters,bath_size):\n",
        "  cost_history = np.zeros(iters)\n",
        "  for i in range(iters):\n",
        "    rand_index = nr.randint(len(y)-batch_size)\n",
        "    ind_x = X[rand_index:rand_index+batch_size]\n",
        "    ind_y = y[rand_index:rand_index+batch_size]\n",
        "    w = w - alpha/batch_size * (ind_x.T.dot(ind_x.dot(w)-ind_y))\n",
        "    cost_history[i] = cost_function(ind_x,ind_y,w)\n",
        "  return w, cost_history"
      ],
      "metadata": {
        "id": "w42U5qhO-zdV"
      },
      "execution_count": 16,
      "outputs": []
    },
    {
      "cell_type": "code",
      "source": [
        "def S_gd(X,y,w,alpha,iters):\n",
        "  cost_history = np.zeros(iters)\n",
        "  for i in range(iters):\n",
        "    rand_index = nr.randint(len(y)-1)\n",
        "    ind_x = X[rand_index:rand_index+1]\n",
        "    ind_y = y[rand_index:rand_index+1]\n",
        "    w = w - alpha * (ind_x.T.dot(ind_x.dot(w)-ind_y))\n",
        "    cost_history[i] = cost_function(ind_x,ind_y,w)\n",
        "  return w, cost_history\n"
      ],
      "metadata": {
        "id": "ap_7AEwC_yNG"
      },
      "execution_count": 21,
      "outputs": []
    },
    {
      "cell_type": "code",
      "source": [
        "data = pd.read_excel('/content/drive/MyDrive/data_NNFL1stTut.xlsx',header=None)\n",
        "print(data)"
      ],
      "metadata": {
        "colab": {
          "base_uri": "https://localhost:8080/"
        },
        "id": "4q7UqAXXBCiP",
        "outputId": "17bb21d9-0b7e-43fc-a273-39dd13bab124"
      },
      "execution_count": 7,
      "outputs": [
        {
          "output_type": "stream",
          "name": "stdout",
          "text": [
            "       0        1       2\n",
            "0    2.6  1360.00  13.600\n",
            "1    2.0  1292.25  13.300\n",
            "2    2.2  1402.00  11.900\n",
            "3    2.2  1375.50  11.000\n",
            "4    1.6  1272.25  11.150\n",
            "..   ...      ...     ...\n",
            "344  0.7   902.00   9.100\n",
            "345  0.7   921.25   9.475\n",
            "346  0.5   858.25   9.325\n",
            "347  0.5   878.00   9.900\n",
            "348  0.6   892.50   7.550\n",
            "\n",
            "[349 rows x 3 columns]\n"
          ]
        }
      ]
    },
    {
      "cell_type": "code",
      "source": [
        "datan = data.values\n",
        "X = datan[:,[0,1]]\n",
        "m = X.shape[0] #0 is column, 1 is row\n",
        "xmin = np.min(X, axis=0)\n",
        "xmax = np.max(X, axis=0)\n",
        "X = ((X - xmin)/(xmax - xmin))\n",
        "print(X)"
      ],
      "metadata": {
        "colab": {
          "base_uri": "https://localhost:8080/"
        },
        "id": "LwHAGxHdDOLL",
        "outputId": "6d27843b-79e4-48aa-85ab-6d27a42be77d"
      },
      "execution_count": 8,
      "outputs": [
        {
          "output_type": "stream",
          "name": "stdout",
          "text": [
            "[[0.9735704  0.43764219]\n",
            " [0.97068717 0.38159255]\n",
            " [0.97164825 0.47238883]\n",
            " [0.97164825 0.45046536]\n",
            " [0.96876502 0.36504654]\n",
            " [0.96684286 0.30279214]\n",
            " [0.96684286 0.29286453]\n",
            " [0.96588179 0.25253361]\n",
            " [0.96540125 0.21758014]\n",
            " [0.96395963 0.14788004]\n",
            " [0.         0.14891417]\n",
            " [0.96444017 0.19441572]\n",
            " [0.96444017 0.18262668]\n",
            " [0.96636233 0.25894519]\n",
            " [0.97068717 0.41551189]\n",
            " [0.97164825 0.43019648]\n",
            " [0.96924556 0.3327818 ]\n",
            " [0.96828448 0.2876939 ]\n",
            " [0.96876502 0.33505688]\n",
            " [0.97020663 0.37600827]\n",
            " [0.97501201 0.4467425 ]\n",
            " [0.97164825 0.39627715]\n",
            " [0.97164825 0.3811789 ]\n",
            " [0.97501201 0.45667011]\n",
            " [0.98414224 0.62026887]\n",
            " [0.99423354 0.78138573]\n",
            " [0.99038924 0.66928645]\n",
            " [0.9798174  0.39855222]\n",
            " [0.96828448 0.11044467]\n",
            " [0.96588179 0.06763185]\n",
            " [0.96924556 0.20620476]\n",
            " [0.97020663 0.17600827]\n",
            " [0.96780394 0.12967942]\n",
            " [0.96492071 0.04777663]\n",
            " [0.         0.        ]\n",
            " [0.96395963 0.01344364]\n",
            " [0.96492071 0.07942089]\n",
            " [0.96780394 0.21468459]\n",
            " [0.98222009 0.6254395 ]\n",
            " [0.         0.59027921]\n",
            " [0.97597309 0.42957601]\n",
            " [0.97405094 0.35718718]\n",
            " [0.97116771 0.31044467]\n",
            " [0.97308986 0.34788004]\n",
            " [0.97405094 0.37724922]\n",
            " [0.97501201 0.43164426]\n",
            " [0.97453148 0.39544984]\n",
            " [0.97260932 0.36649431]\n",
            " [0.9798174  0.56132368]\n",
            " [0.97885632 0.57435367]\n",
            " [0.99279193 0.83722854]\n",
            " [0.98222009 0.63433299]\n",
            " [0.97789524 0.53981386]\n",
            " [0.98702547 0.70010341]\n",
            " [0.97405094 0.37104447]\n",
            " [0.97020663 0.30217166]\n",
            " [0.96876502 0.2918304 ]\n",
            " [0.96924556 0.28190279]\n",
            " [0.         0.26142709]\n",
            " [0.96588179 0.12182006]\n",
            " [0.96684286 0.2221303 ]\n",
            " [0.96828448 0.23267839]\n",
            " [0.97405094 0.41737332]\n",
            " [0.97885632 0.4776284 ]\n",
            " [0.97645363 0.50961737]\n",
            " [0.98077847 0.58779731]\n",
            " [0.97837578 0.5131334 ]\n",
            " [0.97453148 0.41137539]\n",
            " [0.97068717 0.3106515 ]\n",
            " [0.97068717 0.33795243]\n",
            " [0.97308986 0.39296794]\n",
            " [0.97212878 0.40951396]\n",
            " [0.97645363 0.53092037]\n",
            " [0.98125901 0.64364012]\n",
            " [0.98125901 0.6450879 ]\n",
            " [0.98125901 0.65315408]\n",
            " [0.97597309 0.5073423 ]\n",
            " [0.9735704  0.48562565]\n",
            " [0.97501201 0.5811789 ]\n",
            " [0.97453148 0.53981386]\n",
            " [0.97308986 0.44322647]\n",
            " [0.97260932 0.42440538]\n",
            " [0.         0.24694933]\n",
            " [0.96684286 0.19110651]\n",
            " [0.96588179 0.2024819 ]\n",
            " [0.96540125 0.16318511]\n",
            " [0.96780394 0.26763185]\n",
            " [0.96876502 0.3344364 ]\n",
            " [0.97164825 0.41406412]\n",
            " [0.97453148 0.50775595]\n",
            " [0.97453148 0.48355739]\n",
            " [0.97068717 0.37249224]\n",
            " [0.96972609 0.31127198]\n",
            " [0.97020663 0.35305067]\n",
            " [0.97549255 0.51851086]\n",
            " [0.97501201 0.50196484]\n",
            " [0.97308986 0.53505688]\n",
            " [0.98318116 0.80785936]\n",
            " [0.98942816 0.88273009]\n",
            " [0.9774147  0.60268873]\n",
            " [0.97116771 0.40806618]\n",
            " [0.97164825 0.42833506]\n",
            " [0.96972609 0.33733195]\n",
            " [0.96972609 0.33753878]\n",
            " [0.96972609 0.32492244]\n",
            " [0.96636233 0.20455016]\n",
            " [0.         0.20392968]\n",
            " [0.96588179 0.20144778]\n",
            " [0.96780394 0.26949328]\n",
            " [0.97164825 0.39958635]\n",
            " [0.98750601 0.79896587]\n",
            " [1.         0.93505688]\n",
            " [0.98894762 0.77724922]\n",
            " [0.98125901 0.60599793]\n",
            " [0.97597309 0.49555326]\n",
            " [0.97501201 0.48500517]\n",
            " [0.97501201 0.47094105]\n",
            " [0.97308986 0.40227508]\n",
            " [0.97212878 0.40268873]\n",
            " [0.97453148 0.5081696 ]\n",
            " [0.99038924 0.89844881]\n",
            " [0.99951946 1.        ]\n",
            " [0.99231139 0.88004137]\n",
            " [0.98125901 0.63164426]\n",
            " [0.97645363 0.50258532]\n",
            " [0.96780394 0.25687694]\n",
            " [0.97116771 0.39103757]\n",
            " [0.96684286 0.20124095]\n",
            " [0.96492071 0.11334023]\n",
            " [0.96444017 0.08128232]\n",
            " [0.         0.0910031 ]\n",
            " [0.96395963 0.0876939 ]\n",
            " [0.96540125 0.15387797]\n",
            " [0.9673234  0.28148914]\n",
            " [0.9774147  0.58738366]\n",
            " [0.97885632 0.58593588]\n",
            " [0.98654493 0.74767322]\n",
            " [0.98077847 0.61220269]\n",
            " [0.97693417 0.51354705]\n",
            " [0.98029793 0.6188211 ]\n",
            " [0.97933686 0.52554292]\n",
            " [0.97453148 0.37125129]\n",
            " [0.97501201 0.47652534]\n",
            " [0.97501201 0.46142709]\n",
            " [0.9774147  0.5098242 ]\n",
            " [0.9798174  0.59565667]\n",
            " [0.97645363 0.53154085]\n",
            " [0.98558385 0.80124095]\n",
            " [0.9735704  0.45356774]\n",
            " [0.96924556 0.30568769]\n",
            " [0.96924556 0.30920372]\n",
            " [0.96684286 0.19896587]\n",
            " [0.96540125 0.13795243]\n",
            " [0.96444017 0.08459152]\n",
            " [0.         0.04281282]\n",
            " [0.9634791  0.03123061]\n",
            " [0.9634791  0.04943123]\n",
            " [0.96876502 0.28273009]\n",
            " [0.98077847 0.62564633]\n",
            " [0.99279193 0.8442606 ]\n",
            " [0.98173955 0.57125129]\n",
            " [0.97501201 0.50237849]\n",
            " [0.97308986 0.46514995]\n",
            " [0.97453148 0.51375388]\n",
            " [0.9735704  0.46184074]\n",
            " [0.97068717 0.31106515]\n",
            " [0.97501201 0.44198552]\n",
            " [0.97308986 0.34415719]\n",
            " [0.98510332 0.60041365]\n",
            " [0.99759731 0.94436401]\n",
            " [0.99327247 0.94622544]\n",
            " [0.98846708 0.79731127]\n",
            " [0.97453148 0.50692865]\n",
            " [0.9735704  0.54353671]\n",
            " [0.97212878 0.44694933]\n",
            " [0.96780394 0.27280248]\n",
            " [0.96588179 0.19296794]\n",
            " [0.96444017 0.11520165]\n",
            " [0.         0.10175801]\n",
            " [0.96395963 0.08231644]\n",
            " [0.96444017 0.0885212 ]\n",
            " [0.96828448 0.27735264]\n",
            " [0.9836617  0.67176836]\n",
            " [0.99279193 0.91251293]\n",
            " [0.98270062 0.64984488]\n",
            " [0.97453148 0.53092037]\n",
            " [0.97164825 0.45294726]\n",
            " [0.97164825 0.45853154]\n",
            " [0.97212878 0.45315408]\n",
            " [0.97164825 0.40592899]\n",
            " [0.97453148 0.54994829]\n",
            " [0.97405094 0.47797311]\n",
            " [0.97885632 0.56401241]\n",
            " [0.98558385 0.69162358]\n",
            " [0.98558385 0.69141675]\n",
            " [0.97645363 0.49576008]\n",
            " [0.97116771 0.41551189]\n",
            " [0.96924556 0.35615305]\n",
            " [0.97068717 0.37745605]\n",
            " [0.96876502 0.25087901]\n",
            " [0.96540125 0.13877973]\n",
            " [0.96444017 0.1073423 ]\n",
            " [0.         0.08500517]\n",
            " [0.9634791  0.06763185]\n",
            " [0.96444017 0.11437435]\n",
            " [0.96828448 0.28996898]\n",
            " [0.98414224 0.75222337]\n",
            " [0.99086977 0.81758014]\n",
            " [0.98029793 0.49307135]\n",
            " [0.97693417 0.46204757]\n",
            " [0.97453148 0.37394002]\n",
            " [0.97549255 0.39089969]\n",
            " [0.97693417 0.4409514 ]\n",
            " [0.97789524 0.47880041]\n",
            " [0.98029793 0.5336091 ]\n",
            " [0.98318116 0.57166494]\n",
            " [0.98077847 0.50527404]\n",
            " [0.98270062 0.52781799]\n",
            " [0.9798174  0.52637022]\n",
            " [0.98029793 0.4876939 ]\n",
            " [0.97164825 0.28459152]\n",
            " [0.97116771 0.31768356]\n",
            " [0.96924556 0.24467425]\n",
            " [0.96876502 0.21447777]\n",
            " [0.9673234  0.15387797]\n",
            " [0.9673234  0.13753878]\n",
            " [0.         0.09410548]\n",
            " [0.96492071 0.10320579]\n",
            " [0.96492071 0.11189245]\n",
            " [0.96636233 0.19276112]\n",
            " [0.97116771 0.38779731]\n",
            " [0.97260932 0.42771458]\n",
            " [0.9735704  0.4910031 ]\n",
            " [0.97453148 0.53174767]\n",
            " [0.9735704  0.54498449]\n",
            " [0.9735704  0.54912099]\n",
            " [0.97116771 0.45046536]\n",
            " [0.96924556 0.39193382]\n",
            " [0.96876502 0.37352637]\n",
            " [0.97116771 0.46432265]\n",
            " [0.97212878 0.5139607 ]\n",
            " [0.97789524 0.66349535]\n",
            " [0.9798174  0.65646329]\n",
            " [0.97693417 0.5820062 ]\n",
            " [0.97212878 0.40661841]\n",
            " [0.97116771 0.39544984]\n",
            " [0.97453148 0.51664943]\n",
            " [0.97116771 0.38759049]\n",
            " [0.96876502 0.3073423 ]\n",
            " [0.96876502 0.30093071]\n",
            " [0.         0.23640124]\n",
            " [0.96636233 0.19089969]\n",
            " [0.96444017 0.09596691]\n",
            " [0.96492071 0.19358842]\n",
            " [0.96684286 0.26763185]\n",
            " [0.96780394 0.32202689]\n",
            " [0.96924556 0.38862461]\n",
            " [0.96972609 0.37083764]\n",
            " [0.96972609 0.36070321]\n",
            " [0.97020663 0.33733195]\n",
            " [0.9673234  0.2459152 ]\n",
            " [0.96876502 0.34064116]\n",
            " [0.97020663 0.31189245]\n",
            " [0.97212878 0.39317477]\n",
            " [0.97933686 0.59110651]\n",
            " [0.97789524 0.55429162]\n",
            " [0.98173955 0.6401241 ]\n",
            " [0.97453148 0.4008273 ]\n",
            " [0.97020663 0.30113754]\n",
            " [0.97020663 0.31437435]\n",
            " [0.96924556 0.27321613]\n",
            " [0.96828448 0.21861427]\n",
            " [0.96395963 0.05460186]\n",
            " [0.96299856 0.00910031]\n",
            " [0.         0.0188211 ]\n",
            " [0.96251802 0.01158221]\n",
            " [0.96395963 0.09141675]\n",
            " [0.96684286 0.21447777]\n",
            " [0.97837578 0.56525336]\n",
            " [0.97885632 0.45315408]\n",
            " [0.96972609 0.20124095]\n",
            " [0.96876502 0.21406412]\n",
            " [0.97020663 0.23040331]\n",
            " [0.97068717 0.22399173]\n",
            " [0.97164825 0.2221303 ]\n",
            " [0.97116771 0.21737332]\n",
            " [0.97212878 0.20227508]\n",
            " [0.9735704  0.26535677]\n",
            " [0.97933686 0.47631851]\n",
            " [0.98222009 0.50175801]\n",
            " [0.98270062 0.4910031 ]\n",
            " [0.97693417 0.37021717]\n",
            " [0.97068717 0.24881075]\n",
            " [0.96636233 0.14498449]\n",
            " [0.96540125 0.12512927]\n",
            " [0.96492071 0.11375388]\n",
            " [0.96444017 0.09058945]\n",
            " [0.9634791  0.05046536]\n",
            " [0.         0.01985522]\n",
            " [0.96251802 0.00227508]\n",
            " [0.9634791  0.06411582]\n",
            " [0.96636233 0.19027921]\n",
            " [0.97549255 0.50444674]\n",
            " [0.97933686 0.55201655]\n",
            " [0.9774147  0.42337125]\n",
            " [0.97549255 0.39462254]\n",
            " [0.97405094 0.31271975]\n",
            " [0.97789524 0.39648397]\n",
            " [0.97453148 0.28107549]\n",
            " [0.97020663 0.23247156]\n",
            " [0.97068717 0.24901758]\n",
            " [0.97549255 0.32595657]\n",
            " [0.97020663 0.19317477]\n",
            " [0.97405094 0.3352637 ]\n",
            " [0.97693417 0.39503619]\n",
            " [0.96924556 0.21344364]\n",
            " [0.9673234  0.13953809]\n",
            " [0.9673234  0.17394002]\n",
            " [0.96684286 0.17683557]\n",
            " [0.96636233 0.13753878]\n",
            " [0.96540125 0.09700103]\n",
            " [0.96395963 0.03908997]\n",
            " [0.         0.06328852]\n",
            " [0.96395963 0.05067218]\n",
            " [0.96492071 0.10155119]\n",
            " [0.96684286 0.17724922]\n",
            " [0.97597309 0.45646329]\n",
            " [0.98222009 0.63391934]\n",
            " [0.9774147  0.4024819 ]\n",
            " [0.96924556 0.25377456]\n",
            " [0.96828448 0.2204757 ]\n",
            " [0.96924556 0.23702172]\n",
            " [0.97164825 0.28066184]\n",
            " [0.         0.23267839]\n",
            " [0.97405094 0.46204757]\n",
            " [0.97453148 0.43205791]\n",
            " [0.97405094 0.35511892]\n",
            " [0.98270062 0.55449845]\n",
            " [0.97789524 0.36525336]\n",
            " [0.9735704  0.28748707]\n",
            " [0.96924556 0.17849018]\n",
            " [0.9673234  0.11706308]\n",
            " [0.9673234  0.13733195]\n",
            " [0.96588179 0.11458118]\n",
            " [0.96444017 0.05873837]\n",
            " [0.96444017 0.07466391]\n",
            " [0.9634791  0.02254395]\n",
            " [0.9634791  0.03888314]\n",
            " [0.96395963 0.05087901]]\n"
          ]
        }
      ]
    },
    {
      "cell_type": "code",
      "source": [
        "pp = np.ones([m,1])\n",
        "X = np.append(pp,X,axis=1)\n",
        "print(X)"
      ],
      "metadata": {
        "colab": {
          "base_uri": "https://localhost:8080/"
        },
        "id": "9fDsB8-JHgV5",
        "outputId": "b4608f5b-4ff2-4900-c7c7-6a2f36970acf"
      },
      "execution_count": 9,
      "outputs": [
        {
          "output_type": "stream",
          "name": "stdout",
          "text": [
            "[[1.         0.9735704  0.43764219]\n",
            " [1.         0.97068717 0.38159255]\n",
            " [1.         0.97164825 0.47238883]\n",
            " ...\n",
            " [1.         0.9634791  0.02254395]\n",
            " [1.         0.9634791  0.03888314]\n",
            " [1.         0.96395963 0.05087901]]\n"
          ]
        }
      ]
    },
    {
      "cell_type": "code",
      "source": [
        "y = datan[:,2]\n",
        "ymin = np.min(y, axis=0)\n",
        "ymax = np.max(y, axis=0)\n",
        "y = ((y - ymin)/(ymax - ymin))"
      ],
      "metadata": {
        "id": "UQvy8YIjEZaC"
      },
      "execution_count": 10,
      "outputs": []
    },
    {
      "cell_type": "code",
      "source": [
        "w = np.zeros(X.shape[1])\n",
        "print(w)"
      ],
      "metadata": {
        "colab": {
          "base_uri": "https://localhost:8080/"
        },
        "id": "coD46efBEoPi",
        "outputId": "d8b33c44-1175-49b5-ed33-42e77b2411bf"
      },
      "execution_count": 11,
      "outputs": [
        {
          "output_type": "stream",
          "name": "stdout",
          "text": [
            "[0. 0. 0.]\n"
          ]
        }
      ]
    },
    {
      "cell_type": "markdown",
      "source": [
        "Let us try out Batch Gradient Descent first."
      ],
      "metadata": {
        "id": "v-o556qgG7FL"
      }
    },
    {
      "cell_type": "code",
      "source": [
        "alpha = 0.05\n",
        "iters = 100\n",
        "batch_w, J_his = batch_gd(X,y,w,alpha,iters)"
      ],
      "metadata": {
        "id": "63zrHi59Ez6H"
      },
      "execution_count": 12,
      "outputs": []
    },
    {
      "cell_type": "code",
      "source": [
        "plt.plot(range(iters),J_his)\n",
        "plt.show()"
      ],
      "metadata": {
        "colab": {
          "base_uri": "https://localhost:8080/",
          "height": 265
        },
        "id": "xs4OIqe-HAGa",
        "outputId": "7024a58c-d204-4bd4-b8af-b42d2e0bc019"
      },
      "execution_count": 13,
      "outputs": [
        {
          "output_type": "display_data",
          "data": {
            "image/png": "[encoded data removed]",
            "text/plain": [
              "<Figure size 432x288 with 1 Axes>"
            ]
          },
          "metadata": {
            "needs_background": "light"
          }
        }
      ]
    },
    {
      "cell_type": "code",
      "source": [
        "print(batch_w)"
      ],
      "metadata": {
        "colab": {
          "base_uri": "https://localhost:8080/"
        },
        "id": "oQyp0zBtHRwm",
        "outputId": "3c088245-f423-4a65-91fd-847ef8a932b6"
      },
      "execution_count": 14,
      "outputs": [
        {
          "output_type": "stream",
          "name": "stdout",
          "text": [
            "[0.18179998 0.16724029 0.11937219]\n"
          ]
        }
      ]
    },
    {
      "cell_type": "markdown",
      "source": [
        "Let us try out Mini Batch Gradient now."
      ],
      "metadata": {
        "id": "Moks7Fy2t8j-"
      }
    },
    {
      "cell_type": "code",
      "source": [
        "alpha = 0.005\n",
        "iters = 1200\n",
        "batch_size = 50\n",
        "mini_batch_w, J_mini_batch = MB_gd(X,y,w,alpha,iters,batch_size)"
      ],
      "metadata": {
        "id": "jnszg4xGuBzo"
      },
      "execution_count": 17,
      "outputs": []
    },
    {
      "cell_type": "code",
      "source": [
        "plt.plot(range(iters),J_mini_batch)\n",
        "plt.show()"
      ],
      "metadata": {
        "colab": {
          "base_uri": "https://localhost:8080/",
          "height": 268
        },
        "id": "HxlCtlsVueWE",
        "outputId": "1d6c4f39-48bf-49e7-e96d-00ffa78d499e"
      },
      "execution_count": 18,
      "outputs": [
        {
          "output_type": "display_data",
          "data": {
            "image/png": "[encoded data removed]",
            "text/plain": [
              "<Figure size 432x288 with 1 Axes>"
            ]
          },
          "metadata": {
            "needs_background": "light"
          }
        }
      ]
    },
    {
      "cell_type": "code",
      "source": [
        "print(mini_batch_w)"
      ],
      "metadata": {
        "colab": {
          "base_uri": "https://localhost:8080/"
        },
        "id": "u0VT1R5zujQL",
        "outputId": "9dac918a-bb22-46fd-e3c9-203659bfd895"
      },
      "execution_count": 19,
      "outputs": [
        {
          "output_type": "stream",
          "name": "stdout",
          "text": [
            "[0.19908918 0.18313934 0.12702786]\n"
          ]
        }
      ]
    },
    {
      "cell_type": "markdown",
      "source": [
        "Let us finally try out Stochastic Gradient Descent. I will soon right another piece to test out the 18 regression possibilities using lambda. "
      ],
      "metadata": {
        "id": "KCYGDmz7um7u"
      }
    },
    {
      "cell_type": "code",
      "source": [
        "alpha = 0.01\n",
        "n_epochs = 3000\n",
        "s_w, J_s = S_gd(X,y,w,alpha,n_epochs)"
      ],
      "metadata": {
        "id": "l-DRULueu96O"
      },
      "execution_count": 22,
      "outputs": []
    },
    {
      "cell_type": "code",
      "source": [
        "plt.plot(range(n_epochs),J_s)\n",
        "plt.show()"
      ],
      "metadata": {
        "colab": {
          "base_uri": "https://localhost:8080/",
          "height": 266
        },
        "id": "jzlOALayvOG3",
        "outputId": "7de34996-2962-476e-b943-ed691e6fd103"
      },
      "execution_count": 24,
      "outputs": [
        {
          "output_type": "display_data",
          "data": {
            "image/png": "[encoded data removed]",
            "text/plain": [
              "<Figure size 432x288 with 1 Axes>"
            ]
          },
          "metadata": {
            "needs_background": "light"
          }
        }
      ]
    },
    {
      "cell_type": "code",
      "source": [
        "print(s_w)"
      ],
      "metadata": {
        "colab": {
          "base_uri": "https://localhost:8080/"
        },
        "id": "4o_mxR8evYYh",
        "outputId": "a1392461-a8d3-4c03-b2d8-e097475d12e4"
      },
      "execution_count": 25,
      "outputs": [
        {
          "output_type": "stream",
          "name": "stdout",
          "text": [
            "[0.18549268 0.16809617 0.31546594]\n"
          ]
        }
      ]
    }
  ]
}