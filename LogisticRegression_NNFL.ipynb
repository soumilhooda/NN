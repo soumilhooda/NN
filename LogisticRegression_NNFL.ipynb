{
  "nbformat": 4,
  "nbformat_minor": 0,
  "metadata": {
    "colab": {
      "name": "LogisticRegression_NNFL.ipynb",
      "provenance": [],
      "authorship_tag": "ABX9TyPUUzu3043EPw1SBQ2lDXOt",
      "include_colab_link": true
    },
    "kernelspec": {
      "name": "python3",
      "display_name": "Python 3"
    },
    "language_info": {
      "name": "python"
    }
  },
  "cells": [
    {
      "cell_type": "markdown",
      "metadata": {
        "id": "view-in-github",
        "colab_type": "text"
      },
      "source": [
        "<a href=\"https://colab.research.google.com/github/soumilhooda/MLDLNNtoCV/blob/main/LogisticRegression_NNFL.ipynb\" target=\"_parent\"><img src=\"https://colab.research.google.com/assets/colab-badge.svg\" alt=\"Open In Colab\"/></a>"
      ]
    },
    {
      "cell_type": "code",
      "execution_count": 4,
      "metadata": {
        "colab": {
          "base_uri": "https://localhost:8080/"
        },
        "id": "0gEVy-Pqz_yP",
        "outputId": "a50c5041-7ae1-483c-ac26-b6cabf659e90"
      },
      "outputs": [
        {
          "output_type": "stream",
          "name": "stdout",
          "text": [
            "Mounted at /content/drive\n"
          ]
        }
      ],
      "source": [
        "from google.colab import drive\n",
        "drive.mount('/content/drive')"
      ]
    },
    {
      "cell_type": "code",
      "source": [
        "import pandas as pd\n",
        "import math\n",
        "import matplotlib.pyplot as plt\n",
        "import numpy as np\n",
        "np.random.seed(0)"
      ],
      "metadata": {
        "id": "3UEBZNBW0Gd7"
      },
      "execution_count": 5,
      "outputs": []
    },
    {
      "cell_type": "code",
      "source": [
        "pip install openpyxl==3.0.9"
      ],
      "metadata": {
        "colab": {
          "base_uri": "https://localhost:8080/"
        },
        "id": "GARh66tM0v51",
        "outputId": "10dca584-c3cf-482c-fed0-f1b89d921690"
      },
      "execution_count": 6,
      "outputs": [
        {
          "output_type": "stream",
          "name": "stdout",
          "text": [
            "Requirement already satisfied: openpyxl==3.0.9 in /usr/local/lib/python3.7/dist-packages (3.0.9)\n",
            "Requirement already satisfied: et-xmlfile in /usr/local/lib/python3.7/dist-packages (from openpyxl==3.0.9) (1.1.0)\n"
          ]
        }
      ]
    },
    {
      "cell_type": "code",
      "source": [
        "data=pd.read_csv('/content/drive/MyDrive/data3.csv',header=None)\n",
        "print(data) #looks like a binary classification problem with classes 1 and 2"
      ],
      "metadata": {
        "colab": {
          "base_uri": "https://localhost:8080/"
        },
        "id": "hHwuuCB302nT",
        "outputId": "29036efb-85d9-4a60-8056-05b68ec5ffac"
      },
      "execution_count": 8,
      "outputs": [
        {
          "output_type": "stream",
          "name": "stdout",
          "text": [
            "      0    1    2    3  4\n",
            "0   5.1  3.5  1.4  0.2  1\n",
            "1   4.9  3.0  1.4  0.2  1\n",
            "2   4.7  3.2  1.3  0.2  1\n",
            "3   4.6  3.1  1.5  0.2  1\n",
            "4   5.0  3.6  1.4  0.2  1\n",
            "..  ...  ...  ...  ... ..\n",
            "95  5.7  3.0  4.2  1.2  2\n",
            "96  5.7  2.9  4.2  1.3  2\n",
            "97  6.2  2.9  4.3  1.3  2\n",
            "98  5.1  2.5  3.0  1.1  2\n",
            "99  5.7  2.8  4.1  1.3  2\n",
            "\n",
            "[100 rows x 5 columns]\n"
          ]
        }
      ]
    },
    {
      "cell_type": "code",
      "source": [
        "m = data.shape[0]\n",
        "datan=data.values\n",
        "y=datan[:,4] #class label\n",
        "X=datan[:,0:3] #feature matrix\n"
      ],
      "metadata": {
        "id": "7UGS8eZr1FZ_"
      },
      "execution_count": 9,
      "outputs": []
    },
    {
      "cell_type": "code",
      "source": [
        "xmin = np.min(X,axis=0)\n",
        "xmax = np.max(X, axis =0)\n",
        "X =(X-xmin)/(xmax-xmin) #normalisation\n",
        "\n"
      ],
      "metadata": {
        "id": "Fxx1NjPk15dY"
      },
      "execution_count": 10,
      "outputs": []
    },
    {
      "cell_type": "code",
      "source": [
        "pp = np.ones([m,1]) #vector containing only ones\n",
        "X = np.append(pp, X, axis=1) #appended to create bias\n",
        "y=y-1"
      ],
      "metadata": {
        "id": "qIYhVrn-2Jma"
      },
      "execution_count": 11,
      "outputs": []
    },
    {
      "cell_type": "code",
      "source": [
        "def sigmoid(z):\n",
        "  return 1.0/(1+np.exp(-z)) #activation function\n",
        "\n"
      ],
      "metadata": {
        "id": "hgKBmAMg2aIV"
      },
      "execution_count": 13,
      "outputs": []
    },
    {
      "cell_type": "code",
      "source": [
        "from sklearn.model_selection import train_test_split"
      ],
      "metadata": {
        "id": "S3ksgKw23YLE"
      },
      "execution_count": 15,
      "outputs": []
    },
    {
      "cell_type": "code",
      "source": [
        "X_train, X_test, y_train, y_test = train_test_split(X,y,test_size=0.3,random_state=0)"
      ],
      "metadata": {
        "id": "_7qbpu1U3laB"
      },
      "execution_count": 16,
      "outputs": []
    },
    {
      "cell_type": "code",
      "source": [
        "def cost_function(X,y,w):\n",
        "  hypothesis = sigmoid(np.dot(X,w.T))\n",
        "  J = -(1/m)*(np.sum(y*(np.log(hypothesis))+(1-y)*np.log(1-hypothesis)))\n",
        "  return J\n"
      ],
      "metadata": {
        "id": "T0YDQomH30sP"
      },
      "execution_count": 17,
      "outputs": []
    },
    {
      "cell_type": "code",
      "source": [
        "def batch_gradient_descent(X,y,w,aplha,iters):\n",
        "  cost_history = np.zeros(iters)\n",
        "  for i in range(iters):\n",
        "    hypothesis = sigmoid(np.dot(X,w.T))\n",
        "    w = w-(alpha/len(y))*np.dot(hypothesis-y,X)\n",
        "    cost_history[i] = cost_function(X,y,w)\n",
        "  return w, cost_history"
      ],
      "metadata": {
        "id": "IFCNEOPk49EX"
      },
      "execution_count": 29,
      "outputs": []
    },
    {
      "cell_type": "code",
      "source": [
        "def MB_gradient_descent(X,y,w,alpha,iters,batch_size):\n",
        "  cost_history = np.zeros(iters)\n",
        "  for i in range(iters):\n",
        "    rand_index = np.random.randint(len(y)-batch_size)\n",
        "    ind_x = X[rand_index:rand_index+batch_size]\n",
        "    ind_y = y[rand_index:rand_index+batch_size]\n",
        "    w = w - (alpha/batch_size)*(ind_x.T.dot(sigmoid(ind_x.dot(w))-ind_y))\n",
        "    cost_history[i] = cost_function(ind_x,ind_y,w)\n",
        "  return w, cost_history\n"
      ],
      "metadata": {
        "id": "CruXAftJ5YmD"
      },
      "execution_count": 35,
      "outputs": []
    },
    {
      "cell_type": "code",
      "source": [
        "def stochastic_gradient_descent(X,y,w,alpha,iters):\n",
        "  cost_history = np.zeros(iters)\n",
        "  for i in range(iters):\n",
        "    rand_index = np.random.randint(len(y)-1)\n",
        "    ind_x = X[rand_index:rand_index+1]\n",
        "    ind_y = y[rand_index:rand_index+1]\n",
        "    w = w - alpha*(ind_x.T.dot(sigmoid(ind_x.dot(w))-ind_y))\n",
        "    cost_history[i] = cost_function(ind_x,ind_y,w)\n",
        "  return w, cost_history"
      ],
      "metadata": {
        "id": "Egc_Xfol7ilq"
      },
      "execution_count": 36,
      "outputs": []
    },
    {
      "cell_type": "code",
      "source": [
        "#w = np.zeros(X,shape[1]) weight initialsiation\n",
        "w = np.random.rand(1,X.shape[1]).ravel()\n",
        "print(w)"
      ],
      "metadata": {
        "colab": {
          "base_uri": "https://localhost:8080/"
        },
        "id": "Hs8qKrR08M9V",
        "outputId": "8769772d-89ac-4012-89e8-dd92dc9dd29f"
      },
      "execution_count": 26,
      "outputs": [
        {
          "output_type": "stream",
          "name": "stdout",
          "text": [
            "[0.5488135  0.71518937 0.60276338 0.54488318]\n"
          ]
        }
      ]
    },
    {
      "cell_type": "code",
      "source": [
        "alpha = 0.02\n",
        "iters = 2000\n",
        "batch_w,J_his = batch_gradient_descent(X_train, y_train, w, alpha, iters)"
      ],
      "metadata": {
        "id": "zHblmmki8lbc"
      },
      "execution_count": 32,
      "outputs": []
    },
    {
      "cell_type": "code",
      "source": [
        "plt.plot(range(iters),J_his)\n",
        "print(batch_w)"
      ],
      "metadata": {
        "colab": {
          "base_uri": "https://localhost:8080/",
          "height": 282
        },
        "id": "vC2SOFNB861a",
        "outputId": "d9fec0fd-d39e-46b3-fc73-afc54a54d9b2"
      },
      "execution_count": 33,
      "outputs": [
        {
          "output_type": "stream",
          "name": "stdout",
          "text": [
            "[-1.23119203  1.44339886 -1.77545344  3.41402152]\n"
          ]
        },
        {
          "output_type": "display_data",
          "data": {
            "image/png": "[encoded data removed]",
            "text/plain": [
              "<Figure size 432x288 with 1 Axes>"
            ]
          },
          "metadata": {
            "needs_background": "light"
          }
        }
      ]
    },
    {
      "cell_type": "code",
      "source": [
        "alpha = 0.02\n",
        "iters = 2000\n",
        "batch_size = 5\n",
        "mini_batch_w, J_mini_batch = MB_gradient_descent(X_train, y_train, w, alpha, iters, batch_size)\n",
        "plt.plot(range(iters),J_mini_batch)\n",
        "print(mini_batch_w)"
      ],
      "metadata": {
        "colab": {
          "base_uri": "https://localhost:8080/",
          "height": 282
        },
        "id": "Y4LTzLUF9H5R",
        "outputId": "49fdd80f-d032-4f4f-d8d5-c0ccc54ab163"
      },
      "execution_count": 38,
      "outputs": [
        {
          "output_type": "stream",
          "name": "stdout",
          "text": [
            "[-1.29794068  1.43861359 -1.71136132  3.41319603]\n"
          ]
        },
        {
          "output_type": "display_data",
          "data": {
            "image/png": "[encoded data removed]",
            "text/plain": [
              "<Figure size 432x288 with 1 Axes>"
            ]
          },
          "metadata": {
            "needs_background": "light"
          }
        }
      ]
    },
    {
      "cell_type": "code",
      "source": [
        "n_epochs = 2000\n",
        "alpha = 0.2\n",
        "w_n, J_sgd = stochastic_gradient_descent(X,y,w,alpha,n_epochs)\n",
        "plt.plot(range(n_epochs),J_sgd)\n",
        "print(w_n)\n"
      ],
      "metadata": {
        "colab": {
          "base_uri": "https://localhost:8080/",
          "height": 282
        },
        "id": "OYXiPilk92Z8",
        "outputId": "cced0334-cd9f-467c-b00d-0fc62659ba9e"
      },
      "execution_count": 40,
      "outputs": [
        {
          "output_type": "stream",
          "name": "stdout",
          "text": [
            "[-2.72888563  3.30116668 -4.82226998  8.52061421]\n"
          ]
        },
        {
          "output_type": "display_data",
          "data": {
            "image/png": "[encoded data removed]",
            "text/plain": [
              "<Figure size 432x288 with 1 Axes>"
            ]
          },
          "metadata": {
            "needs_background": "light"
          }
        }
      ]
    },
    {
      "cell_type": "markdown",
      "source": [
        "Now, we have run the model on our training data. Let us move to the test data."
      ],
      "metadata": {
        "id": "oboaxy1J-vnO"
      }
    },
    {
      "cell_type": "code",
      "source": [
        "z = np.dot(X_test, batch_w.T)\n",
        "#z = np.dot(X_test, mini_batch_w.T)\n",
        "#z = np.dot(X_test, w_n.T)\n",
        "print(z)"
      ],
      "metadata": {
        "colab": {
          "base_uri": "https://localhost:8080/"
        },
        "id": "7zgEUEaB-24h",
        "outputId": "7c6ddcad-cc3b-484c-9e11-540aecd85fa0"
      },
      "execution_count": 42,
      "outputs": [
        {
          "output_type": "stream",
          "name": "stdout",
          "text": [
            "[-1.39304578  2.31902593 -1.65527543  1.83982781  2.08973749  0.83627361\n",
            " -1.7989015   2.22020231  2.35077036  1.4420669   1.68645142  1.62489739\n",
            "  1.92622823 -1.88769548 -1.4763146  -1.27803253 -2.25445001 -1.25015776\n",
            " -1.88410515 -1.51045258 -1.46702301  2.02772473 -1.46821979  1.63732059\n",
            " -1.37059294 -1.53786863 -1.77342028  1.50675254  1.46765135  2.67768565]\n"
          ]
        }
      ]
    },
    {
      "cell_type": "code",
      "source": [
        "h = sigmoid(z)\n",
        "y_pred = h>0.5 #evaluates logical condition on the right and stores FALSE or TRUE\n",
        "y_pred = y_pred.astype(int) #converts the FALSE and TRUE to 0 and 1\n",
        "print(y_pred)"
      ],
      "metadata": {
        "colab": {
          "base_uri": "https://localhost:8080/"
        },
        "id": "pItwmWu__Voq",
        "outputId": "73133ea3-253f-4b90-ced5-a4028ce71d90"
      },
      "execution_count": 47,
      "outputs": [
        {
          "output_type": "stream",
          "name": "stdout",
          "text": [
            "[0 1 0 1 1 1 0 1 1 1 1 1 1 0 0 0 0 0 0 0 0 1 0 1 0 0 0 1 1 1]\n"
          ]
        }
      ]
    },
    {
      "cell_type": "code",
      "source": [
        "from sklearn.metrics import confusion_matrix\n",
        "cm = confusion_matrix(y_test, y_pred)\n",
        "print(cm)"
      ],
      "metadata": {
        "colab": {
          "base_uri": "https://localhost:8080/"
        },
        "id": "cLE0c0ls_1IF",
        "outputId": "62c41ab3-73a5-4824-b21d-b211bdd04251"
      },
      "execution_count": 50,
      "outputs": [
        {
          "output_type": "stream",
          "name": "stdout",
          "text": [
            "[[15  0]\n",
            " [ 0 15]]\n"
          ]
        }
      ]
    },
    {
      "cell_type": "code",
      "source": [
        "test_accuracy = np.sum(y_test == y_pred) / len(y_test)\n",
        "print(test_accuracy)"
      ],
      "metadata": {
        "colab": {
          "base_uri": "https://localhost:8080/"
        },
        "id": "Pcgwa9XWAIBX",
        "outputId": "f6fb766e-ba43-4afa-8182-cbadb980d9c6"
      },
      "execution_count": 51,
      "outputs": [
        {
          "output_type": "stream",
          "name": "stdout",
          "text": [
            "1.0\n"
          ]
        }
      ]
    }
  ]
}