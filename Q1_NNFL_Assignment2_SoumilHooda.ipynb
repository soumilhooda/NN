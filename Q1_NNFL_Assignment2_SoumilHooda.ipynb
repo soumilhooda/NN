{
  "nbformat": 4,
  "nbformat_minor": 0,
  "metadata": {
    "colab": {
      "name": "Q1_NNFL_Assignment2_SoumilHooda.ipynb",
      "provenance": [],
      "authorship_tag": "ABX9TyNlqLOU6PcqcxT5gGHK59wm",
      "include_colab_link": true
    },
    "kernelspec": {
      "name": "python3",
      "display_name": "Python 3"
    },
    "language_info": {
      "name": "python"
    }
  },
  "cells": [
    {
      "cell_type": "markdown",
      "metadata": {
        "id": "view-in-github",
        "colab_type": "text"
      },
      "source": [
        "<a href=\"https://colab.research.google.com/github/soumilhooda/MLDLNNtoCV/blob/main/Q1_NNFL_Assignment2_SoumilHooda.ipynb\" target=\"_parent\"><img src=\"https://colab.research.google.com/assets/colab-badge.svg\" alt=\"Open In Colab\"/></a>"
      ]
    },
    {
      "cell_type": "code",
      "execution_count": 2,
      "metadata": {
        "id": "BHMAamVcM8ts",
        "colab": {
          "base_uri": "https://localhost:8080/"
        },
        "outputId": "97e0251d-c2fc-4e54-beff-9be72344ec36"
      },
      "outputs": [
        {
          "output_type": "stream",
          "name": "stdout",
          "text": [
            "Drive already mounted at /content/drive/; to attempt to forcibly remount, call drive.mount(\"/content/drive/\", force_remount=True).\n"
          ]
        }
      ],
      "source": [
        "from google.colab import drive\n",
        "drive.mount('/content/drive/')"
      ]
    },
    {
      "cell_type": "markdown",
      "source": [
        "Now we shall import our standard packages for easier data handling and mathematical computations."
      ],
      "metadata": {
        "id": "E6IFbmUOc1Ys"
      }
    },
    {
      "cell_type": "code",
      "source": [
        "import pandas as pd\n",
        "import numpy as np\n",
        "import math \n",
        "import matplotlib.pyplot as plt\n",
        "import numpy.random as nr\n",
        "from sklearn.model_selection import train_test_split\n",
        "from sklearn.metrics import confusion_matrix\n",
        "np.random.seed(0)\n",
        "from sklearn.metrics import confusion_matrix"
      ],
      "metadata": {
        "id": "ONAkXQTRc0P8"
      },
      "execution_count": 12,
      "outputs": []
    },
    {
      "cell_type": "code",
      "source": [
        "data = pd.read_excel('/content/drive/MyDrive/data55.xlsx',header=None)\n",
        "data_values = data.values\n"
      ],
      "metadata": {
        "id": "2g5ER3PmiZnq"
      },
      "execution_count": 27,
      "outputs": []
    },
    {
      "cell_type": "code",
      "source": [
        "xdata, ydata = data_values[... , :60], data_values[... , 60: ]\n",
        "print(xdata)\n",
        "print(xdata.shape)\n",
        "print(ydata)\n",
        "print(ydata.shape)"
      ],
      "metadata": {
        "colab": {
          "base_uri": "https://localhost:8080/"
        },
        "id": "euqZcJst6RGL",
        "outputId": "841e79fc-124b-42c4-d4ee-7b9a343faac6"
      },
      "execution_count": 28,
      "outputs": [
        {
          "output_type": "stream",
          "name": "stdout",
          "text": [
            "[[0.02   0.0371 0.0428 ... 0.0084 0.009  0.0032]\n",
            " [0.0453 0.0523 0.0843 ... 0.0049 0.0052 0.0044]\n",
            " [0.0262 0.0582 0.1099 ... 0.0164 0.0095 0.0078]\n",
            " ...\n",
            " [0.0522 0.0437 0.018  ... 0.0138 0.0077 0.0031]\n",
            " [0.0303 0.0353 0.049  ... 0.0079 0.0036 0.0048]\n",
            " [0.026  0.0363 0.0136 ... 0.0036 0.0061 0.0115]]\n",
            "(208, 60)\n",
            "[[0.]\n",
            " [0.]\n",
            " [0.]\n",
            " [0.]\n",
            " [0.]\n",
            " [0.]\n",
            " [0.]\n",
            " [0.]\n",
            " [0.]\n",
            " [0.]\n",
            " [0.]\n",
            " [0.]\n",
            " [0.]\n",
            " [0.]\n",
            " [0.]\n",
            " [0.]\n",
            " [0.]\n",
            " [0.]\n",
            " [0.]\n",
            " [0.]\n",
            " [0.]\n",
            " [0.]\n",
            " [0.]\n",
            " [0.]\n",
            " [0.]\n",
            " [0.]\n",
            " [0.]\n",
            " [0.]\n",
            " [0.]\n",
            " [0.]\n",
            " [0.]\n",
            " [0.]\n",
            " [0.]\n",
            " [0.]\n",
            " [0.]\n",
            " [0.]\n",
            " [0.]\n",
            " [0.]\n",
            " [0.]\n",
            " [0.]\n",
            " [0.]\n",
            " [0.]\n",
            " [0.]\n",
            " [0.]\n",
            " [0.]\n",
            " [0.]\n",
            " [0.]\n",
            " [0.]\n",
            " [0.]\n",
            " [0.]\n",
            " [0.]\n",
            " [0.]\n",
            " [0.]\n",
            " [0.]\n",
            " [0.]\n",
            " [0.]\n",
            " [0.]\n",
            " [0.]\n",
            " [0.]\n",
            " [0.]\n",
            " [0.]\n",
            " [0.]\n",
            " [0.]\n",
            " [0.]\n",
            " [0.]\n",
            " [0.]\n",
            " [0.]\n",
            " [0.]\n",
            " [0.]\n",
            " [0.]\n",
            " [0.]\n",
            " [0.]\n",
            " [0.]\n",
            " [0.]\n",
            " [0.]\n",
            " [0.]\n",
            " [0.]\n",
            " [0.]\n",
            " [0.]\n",
            " [0.]\n",
            " [0.]\n",
            " [0.]\n",
            " [0.]\n",
            " [0.]\n",
            " [0.]\n",
            " [0.]\n",
            " [0.]\n",
            " [0.]\n",
            " [0.]\n",
            " [0.]\n",
            " [0.]\n",
            " [0.]\n",
            " [0.]\n",
            " [0.]\n",
            " [0.]\n",
            " [0.]\n",
            " [0.]\n",
            " [1.]\n",
            " [1.]\n",
            " [1.]\n",
            " [1.]\n",
            " [1.]\n",
            " [1.]\n",
            " [1.]\n",
            " [1.]\n",
            " [1.]\n",
            " [1.]\n",
            " [1.]\n",
            " [1.]\n",
            " [1.]\n",
            " [1.]\n",
            " [1.]\n",
            " [1.]\n",
            " [1.]\n",
            " [1.]\n",
            " [1.]\n",
            " [1.]\n",
            " [1.]\n",
            " [1.]\n",
            " [1.]\n",
            " [1.]\n",
            " [1.]\n",
            " [1.]\n",
            " [1.]\n",
            " [1.]\n",
            " [1.]\n",
            " [1.]\n",
            " [1.]\n",
            " [1.]\n",
            " [1.]\n",
            " [1.]\n",
            " [1.]\n",
            " [1.]\n",
            " [1.]\n",
            " [1.]\n",
            " [1.]\n",
            " [1.]\n",
            " [1.]\n",
            " [1.]\n",
            " [1.]\n",
            " [1.]\n",
            " [1.]\n",
            " [1.]\n",
            " [1.]\n",
            " [1.]\n",
            " [1.]\n",
            " [1.]\n",
            " [1.]\n",
            " [1.]\n",
            " [1.]\n",
            " [1.]\n",
            " [1.]\n",
            " [1.]\n",
            " [1.]\n",
            " [1.]\n",
            " [1.]\n",
            " [1.]\n",
            " [1.]\n",
            " [1.]\n",
            " [1.]\n",
            " [1.]\n",
            " [1.]\n",
            " [1.]\n",
            " [1.]\n",
            " [1.]\n",
            " [1.]\n",
            " [1.]\n",
            " [1.]\n",
            " [1.]\n",
            " [1.]\n",
            " [1.]\n",
            " [1.]\n",
            " [1.]\n",
            " [1.]\n",
            " [1.]\n",
            " [1.]\n",
            " [1.]\n",
            " [1.]\n",
            " [1.]\n",
            " [1.]\n",
            " [1.]\n",
            " [1.]\n",
            " [1.]\n",
            " [1.]\n",
            " [1.]\n",
            " [1.]\n",
            " [1.]\n",
            " [1.]\n",
            " [1.]\n",
            " [1.]\n",
            " [1.]\n",
            " [1.]\n",
            " [1.]\n",
            " [1.]\n",
            " [1.]\n",
            " [1.]\n",
            " [1.]\n",
            " [1.]\n",
            " [1.]\n",
            " [1.]\n",
            " [1.]\n",
            " [1.]\n",
            " [1.]\n",
            " [1.]\n",
            " [1.]\n",
            " [1.]\n",
            " [1.]\n",
            " [1.]]\n",
            "(208, 1)\n"
          ]
        }
      ]
    },
    {
      "cell_type": "code",
      "source": [
        "x_train, _x, y_train, _y = train_test_split(xdata, ydata, test_size=0.30)\n",
        "x_test, x_val, y_test, y_val = train_test_split(_x, _y, test_size=0.33)\n",
        "\n",
        "print(x_train.shape)\n",
        "print(x_test.shape)\n",
        "print(x_val.shape)"
      ],
      "metadata": {
        "colab": {
          "base_uri": "https://localhost:8080/"
        },
        "id": "eZjfxxi1doxl",
        "outputId": "a404451a-664f-46da-e31b-8acb176a3147"
      },
      "execution_count": 29,
      "outputs": [
        {
          "output_type": "stream",
          "name": "stdout",
          "text": [
            "(145, 60)\n",
            "(42, 60)\n",
            "(21, 60)\n"
          ]
        }
      ]
    },
    {
      "cell_type": "code",
      "source": [
        "w = np.random.rand(60)\n",
        "print(w.shape)\n",
        "\n",
        "b = np.random.rand(1)\n",
        "print(b.shape)"
      ],
      "metadata": {
        "colab": {
          "base_uri": "https://localhost:8080/"
        },
        "id": "c7sU-a6RfzMl",
        "outputId": "bb28229e-349a-4950-9b25-640f8a9fbba0"
      },
      "execution_count": 14,
      "outputs": [
        {
          "output_type": "stream",
          "name": "stdout",
          "text": [
            "(60,)\n",
            "(1,)\n"
          ]
        }
      ]
    },
    {
      "cell_type": "code",
      "source": [
        "def NonLinearPerceptron_Train(iters, w, b, x_train, y_train):\n",
        "  w = np.random.rand(60)\n",
        "  print(w.shape)\n",
        "\n",
        "  b = np.random.rand(1)\n",
        "  print(b.shape)\n",
        "  for j in range(iters):\n",
        "    for i in range(x_train.shape[0]):\n",
        "      h = np.sign(np.dot(w, x_train[i])+ b)\n",
        "      if (h != y_train[i]):\n",
        "        w = w + y_train[i]*x_train[i]\n",
        "        b = b + y_train[i]\n",
        "  return w, b"
      ],
      "metadata": {
        "id": "dcwBBfYlgMWm"
      },
      "execution_count": 30,
      "outputs": []
    },
    {
      "cell_type": "code",
      "source": [
        "iters = 10000\n",
        "w_aftertrain, b_aftertrain = NonLinearPerceptron_Train(iters, w, b, x_train, y_train)\n",
        "\n",
        "print(w)\n",
        "print(w_aftertrain)\n",
        "print(b_aftertrain)"
      ],
      "metadata": {
        "colab": {
          "base_uri": "https://localhost:8080/"
        },
        "id": "Yt8h9r70hXN8",
        "outputId": "b499f86f-1117-4ecd-f7cf-97f73aa11da6"
      },
      "execution_count": 31,
      "outputs": [
        {
          "output_type": "stream",
          "name": "stdout",
          "text": [
            "(60,)\n",
            "(1,)\n",
            "[9.92396399e-01 2.67262538e-01 6.79090616e-01 8.64281443e-01\n",
            " 7.50844246e-01 9.64489768e-01 5.54242435e-01 2.12390499e-01\n",
            " 2.22443224e-01 2.18749374e-01 5.69573535e-01 4.52109035e-01\n",
            " 9.70236683e-01 6.80544691e-01 8.52955659e-02 5.64183327e-02\n",
            " 4.87837704e-01 8.81004562e-01 9.76404387e-01 6.17657916e-01\n",
            " 5.42498775e-01 8.54613580e-01 7.43834545e-01 4.78596326e-01\n",
            " 6.77081574e-01 6.07045061e-01 7.14696936e-01 4.69497183e-01\n",
            " 4.56014623e-01 9.06418087e-01 1.37220420e-01 2.29219323e-01\n",
            " 8.81585399e-01 9.04424976e-01 6.45784599e-01 3.24682972e-01\n",
            " 5.19711194e-01 5.53568650e-05 3.11860221e-01 4.25451538e-01\n",
            " 8.85337660e-01 6.79879456e-01 4.56129772e-01 4.83408617e-01\n",
            " 7.88739428e-01 2.29441834e-01 8.80297603e-01 3.13692393e-01\n",
            " 9.57450856e-01 4.71751571e-01 7.11583817e-01 1.53694305e-01\n",
            " 7.30442177e-01 6.46264437e-01 2.14880737e-01 1.86458219e-01\n",
            " 8.07580269e-01 7.47079470e-01 6.74847346e-01 2.76893751e-01]\n",
            "[3.57424652e-01 6.21665436e-01 2.88569958e-01 8.74399917e-01\n",
            " 1.12427317e-01 2.12434361e-01 1.83033292e-01 4.03026002e-01\n",
            " 7.45232960e-01 5.26907449e-01 4.87676324e-01 5.45964897e-04\n",
            " 4.25401725e-01 6.35537748e-02 2.08253252e-01 9.32393939e-01\n",
            " 2.15398204e-01 8.58337639e-01 8.02893372e-01 1.59146237e-01\n",
            " 6.05711957e-01 1.15661872e-01 7.27888158e-01 6.37462277e-01\n",
            " 8.11938562e-01 4.79384549e-01 9.14863088e-01 4.93489468e-02\n",
            " 2.92888565e-01 7.15052597e-01 4.18109212e-01 1.72951354e-01\n",
            " 1.07210745e-01 8.17339111e-01 4.73142978e-01 8.82283672e-01\n",
            " 7.33289134e-01 4.09726206e-01 3.73511014e-01 5.15638347e-01\n",
            " 8.89059953e-01 7.37278580e-01 5.15296427e-03 6.94157851e-01\n",
            " 9.19507407e-01 7.10455760e-01 1.77005782e-01 4.83518127e-01\n",
            " 1.40316018e-01 3.58995278e-01 9.37117042e-01 9.23305308e-01\n",
            " 2.82836852e-01 3.39631044e-01 6.00212868e-01 9.63197295e-01\n",
            " 1.47801334e-01 2.56916644e-01 8.73556827e-01 4.91892232e-01]\n",
            "[0.89896109]\n"
          ]
        }
      ]
    },
    {
      "cell_type": "code",
      "source": [
        "z = np.dot(x_test, w_aftertrain.T) + b\n",
        "print(z)\n",
        "print(y_test)\n",
        "print(z.shape)\n",
        "print(z)\n",
        "z_min = np.min(z)\n",
        "z_max = np.max(z)\n",
        "h = (z - z_min)/(z_max - z_min)\n",
        "y_pred=h>0.5\n",
        "y_pred=y_pred.astype(int)\n",
        "print(y_pred)\n",
        "cm=confusion_matrix(y_test, y_pred)\n",
        "print(cm)\n",
        "accuracy=(cm[0][0]+cm[1][1])/(len(y_test))\n",
        "print(accuracy)"
      ],
      "metadata": {
        "colab": {
          "base_uri": "https://localhost:8080/"
        },
        "id": "ygjRcqZkiP4j",
        "outputId": "cbf566b1-f8c7-466d-9c7c-f1c2cbcdd754"
      },
      "execution_count": 33,
      "outputs": [
        {
          "output_type": "stream",
          "name": "stdout",
          "text": [
            "[ 8.1396619  10.18768768  9.06102345  5.8876805   8.91310683  7.47349502\n",
            "  9.20752138  8.67555646  8.62785912  8.64731023  7.12222971 10.51048136\n",
            "  7.441471    8.62687156  8.78196232  5.76768916  8.51176119  9.25632015\n",
            "  7.8293526   7.89095642  8.39138496  8.61397135  8.0128785   7.5827327\n",
            "  9.61886408  7.36312459  9.28251038  9.59232541  7.30426964  7.77078267\n",
            "  9.52147693  7.8507423   9.07613202 10.82591128 10.75233879 10.21179972\n",
            "  7.5387034   8.49029663  8.86885841  5.7394403   9.96028724  8.4236859 ]\n",
            "[[0.]\n",
            " [1.]\n",
            " [0.]\n",
            " [0.]\n",
            " [1.]\n",
            " [1.]\n",
            " [1.]\n",
            " [0.]\n",
            " [1.]\n",
            " [0.]\n",
            " [0.]\n",
            " [1.]\n",
            " [1.]\n",
            " [1.]\n",
            " [0.]\n",
            " [0.]\n",
            " [0.]\n",
            " [1.]\n",
            " [0.]\n",
            " [0.]\n",
            " [0.]\n",
            " [0.]\n",
            " [1.]\n",
            " [1.]\n",
            " [1.]\n",
            " [0.]\n",
            " [0.]\n",
            " [1.]\n",
            " [1.]\n",
            " [0.]\n",
            " [0.]\n",
            " [1.]\n",
            " [1.]\n",
            " [1.]\n",
            " [0.]\n",
            " [0.]\n",
            " [0.]\n",
            " [0.]\n",
            " [0.]\n",
            " [0.]\n",
            " [1.]\n",
            " [0.]]\n",
            "(42,)\n",
            "[ 8.1396619  10.18768768  9.06102345  5.8876805   8.91310683  7.47349502\n",
            "  9.20752138  8.67555646  8.62785912  8.64731023  7.12222971 10.51048136\n",
            "  7.441471    8.62687156  8.78196232  5.76768916  8.51176119  9.25632015\n",
            "  7.8293526   7.89095642  8.39138496  8.61397135  8.0128785   7.5827327\n",
            "  9.61886408  7.36312459  9.28251038  9.59232541  7.30426964  7.77078267\n",
            "  9.52147693  7.8507423   9.07613202 10.82591128 10.75233879 10.21179972\n",
            "  7.5387034   8.49029663  8.86885841  5.7394403   9.96028724  8.4236859 ]\n",
            "[0 1 1 0 1 0 1 1 1 1 0 1 0 1 1 0 1 1 0 0 1 1 0 0 1 0 1 1 0 0 1 0 1 1 1 1 0\n",
            " 1 1 0 1 1]\n",
            "[[10 14]\n",
            " [ 6 12]]\n",
            "0.5238095238095238\n"
          ]
        }
      ]
    }
  ]
}