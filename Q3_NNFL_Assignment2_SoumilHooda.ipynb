{
  "nbformat": 4,
  "nbformat_minor": 0,
  "metadata": {
    "colab": {
      "name": "Q3_NNFL_Assignment2_SoumilHooda.ipynb",
      "provenance": [],
      "authorship_tag": "ABX9TyOJUtNJKxBp5bE9CXNsmuLr",
      "include_colab_link": true
    },
    "kernelspec": {
      "name": "python3",
      "display_name": "Python 3"
    },
    "language_info": {
      "name": "python"
    }
  },
  "cells": [
    {
      "cell_type": "markdown",
      "metadata": {
        "id": "view-in-github",
        "colab_type": "text"
      },
      "source": [
        "<a href=\"https://colab.research.google.com/github/soumilhooda/MLDLNNtoCV/blob/main/Q3_NNFL_Assignment2_SoumilHooda.ipynb\" target=\"_parent\"><img src=\"https://colab.research.google.com/assets/colab-badge.svg\" alt=\"Open In Colab\"/></a>"
      ]
    },
    {
      "cell_type": "code",
      "execution_count": 1,
      "metadata": {
        "id": "MPTJorQ1n3Nd"
      },
      "outputs": [],
      "source": [
        "import numpy as np\n",
        "import pandas as pd\n",
        "import random"
      ]
    },
    {
      "cell_type": "code",
      "source": [
        "def Randomize(data):\n",
        "  np.random.shuffle(data)\n",
        "  return data"
      ],
      "metadata": {
        "id": "_5CXFEgloTa-"
      },
      "execution_count": 2,
      "outputs": []
    },
    {
      "cell_type": "code",
      "source": [
        "def data_split(data,train_ratio,val_ratio):\n",
        "  X=data[:data.shape[0]-1,:]\n",
        "  Y=data[data.shape[0]-1:,:]\n",
        "  X_tr=X[:,:int(train_ratio*X.shape[1])]\n",
        "  Y_tr=Y[:,:int(train_ratio*Y.shape[1])]\n",
        "  X_val=X[:,int(train_ratio*X.shape[1]):int((train_ratio+val_ratio)*X.shape[1])]\n",
        "  Y_val=Y[:,int(train_ratio*Y.shape[1]):int((train_ratio+val_ratio)*Y.shape[1])]\n",
        "  X_te=X[:,int((train_ratio+val_ratio)*X.shape[1]):]\n",
        "  Y_te=Y[:,int((train_ratio+val_ratio)*Y.shape[1]):]\n",
        "  return X_tr,X_val,X_te,Y_tr,Y_val,Y_te"
      ],
      "metadata": {
        "id": "H96Vu29boUu6"
      },
      "execution_count": 3,
      "outputs": []
    },
    {
      "cell_type": "code",
      "source": [
        "def Normalize(X_tr,X_val,X_te):\n",
        "  mean=X_tr.mean(axis=1)\n",
        "  std=X_tr.std(axis=1)\n",
        "  for i in range(X_tr.shape[0]):\n",
        "    X_tr[i:i+1,:]=(X_tr[i:i+1,:]-mean[i])/std[i]\n",
        "    X_val[i:i+1,:]=(X_val[i:i+1,:]-mean[i])/std[i]\n",
        "    X_te[i:i+1,:]=(X_te[i:i+1,:]-mean[i])/std[i]\n",
        "  return X_tr,X_val,X_te"
      ],
      "metadata": {
        "id": "9IQS7w-YoVOW"
      },
      "execution_count": 4,
      "outputs": []
    },
    {
      "cell_type": "code",
      "source": [
        "def hot_encoding(Y,n_Y):\n",
        "  Y_new=np.zeros((n_Y,Y.shape[1]))\n",
        "  for i in range(Y.shape[1]):\n",
        "    Y_new[int(Y[0,i])-1][i]=1\n",
        "  return Y_new"
      ],
      "metadata": {
        "id": "uTEBzZZLoWk1"
      },
      "execution_count": 5,
      "outputs": []
    },
    {
      "cell_type": "code",
      "source": [
        "def preprocess(data):\n",
        "  data=df.values\n",
        "  data=Randomize(data)\n",
        "  data=data.T\n",
        "  X_tr,X_val,X_te,Y_tr,Y_val,Y_te=data_split(data,0.7,0.1)\n",
        "  X_tr,X_val,X_te=Normalize(X_tr,X_val,X_te)\n",
        "  Y_tr=hot_encoding(Y_tr,3)\n",
        "  Y_val=hot_encoding(Y_val,3)\n",
        "  Y_te=hot_encoding(Y_te,3)\n",
        "  return X_tr,X_val,X_te,Y_tr,Y_val,Y_te"
      ],
      "metadata": {
        "id": "0I00Ul3ZoY3v"
      },
      "execution_count": 6,
      "outputs": []
    },
    {
      "cell_type": "code",
      "source": [
        "def sigmoid(Z):\n",
        "  A=1/(1+np.exp(-Z))\n",
        "  return A"
      ],
      "metadata": {
        "id": "5dPrsj8-oaC5"
      },
      "execution_count": 7,
      "outputs": []
    },
    {
      "cell_type": "code",
      "source": [
        "def tanh(Z):\n",
        "  A=(np.exp(Z)-np.exp(-Z))/(np.exp(Z)+np.exp(-Z))\n",
        "  return A"
      ],
      "metadata": {
        "id": "mx2xqu-7oaVY"
      },
      "execution_count": 8,
      "outputs": []
    },
    {
      "cell_type": "code",
      "source": [
        "def relu(Z):\n",
        "  return(np.maximum(0,Z))"
      ],
      "metadata": {
        "id": "Gl5gzmiOobpM"
      },
      "execution_count": 9,
      "outputs": []
    },
    {
      "cell_type": "code",
      "source": [
        "def init_para(n_X,n_h1,n_h2,n_Y):\n",
        "  W1=np.random.randn(n_h1,n_X)\n",
        "  b1=np.zeros((n_h1,1))\n",
        "  W2=np.random.randn(n_h2,n_h1)\n",
        "  b2=np.zeros((n_h2,1))\n",
        "  W3=np.random.randn(n_Y,n_h2)\n",
        "  b3=np.zeros((n_Y,1))\n",
        "  para={\"W1\":W1,\n",
        "              \"b1\":b1,\n",
        "              \"W2\":W2,\n",
        "              \"b2\":b2,\n",
        "              \"W3\":W3,\n",
        "              \"b3\":b3}\n",
        "  return para"
      ],
      "metadata": {
        "id": "akS8GtgZoc-M"
      },
      "execution_count": 10,
      "outputs": []
    },
    {
      "cell_type": "code",
      "source": [
        "def forward_propagation(X,para,activation):\n",
        "  Z1=np.dot(para[\"W1\"],X)+para[\"b1\"]\n",
        "  if activation==\"sigmoid\":\n",
        "    A1=sigmoid(Z1)\n",
        "  elif activation==\"tanh\":\n",
        "    A1=tanh(Z1)\n",
        "  elif activation==\"relu\":\n",
        "    A1=relu(Z1)\n",
        "  Z2=np.dot(para[\"W2\"],A1)+para[\"b2\"]\n",
        "  if activation==\"sigmoid\":\n",
        "    A2=sigmoid(Z2)\n",
        "  elif activation==\"tanh\":\n",
        "    A2=tanh(Z2)\n",
        "  elif activation==\"relu\":\n",
        "    A2=relu(Z2)\n",
        "  Z3=np.dot(para[\"W3\"],A2)+para[\"b3\"]\n",
        "  Y_H=sigmoid(Z3)\n",
        "  nodes={\"Z1\":Z1,\n",
        "         \"A1\":A1,\n",
        "         \"Z2\":Z2,\n",
        "         \"A2\":A2,\n",
        "         \"Z3\":Z3,\n",
        "         \"Y_H\":Y_H}\n",
        "  return nodes"
      ],
      "metadata": {
        "id": "pd1O_4LioeL1"
      },
      "execution_count": 11,
      "outputs": []
    },
    {
      "cell_type": "code",
      "source": [
        "def Cost(Y_H,Y):\n",
        "  epsilon=1e-10\n",
        "  m=Y.shape[1]\n",
        "  cost=(-1/m)*np.sum(Y*np.log(Y_H+epsilon)+(1-Y)*np.log(1-Y_H+epsilon)) \n",
        "  return cost"
      ],
      "metadata": {
        "id": "UhLFNBeuoi5P"
      },
      "execution_count": 12,
      "outputs": []
    },
    {
      "cell_type": "code",
      "source": [
        "def back_propagation(X,Y,para,nodes,activation,lam):\n",
        "  m=X.shape[1]\n",
        "  dZ3=nodes[\"Y_H\"]-Y\n",
        "  dW3=(1/m)*np.dot(dZ3,nodes[\"A2\"].T)+(lam/m)*para[\"W3\"]\n",
        "  db3=(1/m)*np.sum(dZ3,axis=1,keepdims=True)\n",
        "  dA2=np.dot(para[\"W3\"].T,dZ3)\n",
        "  if activation==\"sigmoid\":\n",
        "    dZ2=dA2*nodes[\"A2\"]*(1-nodes[\"A2\"])\n",
        "  elif activation==\"tanh\":\n",
        "    dZ2=dA2*(1-nodes[\"A2\"]**2)\n",
        "  elif activation==\"relu\":\n",
        "    dZ2=dA2*np.heaviside(nodes[\"Z2\"],0)\n",
        "  dW2=(1/m)*np.dot(dZ2,nodes[\"A1\"].T)+(lam/m)*para[\"W2\"]\n",
        "  db2=(1/m)*np.sum(dZ2,axis=1,keepdims=True)\n",
        "  dA1=np.dot(para[\"W2\"].T,dZ2)\n",
        "  if activation==\"sigmoid\":\n",
        "    dZ1=dA1*nodes[\"A1\"]*(1-nodes[\"A1\"])\n",
        "  elif activation==\"tanh\":\n",
        "    dZ1=dA1*(1-nodes[\"A1\"]**2)\n",
        "  elif activation==\"relu\":\n",
        "    dZ1=dA1*np.heaviside(nodes[\"Z1\"],0)\n",
        "  dW1=(1/m)*np.dot(dZ1,X.T)+(lam/m)*para[\"W1\"]\n",
        "  db1=(1/m)*np.sum(dZ1,axis=1,keepdims=True)\n",
        "  grads={\"dW1\":dW1,\n",
        "         \"db1\":db1,\n",
        "         \"dW2\":dW2,\n",
        "         \"db2\":db2,\n",
        "         \"dW3\":dW3,\n",
        "         \"db3\":db3}\n",
        "  return grads"
      ],
      "metadata": {
        "id": "Q7S0rlhfokVB"
      },
      "execution_count": 13,
      "outputs": []
    },
    {
      "cell_type": "code",
      "source": [
        "def gradient_descent(para,grads,learning_rate):\n",
        "  para[\"W1\"]=para[\"W1\"]-learning_rate*grads[\"dW1\"]\n",
        "  para[\"b1\"]=para[\"b1\"]-learning_rate*grads[\"db1\"]\n",
        "  para[\"W2\"]=para[\"W2\"]-learning_rate*grads[\"dW2\"]\n",
        "  para[\"b2\"]=para[\"b2\"]-learning_rate*grads[\"db2\"]\n",
        "  para[\"W3\"]=para[\"W3\"]-learning_rate*grads[\"dW3\"]\n",
        "  para[\"b3\"]=para[\"b3\"]-learning_rate*grads[\"db3\"]\n",
        "  return para"
      ],
      "metadata": {
        "id": "8BfkVTN1ol6a"
      },
      "execution_count": 14,
      "outputs": []
    },
    {
      "cell_type": "code",
      "source": [
        "def accuracy(Y_H,Y):\n",
        "  a=np.abs(Y_H-Y)\n",
        "  num_mistakes=(np.sum(a))/2\n",
        "  acc=100*(Y.shape[1]-num_mistakes)/Y.shape[1]\n",
        "  return acc"
      ],
      "metadata": {
        "id": "H6jSit5KonL8"
      },
      "execution_count": 15,
      "outputs": []
    },
    {
      "cell_type": "code",
      "source": [
        "def return_max(Y_H):\n",
        "  for i in range(Y_H.shape[1]):\n",
        "    if Y_H[0][i]>Y_H[1][i] and Y_H[0][i]>Y_H[2][i]:\n",
        "      Y_H[0][i]=1\n",
        "      Y_H[1][i]=0\n",
        "      Y_H[2][i]=0\n",
        "    elif Y_H[1][i]>Y_H[0][i] and Y_H[1][i]>Y_H[2][i]:\n",
        "      Y_H[0][i]=0\n",
        "      Y_H[1][i]=1\n",
        "      Y_H[2][i]=0\n",
        "    else:\n",
        "      Y_H[0][i]=0\n",
        "      Y_H[1][i]=0\n",
        "      Y_H[2][i]=1\n",
        "  return Y_H"
      ],
      "metadata": {
        "id": "6mP0tw9KooRj"
      },
      "execution_count": 16,
      "outputs": []
    },
    {
      "cell_type": "code",
      "source": [
        "def model_train(X,Y,n_h1,n_h2,activation,lam):\n",
        "  para=init_para(X.shape[0],n_h1,n_h2,Y.shape[0])\n",
        "  for i in range(1000):\n",
        "    nodes=forward_propagation(X,para,activation)\n",
        "    grads=back_propagation(X,Y,para,nodes,activation,lam)\n",
        "    para=gradient_descent(para,grads,0.1)\n",
        "    if i%50==0:\n",
        "      #print(\"Cost after iteration\", i, \":\", Cost(nodes[\"Y_H\"],Y))\n",
        "      Y_H=return_max(nodes[\"Y_H\"])\n",
        "      if accuracy(Y_H,Y)==100:\n",
        "        #print(\"training accuracy :\", accuracy(Y_H,Y), \"%\")\n",
        "        return para,nodes\n",
        "  Y_H=return_max(nodes[\"Y_H\"])\n",
        "  '''if activation==\"tanh\":\n",
        "    print(\"training accuracy tanh :\", accuracy(Y_H,Y), \"%\")\n",
        "  elif activation==\"relu\":\n",
        "    print(\"training accuracy relu :\", accuracy(Y_H,Y), \"%\")\n",
        "  elif activation==\"sigmoid\":\n",
        "    print(\"training accuracy sigmoid :\", accuracy(Y_H,Y), \"%\")'''  \n",
        "  return para,nodes"
      ],
      "metadata": {
        "id": "HZ9oRpB_opn1"
      },
      "execution_count": 17,
      "outputs": []
    },
    {
      "cell_type": "code",
      "source": [
        "def model_predict(X,Y,para,activation):\n",
        "  nodes=forward_propagation(X,para,activation)\n",
        "  Y_H=nodes[\"Y_H\"]\n",
        "  Y_H=return_max(Y_H)\n",
        "  '''if activation==\"tanh\":\n",
        "    print(\"validation accuracy tanh:\", accuracy(Y_H,Y), \"%\")\n",
        "  elif activation==\"relu\":\n",
        "    print(\"validation accuracy relu:\", accuracy(Y_H,Y), \"%\") \n",
        "  elif activation==\"sigmoid\":\n",
        "    print(\"validation accuracy sigmoid :\", accuracy(Y_H,Y), \"%\")'''  \n",
        "  return accuracy(Y_H,Y)"
      ],
      "metadata": {
        "id": "Exh1VsP4orMc"
      },
      "execution_count": 18,
      "outputs": []
    },
    {
      "cell_type": "code",
      "source": [
        "from google.colab import files\n",
        "uploaded = files.upload()"
      ],
      "metadata": {
        "colab": {
          "resources": {
            "http://localhost:8080/nbextensions/google.colab/files.js": {
              "data": "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",
              "ok": true,
              "headers": [
                [
                  "content-type",
                  "application/javascript"
                ]
              ],
              "status": 200,
              "status_text": ""
            }
          },
          "base_uri": "https://localhost:8080/",
          "height": 73
        },
        "id": "x3JDO5uBosrQ",
        "outputId": "6225648d-ef1b-4575-ef4e-1578ce3fb08b"
      },
      "execution_count": 19,
      "outputs": [
        {
          "output_type": "display_data",
          "data": {
            "text/plain": [
              "<IPython.core.display.HTML object>"
            ],
            "text/html": [
              "\n",
              "     <input type=\"file\" id=\"files-0f5ed538-a930-4b2f-8c26-b68ff92c7d8f\" name=\"files[]\" multiple disabled\n",
              "        style=\"border:none\" />\n",
              "     <output id=\"result-0f5ed538-a930-4b2f-8c26-b68ff92c7d8f\">\n",
              "      Upload widget is only available when the cell has been executed in the\n",
              "      current browser session. Please rerun this cell to enable.\n",
              "      </output>\n",
              "      <script src=\"/nbextensions/google.colab/files.js\"></script> "
            ]
          },
          "metadata": {}
        },
        {
          "output_type": "stream",
          "name": "stdout",
          "text": [
            "Saving data5.xlsx to data5.xlsx\n"
          ]
        }
      ]
    },
    {
      "cell_type": "code",
      "source": [
        "df=pd.read_excel('data5.xlsx')\n",
        "df"
      ],
      "metadata": {
        "colab": {
          "base_uri": "https://localhost:8080/",
          "height": 423
        },
        "id": "zrU1zG7QouEp",
        "outputId": "72e9001f-3bc6-4b7d-98d1-113e0228f77b"
      },
      "execution_count": 20,
      "outputs": [
        {
          "output_type": "execute_result",
          "data": {
            "text/plain": [
              "     15.260  14.840  0.871   5.763   3.312   2.221   5.220   1.000 \n",
              "0     14.88   14.57  0.8811   5.554   3.333   1.018   4.956     1.0\n",
              "1     14.29   14.09  0.9050   5.291   3.337   2.699   4.825     1.0\n",
              "2     13.84   13.94  0.8955   5.324   3.379   2.259   4.805     1.0\n",
              "3     16.14   14.99  0.9034   5.658   3.562   1.355   5.175     1.0\n",
              "4     14.38   14.21  0.8951   5.386   3.312   2.462   4.956     1.0\n",
              "..      ...     ...     ...     ...     ...     ...     ...     ...\n",
              "204   12.19   13.20  0.8783   5.137   2.981   3.631   4.870     3.0\n",
              "205   11.23   12.88  0.8511   5.140   2.795   4.325   5.003     3.0\n",
              "206   13.20   13.66  0.8883   5.236   3.232   8.315   5.056     3.0\n",
              "207   11.84   13.21  0.8521   5.175   2.836   3.598   5.044     3.0\n",
              "208   12.30   13.34  0.8684   5.243   2.974   5.637   5.063     3.0\n",
              "\n",
              "[209 rows x 8 columns]"
            ],
            "text/html": [
              "\n",
              "  <div id=\"df-b69d4d33-e7dc-439d-9bfe-813bc92d1381\">\n",
              "    <div class=\"colab-df-container\">\n",
              "      <div>\n",
              "<style scoped>\n",
              "    .dataframe tbody tr th:only-of-type {\n",
              "        vertical-align: middle;\n",
              "    }\n",
              "\n",
              "    .dataframe tbody tr th {\n",
              "        vertical-align: top;\n",
              "    }\n",
              "\n",
              "    .dataframe thead th {\n",
              "        text-align: right;\n",
              "    }\n",
              "</style>\n",
              "<table border=\"1\" class=\"dataframe\">\n",
              "  <thead>\n",
              "    <tr style=\"text-align: right;\">\n",
              "      <th></th>\n",
              "      <th>15.260</th>\n",
              "      <th>14.840</th>\n",
              "      <th>0.871</th>\n",
              "      <th>5.763</th>\n",
              "      <th>3.312</th>\n",
              "      <th>2.221</th>\n",
              "      <th>5.220</th>\n",
              "      <th>1.000</th>\n",
              "    </tr>\n",
              "  </thead>\n",
              "  <tbody>\n",
              "    <tr>\n",
              "      <th>0</th>\n",
              "      <td>14.88</td>\n",
              "      <td>14.57</td>\n",
              "      <td>0.8811</td>\n",
              "      <td>5.554</td>\n",
              "      <td>3.333</td>\n",
              "      <td>1.018</td>\n",
              "      <td>4.956</td>\n",
              "      <td>1.0</td>\n",
              "    </tr>\n",
              "    <tr>\n",
              "      <th>1</th>\n",
              "      <td>14.29</td>\n",
              "      <td>14.09</td>\n",
              "      <td>0.9050</td>\n",
              "      <td>5.291</td>\n",
              "      <td>3.337</td>\n",
              "      <td>2.699</td>\n",
              "      <td>4.825</td>\n",
              "      <td>1.0</td>\n",
              "    </tr>\n",
              "    <tr>\n",
              "      <th>2</th>\n",
              "      <td>13.84</td>\n",
              "      <td>13.94</td>\n",
              "      <td>0.8955</td>\n",
              "      <td>5.324</td>\n",
              "      <td>3.379</td>\n",
              "      <td>2.259</td>\n",
              "      <td>4.805</td>\n",
              "      <td>1.0</td>\n",
              "    </tr>\n",
              "    <tr>\n",
              "      <th>3</th>\n",
              "      <td>16.14</td>\n",
              "      <td>14.99</td>\n",
              "      <td>0.9034</td>\n",
              "      <td>5.658</td>\n",
              "      <td>3.562</td>\n",
              "      <td>1.355</td>\n",
              "      <td>5.175</td>\n",
              "      <td>1.0</td>\n",
              "    </tr>\n",
              "    <tr>\n",
              "      <th>4</th>\n",
              "      <td>14.38</td>\n",
              "      <td>14.21</td>\n",
              "      <td>0.8951</td>\n",
              "      <td>5.386</td>\n",
              "      <td>3.312</td>\n",
              "      <td>2.462</td>\n",
              "      <td>4.956</td>\n",
              "      <td>1.0</td>\n",
              "    </tr>\n",
              "    <tr>\n",
              "      <th>...</th>\n",
              "      <td>...</td>\n",
              "      <td>...</td>\n",
              "      <td>...</td>\n",
              "      <td>...</td>\n",
              "      <td>...</td>\n",
              "      <td>...</td>\n",
              "      <td>...</td>\n",
              "      <td>...</td>\n",
              "    </tr>\n",
              "    <tr>\n",
              "      <th>204</th>\n",
              "      <td>12.19</td>\n",
              "      <td>13.20</td>\n",
              "      <td>0.8783</td>\n",
              "      <td>5.137</td>\n",
              "      <td>2.981</td>\n",
              "      <td>3.631</td>\n",
              "      <td>4.870</td>\n",
              "      <td>3.0</td>\n",
              "    </tr>\n",
              "    <tr>\n",
              "      <th>205</th>\n",
              "      <td>11.23</td>\n",
              "      <td>12.88</td>\n",
              "      <td>0.8511</td>\n",
              "      <td>5.140</td>\n",
              "      <td>2.795</td>\n",
              "      <td>4.325</td>\n",
              "      <td>5.003</td>\n",
              "      <td>3.0</td>\n",
              "    </tr>\n",
              "    <tr>\n",
              "      <th>206</th>\n",
              "      <td>13.20</td>\n",
              "      <td>13.66</td>\n",
              "      <td>0.8883</td>\n",
              "      <td>5.236</td>\n",
              "      <td>3.232</td>\n",
              "      <td>8.315</td>\n",
              "      <td>5.056</td>\n",
              "      <td>3.0</td>\n",
              "    </tr>\n",
              "    <tr>\n",
              "      <th>207</th>\n",
              "      <td>11.84</td>\n",
              "      <td>13.21</td>\n",
              "      <td>0.8521</td>\n",
              "      <td>5.175</td>\n",
              "      <td>2.836</td>\n",
              "      <td>3.598</td>\n",
              "      <td>5.044</td>\n",
              "      <td>3.0</td>\n",
              "    </tr>\n",
              "    <tr>\n",
              "      <th>208</th>\n",
              "      <td>12.30</td>\n",
              "      <td>13.34</td>\n",
              "      <td>0.8684</td>\n",
              "      <td>5.243</td>\n",
              "      <td>2.974</td>\n",
              "      <td>5.637</td>\n",
              "      <td>5.063</td>\n",
              "      <td>3.0</td>\n",
              "    </tr>\n",
              "  </tbody>\n",
              "</table>\n",
              "<p>209 rows × 8 columns</p>\n",
              "</div>\n",
              "      <button class=\"colab-df-convert\" onclick=\"convertToInteractive('df-b69d4d33-e7dc-439d-9bfe-813bc92d1381')\"\n",
              "              title=\"Convert this dataframe to an interactive table.\"\n",
              "              style=\"display:none;\">\n",
              "        \n",
              "  <svg xmlns=\"http://www.w3.org/2000/svg\" height=\"24px\"viewBox=\"0 0 24 24\"\n",
              "       width=\"24px\">\n",
              "    <path d=\"M0 0h24v24H0V0z\" fill=\"none\"/>\n",
              "    <path d=\"M18.56 5.44l.94 2.06.94-2.06 2.06-.94-2.06-.94-.94-2.06-.94 2.06-2.06.94zm-11 1L8.5 8.5l.94-2.06 2.06-.94-2.06-.94L8.5 2.5l-.94 2.06-2.06.94zm10 10l.94 2.06.94-2.06 2.06-.94-2.06-.94-.94-2.06-.94 2.06-2.06.94z\"/><path d=\"M17.41 7.96l-1.37-1.37c-.4-.4-.92-.59-1.43-.59-.52 0-1.04.2-1.43.59L10.3 9.45l-7.72 7.72c-.78.78-.78 2.05 0 2.83L4 21.41c.39.39.9.59 1.41.59.51 0 1.02-.2 1.41-.59l7.78-7.78 2.81-2.81c.8-.78.8-2.07 0-2.86zM5.41 20L4 18.59l7.72-7.72 1.47 1.35L5.41 20z\"/>\n",
              "  </svg>\n",
              "      </button>\n",
              "      \n",
              "  <style>\n",
              "    .colab-df-container {\n",
              "      display:flex;\n",
              "      flex-wrap:wrap;\n",
              "      gap: 12px;\n",
              "    }\n",
              "\n",
              "    .colab-df-convert {\n",
              "      background-color: #E8F0FE;\n",
              "      border: none;\n",
              "      border-radius: 50%;\n",
              "      cursor: pointer;\n",
              "      display: none;\n",
              "      fill: #1967D2;\n",
              "      height: 32px;\n",
              "      padding: 0 0 0 0;\n",
              "      width: 32px;\n",
              "    }\n",
              "\n",
              "    .colab-df-convert:hover {\n",
              "      background-color: #E2EBFA;\n",
              "      box-shadow: 0px 1px 2px rgba(60, 64, 67, 0.3), 0px 1px 3px 1px rgba(60, 64, 67, 0.15);\n",
              "      fill: #174EA6;\n",
              "    }\n",
              "\n",
              "    [theme=dark] .colab-df-convert {\n",
              "      background-color: #3B4455;\n",
              "      fill: #D2E3FC;\n",
              "    }\n",
              "\n",
              "    [theme=dark] .colab-df-convert:hover {\n",
              "      background-color: #434B5C;\n",
              "      box-shadow: 0px 1px 3px 1px rgba(0, 0, 0, 0.15);\n",
              "      filter: drop-shadow(0px 1px 2px rgba(0, 0, 0, 0.3));\n",
              "      fill: #FFFFFF;\n",
              "    }\n",
              "  </style>\n",
              "\n",
              "      <script>\n",
              "        const buttonEl =\n",
              "          document.querySelector('#df-b69d4d33-e7dc-439d-9bfe-813bc92d1381 button.colab-df-convert');\n",
              "        buttonEl.style.display =\n",
              "          google.colab.kernel.accessAllowed ? 'block' : 'none';\n",
              "\n",
              "        async function convertToInteractive(key) {\n",
              "          const element = document.querySelector('#df-b69d4d33-e7dc-439d-9bfe-813bc92d1381');\n",
              "          const dataTable =\n",
              "            await google.colab.kernel.invokeFunction('convertToInteractive',\n",
              "                                                     [key], {});\n",
              "          if (!dataTable) return;\n",
              "\n",
              "          const docLinkHtml = 'Like what you see? Visit the ' +\n",
              "            '<a target=\"_blank\" href=https://colab.research.google.com/notebooks/data_table.ipynb>data table notebook</a>'\n",
              "            + ' to learn more about interactive tables.';\n",
              "          element.innerHTML = '';\n",
              "          dataTable['output_type'] = 'display_data';\n",
              "          await google.colab.output.renderOutput(dataTable, element);\n",
              "          const docLink = document.createElement('div');\n",
              "          docLink.innerHTML = docLinkHtml;\n",
              "          element.appendChild(docLink);\n",
              "        }\n",
              "      </script>\n",
              "    </div>\n",
              "  </div>\n",
              "  "
            ]
          },
          "metadata": {},
          "execution_count": 20
        }
      ]
    },
    {
      "cell_type": "code",
      "source": [
        "data=df.values\n",
        "for h in range(3,6):\n",
        "  sum_t=0\n",
        "  sum_r=0\n",
        "  sum_s=0\n",
        "  tsum_t=0\n",
        "  tsum_r=0\n",
        "  tsum_s=0\n",
        "  for n in range(5,10):\n",
        "    np.random.seed(n)\n",
        "    X_tr,X_val,X_te,Y_tr,Y_val,Y_te=preprocess(data)\n",
        "    para_t,nodes_t=model_train(X_tr,Y_tr,5,h,\"tanh\",0)\n",
        "    para_r,nodes_r=model_train(X_tr,Y_tr,5,h,\"relu\",0)\n",
        "    para_s,nodes_s=model_train(X_tr,Y_tr,5,h,\"sigmoid\",0)\n",
        "    tacc_t=model_predict(X_te,Y_te,para_t,\"tanh\")\n",
        "    tacc_r=model_predict(X_te,Y_te,para_r,\"relu\")\n",
        "    tacc_s=model_predict(X_te,Y_te,para_s,\"sigmoid\")\n",
        "    acc_t=model_predict(X_val,Y_val,para_t,\"tanh\")\n",
        "    acc_r=model_predict(X_val,Y_val,para_r,\"relu\")\n",
        "    acc_s=model_predict(X_val,Y_val,para_s,\"sigmoid\")\n",
        "    sum_t=sum_t+acc_t\n",
        "    sum_r=sum_r+acc_r\n",
        "    sum_s=sum_s+acc_s\n",
        "    tsum_t=tsum_t+tacc_t\n",
        "    tsum_r=tsum_r+tacc_r\n",
        "    tsum_s=tsum_s+tacc_s\n",
        "  \n",
        "  print(\"final validation accuracy(tanh) of\",h ,\":\",sum_t/5,\"%\")\n",
        "  print(\"final validation accuracy(relu) of\",h ,\":\", sum_r/5,\"%\")\n",
        "  print(\"final validation accuracy of(sigmoid)\",h ,\":\", sum_s/5,\"%\")\n",
        "  print(\"final testing accuracy(tanh) of\",h ,\":\",tsum_t/5,\"%\")\n",
        "  print(\"final testing accuracy(relu) of\",h ,\":\", tsum_r/5,\"%\")\n",
        "  print(\"final testing accuracy of(sigmoid)\",h ,\":\", tsum_s/5,\"%\")"
      ],
      "metadata": {
        "colab": {
          "base_uri": "https://localhost:8080/"
        },
        "id": "mANt4u8_owSL",
        "outputId": "3f6638db-c279-4d29-a5b6-fc17e6c949a9"
      },
      "execution_count": 21,
      "outputs": [
        {
          "output_type": "stream",
          "name": "stdout",
          "text": [
            "final validation accuracy(tanh) of 3 : 98.0952380952381 %\n",
            "final validation accuracy(relu) of 3 : 80.0 %\n",
            "final validation accuracy of(sigmoid) 3 : 92.38095238095238 %\n",
            "final testing accuracy(tanh) of 3 : 93.33333333333334 %\n",
            "final testing accuracy(relu) of 3 : 80.0 %\n",
            "final testing accuracy of(sigmoid) 3 : 91.42857142857143 %\n",
            "final validation accuracy(tanh) of 4 : 92.38095238095238 %\n",
            "final validation accuracy(relu) of 4 : 92.38095238095238 %\n",
            "final validation accuracy of(sigmoid) 4 : 93.33333333333334 %\n",
            "final testing accuracy(tanh) of 4 : 92.85714285714285 %\n",
            "final testing accuracy(relu) of 4 : 92.38095238095238 %\n",
            "final testing accuracy of(sigmoid) 4 : 91.42857142857144 %\n",
            "final validation accuracy(tanh) of 5 : 88.57142857142858 %\n",
            "final validation accuracy(relu) of 5 : 93.33333333333334 %\n",
            "final validation accuracy of(sigmoid) 5 : 86.66666666666667 %\n",
            "final testing accuracy(tanh) of 5 : 95.23809523809524 %\n",
            "final testing accuracy(relu) of 5 : 93.80952380952381 %\n",
            "final testing accuracy of(sigmoid) 5 : 93.33333333333334 %\n"
          ]
        }
      ]
    },
    {
      "cell_type": "code",
      "source": [
        "sum_val=0\n",
        "sum_te=0\n",
        "for n in range(5):\n",
        "  np.random.seed(n)\n",
        "  X_tr,X_val,X_te,Y_tr,Y_val,Y_te=preprocess(data)\n",
        "  para_r,nodes_r=model_train(X_tr,Y_tr,5,4,\"relu\",0) \n",
        "  acc_val=model_predict(X_val,Y_val,para_r,\"relu\")\n",
        "  acc_te=model_predict(X_te,Y_te,para_r,\"relu\")\n",
        "  sum_val=sum_val+acc_val\n",
        "  sum_te=sum_te+acc_te\n",
        "print(\"final validation accuracy of:\",sum_val/5,\"%\")  \n",
        "print(\"final testing accuracy of:\",sum_te/5,\"%\")"
      ],
      "metadata": {
        "colab": {
          "base_uri": "https://localhost:8080/"
        },
        "id": "d9q0KcSUoyu2",
        "outputId": "41c33b3b-619d-48b3-920d-d79e21ff62dc"
      },
      "execution_count": 22,
      "outputs": [
        {
          "output_type": "stream",
          "name": "stdout",
          "text": [
            "final validation accuracy of: 96.19047619047619 %\n",
            "final testing accuracy of: 94.76190476190477 %\n"
          ]
        }
      ]
    }
  ]
}