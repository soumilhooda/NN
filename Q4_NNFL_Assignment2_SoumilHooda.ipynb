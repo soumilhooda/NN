{
  "nbformat": 4,
  "nbformat_minor": 0,
  "metadata": {
    "colab": {
      "name": "Q4_NNFL_Assignment2_SoumilHooda.ipynb",
      "provenance": [],
      "authorship_tag": "ABX9TyN1Dp94E5/37MLvvk/nxCd7",
      "include_colab_link": true
    },
    "kernelspec": {
      "name": "python3",
      "display_name": "Python 3"
    },
    "language_info": {
      "name": "python"
    }
  },
  "cells": [
    {
      "cell_type": "markdown",
      "metadata": {
        "id": "view-in-github",
        "colab_type": "text"
      },
      "source": [
        "<a href=\"https://colab.research.google.com/github/soumilhooda/MLDLNNtoCV/blob/main/Q4_NNFL_Assignment2_SoumilHooda.ipynb\" target=\"_parent\"><img src=\"https://colab.research.google.com/assets/colab-badge.svg\" alt=\"Open In Colab\"/></a>"
      ]
    },
    {
      "cell_type": "code",
      "execution_count": 1,
      "metadata": {
        "id": "A-tg3JzXms2M"
      },
      "outputs": [],
      "source": [
        "import numpy as np\n",
        "import pandas as pd\n",
        "\n",
        "CONST_GAUSS=0\n",
        "CONST_LINEAR=1\n",
        "CONST_QUAD=2\n",
        "\n",
        "def get_dist(x1, x2):\n",
        "    sum = 0\n",
        "    for i in range(len(x1)):\n",
        "        sum += (x1[i] - x2[i]) ** 2\n",
        "    return np.sqrt(sum)\n",
        "\n",
        "def kmeans(X, k, max_itrs):\n",
        "  \n",
        "    centroids = X[np.random.choice(range(len(X)), k, replace=False)]\n",
        "\n",
        "    converged = False\n",
        "    \n",
        "    current_itr = 0\n",
        "\n",
        "    while (not converged) and (current_itr < max_itrs):\n",
        "\n",
        "        cluster_list = [[] for i in range(len(centroids))]\n",
        "\n",
        "        for x in X:  # Go through each Dataset point\n",
        "            dists_list = []\n",
        "            for c in centroids:\n",
        "                dists_list.append(get_dist(c, x))\n",
        "            cluster_list[int(np.argmin(dists_list))].append(x)\n",
        "\n",
        "        cluster_list = list((filter(None, cluster_list)))\n",
        "\n",
        "        prev_centroids = centroids.copy()\n",
        "\n",
        "        centroids = []\n",
        "\n",
        "        for j in range(len(cluster_list)):\n",
        "            centroids.append(np.mean(cluster_list[j], axis=0))\n",
        "\n",
        "        pattern = np.abs(np.sum(prev_centroids) - np.sum(centroids))\n",
        "\n",
        "        print('K-MEANS: ', int(pattern))\n",
        "\n",
        "        converged = (pattern == 0)\n",
        "\n",
        "        current_itr += 1\n",
        "\n",
        "    return np.array(centroids), [np.std(x) for x in cluster_list]"
      ]
    },
    {
      "cell_type": "code",
      "source": [
        "class RBF:\n",
        "\n",
        "    def __init__(self, X, y, tX, ty, num_of_classes,\n",
        "                 k, mode=CONST_GAUSS, std_from_clusters=True):\n",
        "        self.X = X\n",
        "        self.y = y\n",
        "\n",
        "        self.tX = tX\n",
        "        self.ty = ty\n",
        "\n",
        "        self.number_of_classes = num_of_classes\n",
        "        self.k = k\n",
        "        self.mode=mode\n",
        "        self.std_from_clusters = std_from_clusters\n",
        "\n",
        "    def convert_to_one_hot(self, x, num_of_classes):\n",
        "        arr = np.zeros((len(x), num_of_classes))\n",
        "        for i in range(len(x)):\n",
        "            c = int(x[i])\n",
        "            arr[i][c] = 1\n",
        "        return arr\n",
        "\n",
        "    def rbf(self, x, c, s):\n",
        "       dist = get_dist(x, c)\n",
        "       if self.mode == CONST_GAUSS:\n",
        "          return 1 / np.exp(-dist / s ** 2)\n",
        "       elif self.mode == CONST_LINEAR:\n",
        "          return dist\n",
        "       elif self.mode == CONST_QUAD:\n",
        "          return np.sqrt(dist + (s ** 2))\n",
        "\n",
        "    def rbf_list(self, X, centroids, std_list):\n",
        "        RBF_list = []\n",
        "        for x in X:\n",
        "            RBF_list.append([self.rbf(x, c, s) for (c, s) in zip(centroids, std_list)])\n",
        "        return np.array(RBF_list)\n",
        "\n",
        "    def fit(self):\n",
        "\n",
        "      self.centroids, self.std_list = kmeans(self.X, self.k, max_itrs=1000)\n",
        "\n",
        "      if not self.std_from_clusters:\n",
        "          dMax = np.max([get_dist(c1, c2) for c1 in self.centroids for c2 in self.centroids])\n",
        "          self.std_list = np.repeat(dMax / np.sqrt(2 * self.k), self.k)\n",
        "\n",
        "      RBF_X = self.rbf_list(self.X, self.centroids, self.std_list)\n",
        "\n",
        "      self.w = np.linalg.pinv(RBF_X.T @ RBF_X) @ RBF_X.T @ self.convert_to_one_hot(self.y, self.number_of_classes)\n",
        "\n",
        "      RBF_list_tst = self.rbf_list(self.tX, self.centroids, self.std_list)\n",
        "\n",
        "      self.pred_ty = RBF_list_tst @ self.w\n",
        "\n",
        "      self.pred_ty = np.array([np.argmax(x) for x in self.pred_ty])\n",
        "\n",
        "      diff = self.pred_ty - self.ty\n",
        "\n",
        "      if self.mode == CONST_GAUSS:\n",
        "        print('Gaussian Accuracy: ', len(np.where(diff == 0)[0]) / len(diff))\n",
        "      elif self.mode == CONST_LINEAR:\n",
        "        print('Linear Accuracy: ', len(np.where(diff == 0)[0]) / len(diff))\n",
        "      elif self.mode == CONST_QUAD:\n",
        "        print('Multi Quadratic Accuracy: ', len(np.where(diff == 0)[0]) / len(diff))    "
      ],
      "metadata": {
        "id": "MD_0th7PnIPV"
      },
      "execution_count": 2,
      "outputs": []
    },
    {
      "cell_type": "code",
      "source": [
        "from google.colab import files\n",
        "uploaded=files.upload()"
      ],
      "metadata": {
        "colab": {
          "resources": {
            "http://localhost:8080/nbextensions/google.colab/files.js": {
              "data": "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",
              "ok": true,
              "headers": [
                [
                  "content-type",
                  "application/javascript"
                ]
              ],
              "status": 200,
              "status_text": ""
            }
          },
          "base_uri": "https://localhost:8080/",
          "height": 73
        },
        "id": "mCsWUbRFnOBq",
        "outputId": "a56ca4ee-89cc-4afb-92a5-d2782083067c"
      },
      "execution_count": 3,
      "outputs": [
        {
          "output_type": "display_data",
          "data": {
            "text/plain": [
              "<IPython.core.display.HTML object>"
            ],
            "text/html": [
              "\n",
              "     <input type=\"file\" id=\"files-143b8ea2-b0e6-4c9c-8b7c-0306c6753b8c\" name=\"files[]\" multiple disabled\n",
              "        style=\"border:none\" />\n",
              "     <output id=\"result-143b8ea2-b0e6-4c9c-8b7c-0306c6753b8c\">\n",
              "      Upload widget is only available when the cell has been executed in the\n",
              "      current browser session. Please rerun this cell to enable.\n",
              "      </output>\n",
              "      <script src=\"/nbextensions/google.colab/files.js\"></script> "
            ]
          },
          "metadata": {}
        },
        {
          "output_type": "stream",
          "name": "stdout",
          "text": [
            "Saving data5.xlsx to data5.xlsx\n"
          ]
        }
      ]
    },
    {
      "cell_type": "code",
      "source": [
        "df = pd.read_excel('data5.xlsx')\n",
        "\n",
        "Dataset = df.to_numpy()\n",
        "\n",
        "#print(Dataset)\n",
        "np.random.shuffle(Dataset)\n",
        "train_y = Dataset[22:209, -1]-1\n",
        "train_x = Dataset[22:209, 0:5]\n",
        "\n",
        "test_y = Dataset[0:21, -1]-1\n",
        "test_x = Dataset[0:21, 0:5]\n",
        "\n",
        "#===== Gaussian\n",
        "RBF_GAUSS = RBF(train_x, train_y, test_x, test_y, num_of_classes=3,\n",
        "                     k=100, mode=CONST_GAUSS, std_from_clusters=False)\n",
        "\n",
        "RBF_GAUSS.fit()\n",
        "\n",
        "#==== Linear\n",
        "RBF_LINEAR = RBF(train_x, train_y, test_x, test_y, num_of_classes=3,\n",
        "                     k=100, mode=CONST_LINEAR, std_from_clusters=False)\n",
        "\n",
        "RBF_LINEAR.fit()\n",
        "\n",
        "#===== Multi Quadratic\n",
        "RBF_QUAD = RBF(train_x, train_y, test_x, test_y, num_of_classes=3,\n",
        "                     k=100, mode=CONST_QUAD, std_from_clusters=False)\n",
        "\n",
        "RBF_QUAD.fit()"
      ],
      "metadata": {
        "colab": {
          "base_uri": "https://localhost:8080/"
        },
        "id": "Xz0w3E-InPUI",
        "outputId": "ffe52c18-791b-4708-ccba-63225f0c3204"
      },
      "execution_count": 4,
      "outputs": [
        {
          "output_type": "stream",
          "name": "stdout",
          "text": [
            "K-MEANS:  0\n",
            "K-MEANS:  0\n",
            "K-MEANS:  0\n",
            "K-MEANS:  0\n",
            "Gaussian Accuracy:  0.9047619047619048\n",
            "K-MEANS:  1\n",
            "K-MEANS:  0\n",
            "K-MEANS:  0\n",
            "K-MEANS:  0\n",
            "Linear Accuracy:  0.9047619047619048\n",
            "K-MEANS:  0\n",
            "K-MEANS:  0\n",
            "K-MEANS:  0\n",
            "K-MEANS:  0\n",
            "K-MEANS:  0\n",
            "Multi Quadratic Accuracy:  0.9047619047619048\n"
          ]
        }
      ]
    },
    {
      "cell_type": "code",
      "source": [
        "fold1 = Dataset[0:41, :]\n",
        "fold2 = Dataset[42:83, :]\n",
        "fold3 = Dataset[84:125, :]\n",
        "fold4 = Dataset[126:167, :]\n",
        "fold5 = Dataset[168:209, :]\n",
        "#print(fold2)"
      ],
      "metadata": {
        "id": "eNEkfEz1nR3Q"
      },
      "execution_count": 5,
      "outputs": []
    },
    {
      "cell_type": "code",
      "source": [
        "train_Dataset=np.vstack((fold2, fold3, fold4, fold5))\n",
        "train_y = train_Dataset[:,-1]-1\n",
        "train_x = train_Dataset[:,0:5]\n",
        "\n",
        "test_y = fold1[:, -1]-1\n",
        "test_x = fold1[:, 0:5]\n",
        "\n",
        "#===== Gaussian\n",
        "RBF_GAUSS = RBF(train_x, train_y, test_x, test_y, num_of_classes=3,\n",
        "                     k=100, mode=CONST_GAUSS, std_from_clusters=False)\n",
        "\n",
        "RBF_GAUSS.fit()\n",
        "\n",
        "#==== Linear\n",
        "RBF_LINEAR = RBF(train_x, train_y, test_x, test_y, num_of_classes=3,\n",
        "                     k=100, mode=CONST_LINEAR, std_from_clusters=False)\n",
        "\n",
        "RBF_LINEAR.fit()\n",
        "\n",
        "#===== Multi Quadratic\n",
        "RBF_QUAD = RBF(train_x, train_y, test_x, test_y, num_of_classes=3,\n",
        "                     k=100, mode=CONST_QUAD, std_from_clusters=False)\n",
        "\n",
        "RBF_QUAD.fit()"
      ],
      "metadata": {
        "colab": {
          "base_uri": "https://localhost:8080/"
        },
        "id": "FOLQ8FlgnTZf",
        "outputId": "e83107ce-b333-4e83-98d6-1f5b4f204b10"
      },
      "execution_count": 6,
      "outputs": [
        {
          "output_type": "stream",
          "name": "stdout",
          "text": [
            "K-MEANS:  0\n",
            "K-MEANS:  0\n",
            "K-MEANS:  0\n",
            "K-MEANS:  0\n",
            "K-MEANS:  0\n",
            "Gaussian Accuracy:  0.8292682926829268\n",
            "K-MEANS:  0\n",
            "K-MEANS:  0\n",
            "K-MEANS:  0\n",
            "K-MEANS:  0\n",
            "Linear Accuracy:  0.8292682926829268\n",
            "K-MEANS:  1\n",
            "K-MEANS:  0\n",
            "K-MEANS:  0\n",
            "K-MEANS:  0\n",
            "Multi Quadratic Accuracy:  0.8292682926829268\n"
          ]
        }
      ]
    },
    {
      "cell_type": "code",
      "source": [
        "train_Dataset=np.vstack((fold1, fold3, fold4, fold5))\n",
        "train_y = train_Dataset[:,-1]-1\n",
        "train_x = train_Dataset[:,0:5]\n",
        "\n",
        "test_y = fold2[:, -1]-1\n",
        "test_x = fold2[:, 0:5]\n",
        "\n",
        "#===== Gaussian\n",
        "RBF_GAUSS = RBF(train_x, train_y, test_x, test_y, num_of_classes=3,\n",
        "                     k=100, mode=CONST_GAUSS, std_from_clusters=False)\n",
        "\n",
        "RBF_GAUSS.fit()\n",
        "\n",
        "#==== Linear\n",
        "RBF_LINEAR = RBF(train_x, train_y, test_x, test_y, num_of_classes=3,\n",
        "                     k=100, mode=CONST_LINEAR, std_from_clusters=False)\n",
        "\n",
        "RBF_LINEAR.fit()\n",
        "\n",
        "#===== Multi Quadratic\n",
        "RBF_QUAD = RBF(train_x, train_y, test_x, test_y, num_of_classes=3,\n",
        "                     k=100, mode=CONST_QUAD, std_from_clusters=False)\n",
        "\n",
        "RBF_QUAD.fit()"
      ],
      "metadata": {
        "colab": {
          "base_uri": "https://localhost:8080/"
        },
        "id": "AhwV2A8nnXqt",
        "outputId": "98aff755-ee29-45ab-9374-8a69446a07c6"
      },
      "execution_count": 7,
      "outputs": [
        {
          "output_type": "stream",
          "name": "stdout",
          "text": [
            "K-MEANS:  0\n",
            "K-MEANS:  0\n",
            "K-MEANS:  0\n",
            "K-MEANS:  0\n",
            "Gaussian Accuracy:  0.7560975609756098\n",
            "K-MEANS:  0\n",
            "K-MEANS:  0\n",
            "K-MEANS:  0\n",
            "K-MEANS:  0\n",
            "Linear Accuracy:  0.8536585365853658\n",
            "K-MEANS:  0\n",
            "K-MEANS:  0\n",
            "K-MEANS:  0\n",
            "K-MEANS:  0\n",
            "Multi Quadratic Accuracy:  0.8292682926829268\n"
          ]
        }
      ]
    },
    {
      "cell_type": "code",
      "source": [
        "train_Dataset=np.vstack((fold1, fold2, fold4, fold5))\n",
        "train_y = train_Dataset[:,-1]-1\n",
        "train_x = train_Dataset[:,0:5]\n",
        "\n",
        "test_y = fold3[:, -1]-1\n",
        "test_x = fold3[:, 0:5]\n",
        "\n",
        "#===== Gaussian\n",
        "RBF_GAUSS = RBF(train_x, train_y, test_x, test_y, num_of_classes=3,\n",
        "                     k=100, mode=CONST_GAUSS, std_from_clusters=False)\n",
        "\n",
        "RBF_GAUSS.fit()\n",
        "\n",
        "#==== Linear\n",
        "RBF_LINEAR = RBF(train_x, train_y, test_x, test_y, num_of_classes=3,\n",
        "                     k=100, mode=CONST_LINEAR, std_from_clusters=False)\n",
        "\n",
        "RBF_LINEAR.fit()\n",
        "\n",
        "#===== Multi Quadratic\n",
        "RBF_QUAD = RBF(train_x, train_y, test_x, test_y, num_of_classes=3,\n",
        "                     k=100, mode=CONST_QUAD, std_from_clusters=False)\n",
        "\n",
        "RBF_QUAD.fit()"
      ],
      "metadata": {
        "colab": {
          "base_uri": "https://localhost:8080/"
        },
        "id": "KuYgZlsznZaP",
        "outputId": "659c6940-a9cd-4769-b805-8a584084f55b"
      },
      "execution_count": 8,
      "outputs": [
        {
          "output_type": "stream",
          "name": "stdout",
          "text": [
            "K-MEANS:  0\n",
            "K-MEANS:  0\n",
            "K-MEANS:  0\n",
            "K-MEANS:  0\n",
            "Gaussian Accuracy:  0.6585365853658537\n",
            "K-MEANS:  1\n",
            "K-MEANS:  0\n",
            "K-MEANS:  0\n",
            "Linear Accuracy:  0.8048780487804879\n",
            "K-MEANS:  0\n",
            "K-MEANS:  0\n",
            "K-MEANS:  0\n",
            "K-MEANS:  0\n",
            "Multi Quadratic Accuracy:  0.8292682926829268\n"
          ]
        }
      ]
    },
    {
      "cell_type": "code",
      "source": [
        "train_Dataset=np.vstack((fold1, fold2, fold3, fold5))\n",
        "train_y = train_Dataset[:,-1]-1\n",
        "train_x = train_Dataset[:,0:5]\n",
        "\n",
        "test_y = fold4[:, -1]-1\n",
        "test_x = fold4[:, 0:5]\n",
        "\n",
        "#===== Gaussian\n",
        "RBF_GAUSS = RBF(train_x, train_y, test_x, test_y, num_of_classes=3,\n",
        "                     k=100, mode=CONST_GAUSS, std_from_clusters=False)\n",
        "\n",
        "RBF_GAUSS.fit()\n",
        "\n",
        "#==== Linear\n",
        "RBF_LINEAR = RBF(train_x, train_y, test_x, test_y, num_of_classes=3,\n",
        "                     k=100, mode=CONST_LINEAR, std_from_clusters=False)\n",
        "\n",
        "RBF_LINEAR.fit()\n",
        "\n",
        "#===== Multi Quadratic\n",
        "RBF_QUAD = RBF(train_x, train_y, test_x, test_y, num_of_classes=3,\n",
        "                     k=100, mode=CONST_QUAD, std_from_clusters=False)\n",
        "\n",
        "RBF_QUAD.fit()"
      ],
      "metadata": {
        "colab": {
          "base_uri": "https://localhost:8080/"
        },
        "id": "EcuHIgNInbZo",
        "outputId": "bcb99fd7-9823-4b16-9f63-0879a0146495"
      },
      "execution_count": 9,
      "outputs": [
        {
          "output_type": "stream",
          "name": "stdout",
          "text": [
            "K-MEANS:  1\n",
            "K-MEANS:  0\n",
            "K-MEANS:  0\n",
            "K-MEANS:  0\n",
            "Gaussian Accuracy:  0.8292682926829268\n",
            "K-MEANS:  1\n",
            "K-MEANS:  0\n",
            "K-MEANS:  0\n",
            "Linear Accuracy:  0.7804878048780488\n",
            "K-MEANS:  0\n",
            "K-MEANS:  0\n",
            "K-MEANS:  0\n",
            "K-MEANS:  0\n",
            "K-MEANS:  0\n",
            "Multi Quadratic Accuracy:  0.7560975609756098\n"
          ]
        }
      ]
    },
    {
      "cell_type": "code",
      "source": [
        "train_Dataset=np.vstack((fold1, fold2, fold3, fold4))\n",
        "train_y = train_Dataset[:,-1]-1\n",
        "train_x = train_Dataset[:,0:5]\n",
        "\n",
        "test_y = fold5[:, -1]-1\n",
        "test_x = fold5[:, 0:5]\n",
        "\n",
        "#===== Gaussian\n",
        "RBF_GAUSS = RBF(train_x, train_y, test_x, test_y, num_of_classes=3,\n",
        "                     k=100, mode=CONST_GAUSS, std_from_clusters=False)\n",
        "\n",
        "RBF_GAUSS.fit()\n",
        "\n",
        "#==== Linear\n",
        "RBF_LINEAR = RBF(train_x, train_y, test_x, test_y, num_of_classes=3,\n",
        "                     k=100, mode=CONST_LINEAR, std_from_clusters=False)\n",
        "\n",
        "RBF_LINEAR.fit()\n",
        "\n",
        "#===== Multi Quadratic\n",
        "RBF_QUAD = RBF(train_x, train_y, test_x, test_y, num_of_classes=3,\n",
        "                     k=100, mode=CONST_QUAD, std_from_clusters=False)\n",
        "\n",
        "RBF_QUAD.fit()"
      ],
      "metadata": {
        "colab": {
          "base_uri": "https://localhost:8080/"
        },
        "id": "c8tH5TfmndA1",
        "outputId": "4307f615-395b-47fd-ed0b-940e28c8daaf"
      },
      "execution_count": 10,
      "outputs": [
        {
          "output_type": "stream",
          "name": "stdout",
          "text": [
            "K-MEANS:  0\n",
            "K-MEANS:  0\n",
            "K-MEANS:  0\n",
            "Gaussian Accuracy:  0.926829268292683\n",
            "K-MEANS:  0\n",
            "K-MEANS:  0\n",
            "K-MEANS:  0\n",
            "K-MEANS:  0\n",
            "Linear Accuracy:  0.9024390243902439\n",
            "K-MEANS:  0\n",
            "K-MEANS:  0\n",
            "K-MEANS:  0\n",
            "Multi Quadratic Accuracy:  0.8536585365853658\n"
          ]
        }
      ]
    }
  ]
}