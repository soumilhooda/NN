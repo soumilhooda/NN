{
  "nbformat": 4,
  "nbformat_minor": 0,
  "metadata": {
    "colab": {
      "name": "Q5_NNFL_Assignment1_SoumilHooda.ipynb",
      "provenance": [],
      "authorship_tag": "ABX9TyN7yHt0lY4fv9QAJisBmg9f",
      "include_colab_link": true
    },
    "kernelspec": {
      "name": "python3",
      "display_name": "Python 3"
    },
    "language_info": {
      "name": "python"
    }
  },
  "cells": [
    {
      "cell_type": "markdown",
      "metadata": {
        "id": "view-in-github",
        "colab_type": "text"
      },
      "source": [
        "<a href=\"https://colab.research.google.com/github/soumilhooda/MLDLNNtoCV/blob/main/Q5_NNFL_Assignment1_SoumilHooda.ipynb\" target=\"_parent\"><img src=\"https://colab.research.google.com/assets/colab-badge.svg\" alt=\"Open In Colab\"/></a>"
      ]
    },
    {
      "cell_type": "code",
      "execution_count": 1,
      "metadata": {
        "id": "XbdRohccKcO2",
        "colab": {
          "base_uri": "https://localhost:8080/"
        },
        "outputId": "1612b704-99fe-415d-d182-0b3af6216745"
      },
      "outputs": [
        {
          "output_type": "stream",
          "name": "stdout",
          "text": [
            "Mounted at /content/drive\n"
          ]
        }
      ],
      "source": [
        "from google.colab import drive\n",
        "drive.mount('/content/drive')"
      ]
    },
    {
      "cell_type": "code",
      "source": [
        "import pandas as pd\n",
        "import math\n",
        "import matplotlib.pyplot as plt\n",
        "import numpy as np\n",
        "np.random.seed(0)\n",
        "import sklearn.metrics as skm\n",
        "from sklearn.model_selection import train_test_split "
      ],
      "metadata": {
        "id": "CMB3GPbopqsB"
      },
      "execution_count": 7,
      "outputs": []
    },
    {
      "cell_type": "code",
      "source": [
        "data = pd.read_excel('/content/drive/MyDrive/data_Q4.xlsx',header=None)\n",
        "print(data)\n",
        "print(data.shape)"
      ],
      "metadata": {
        "colab": {
          "base_uri": "https://localhost:8080/"
        },
        "id": "pt5KSDCapg9J",
        "outputId": "a71d743d-cf71-429f-e238-f1ce848a5fd3"
      },
      "execution_count": 3,
      "outputs": [
        {
          "output_type": "stream",
          "name": "stdout",
          "text": [
            "              0           1           2           3           4           5   \\\n",
            "0     242.751526  281.801298  250.032405  132.099709   61.166502  247.837695   \n",
            "1     216.585951  297.057883  300.938478  131.358295  105.976730  273.299350   \n",
            "2     265.735536  339.271134  269.817305  102.304781   83.869539  281.962656   \n",
            "3     207.631953  255.284282  254.563071  229.883639   87.492384  303.314846   \n",
            "4     205.016124  333.265999  536.342842  106.237587  155.700409  272.692251   \n",
            "...          ...         ...         ...         ...         ...         ...   \n",
            "3407  723.913528  343.529660  360.468834  233.711682  177.309124  717.744261   \n",
            "3408  466.593370  215.858228  235.940729  309.475340  126.789443  333.123293   \n",
            "3409  446.227198  219.936910  181.605753  160.483773  106.179660  416.263221   \n",
            "3410  511.406437  215.379710  170.598957   89.543149   73.107090  457.783309   \n",
            "3411  757.967516  268.431243  189.755280  156.957408  126.298293  835.417941   \n",
            "\n",
            "              6           7           8           9   ...        51        52  \\\n",
            "0     306.999281  271.560155  126.038604   74.050379  ...  1.891884  1.612099   \n",
            "1     380.251154  335.864007  109.527577  113.088266  ...  1.779043  1.592470   \n",
            "2     386.806725  347.201912  105.945737  104.016513  ...  1.524681  1.763061   \n",
            "3     310.329644  276.926943  207.445146  108.620999  ...  1.907888  1.638839   \n",
            "4     367.533485  537.061350  110.167703  133.100524  ...  1.818213  1.860656   \n",
            "...          ...         ...         ...         ...  ...       ...       ...   \n",
            "3407  448.791348  379.113979  248.029948  170.735388  ...  1.928222  1.659960   \n",
            "3408  200.966375  173.674275  301.590225  110.481002  ...  1.841637  1.836036   \n",
            "3409  251.314023  196.936825  247.802048  114.649466  ...  1.953375  1.831422   \n",
            "3410  230.770136  178.846709  123.660090   78.208996  ...  1.897879  1.903539   \n",
            "3411  337.510327  247.097266  257.882395  180.132129  ...  1.906428  1.674688   \n",
            "\n",
            "            53        54        55        56        57        58        59  60  \n",
            "0     1.396853  1.437446  1.880098  1.872789  1.603211  1.281972  1.844860   1  \n",
            "1     1.749967  1.430117  1.935712  1.739076  1.572927  1.598582  1.625395   1  \n",
            "2     1.935089  1.642102  1.929802  1.522725  1.849940  1.848160  1.706134   1  \n",
            "3     1.604410  1.683284  1.845578  1.978957  1.682881  1.710404  1.664391   1  \n",
            "4     1.789285  1.606024  1.758654  1.834728  1.740251  1.703264  1.535684   1  \n",
            "...        ...       ...       ...       ...       ...       ...       ...  ..  \n",
            "3407  1.658291  1.640978  1.888330  1.933384  1.661284  1.948758  1.758541   4  \n",
            "3408  1.556465  1.898255  1.960397  1.973080  1.740866  1.568558  1.494537   4  \n",
            "3409  1.673341  1.889050  1.862514  2.004401  1.861006  1.418510  1.772295   4  \n",
            "3410  1.836154  1.841137  1.789531  1.837314  1.957492  1.609298  1.664890   4  \n",
            "3411  1.805059  1.529764  1.835415  2.056879  1.732298  1.790039  1.560633   4  \n",
            "\n",
            "[3412 rows x 61 columns]\n",
            "(3412, 61)\n"
          ]
        }
      ]
    },
    {
      "cell_type": "code",
      "source": [
        "datavalues = data.values\n",
        "data_C1 = datavalues[0:851]\n",
        "data_C2 = datavalues[851:1706]\n",
        "data_C3 = datavalues[1706:2561]\n",
        "data_C4 = datavalues[2561:3412]\n",
        "\n",
        "print(data_C1)\n",
        "print(data_C1.shape)\n",
        "print(data_C2)\n",
        "print(data_C2.shape)\n",
        "print(data_C3)\n",
        "print(data_C3.shape)\n",
        "print(data_C4)\n",
        "print(data_C4.shape)\n",
        "\n"
      ],
      "metadata": {
        "colab": {
          "base_uri": "https://localhost:8080/"
        },
        "id": "xW3zu1xCpwtI",
        "outputId": "e35e68df-6cb1-4083-86e0-942c2f9b287e"
      },
      "execution_count": 4,
      "outputs": [
        {
          "output_type": "stream",
          "name": "stdout",
          "text": [
            "[[242.75152634 281.80129772 250.03240457 ...   1.28197209   1.8448603\n",
            "    1.        ]\n",
            " [216.58595112 297.05788313 300.9384782  ...   1.59858185   1.62539544\n",
            "    1.        ]\n",
            " [265.73553593 339.27113445 269.81730525 ...   1.84815977   1.70613365\n",
            "    1.        ]\n",
            " ...\n",
            " [700.88524156 269.70333779 191.42038943 ...   1.78296582   1.58037326\n",
            "    1.        ]\n",
            " [228.72170011 134.3151906  161.33610396 ...   1.50161818   1.42634567\n",
            "    1.        ]\n",
            " [903.97960185 253.21206733 274.57161551 ...   1.87691036   1.60425015\n",
            "    1.        ]]\n",
            "(851, 61)\n",
            "[[269.76027318 287.01611678 315.82924799 ...   1.66366202   1.59127862\n",
            "    2.        ]\n",
            " [205.21834773 430.48414301 368.36814776 ...   1.60513825   1.3842911\n",
            "    2.        ]\n",
            " [514.80086054 600.55117074 239.03434489 ...   1.61095197   1.72350444\n",
            "    2.        ]\n",
            " ...\n",
            " [556.13251924 235.73372223 220.82887323 ...   1.91400977   1.84300714\n",
            "    2.        ]\n",
            " [719.1124518  341.10593213 312.3787362  ...   1.71077753   1.81001962\n",
            "    2.        ]\n",
            " [852.98575188 314.87830112 596.40943052 ...   1.60131911   2.0505816\n",
            "    2.        ]]\n",
            "(855, 61)\n",
            "[[248.50321089 505.8429214  288.12792368 ...   1.77663653   1.54231206\n",
            "    3.        ]\n",
            " [223.87202762 289.29591498 145.70676648 ...   1.57221463   1.45278871\n",
            "    3.        ]\n",
            " [154.85407079 205.31051678 188.59337267 ...   1.67185806   1.60449899\n",
            "    3.        ]\n",
            " ...\n",
            " [393.72898781 260.89503618 296.85123961 ...   1.65762745   1.57686549\n",
            "    3.        ]\n",
            " [688.6926313  287.71272218 235.69320421 ...   1.62522759   1.67211204\n",
            "    3.        ]\n",
            " [753.44845315 315.38111651 290.53214297 ...   1.70252564   1.53000599\n",
            "    3.        ]]\n",
            "(855, 61)\n",
            "[[191.8704935  304.87471778 217.27776095 ...   1.39908158   1.59133834\n",
            "    4.        ]\n",
            " [244.58060546 515.19320159 337.60506277 ...   1.6471046    1.5058677\n",
            "    4.        ]\n",
            " [167.390952   326.83355413 228.99074017 ...   1.73770048   1.62078922\n",
            "    4.        ]\n",
            " ...\n",
            " [446.22719796 219.93690991 181.60575345 ...   1.41851014   1.77229548\n",
            "    4.        ]\n",
            " [511.40643675 215.37971012 170.59895734 ...   1.60929772   1.66489041\n",
            "    4.        ]\n",
            " [757.96751558 268.43124317 189.75528024 ...   1.79003949   1.56063308\n",
            "    4.        ]]\n",
            "(851, 61)\n"
          ]
        }
      ]
    },
    {
      "cell_type": "code",
      "source": [
        "P_C1 = data_C1.shape[0]/(data_C1.shape[0]+data_C2.shape[0]+data_C3.shape[0]+data_C4.shape[0]) #prior class probability calculation\n",
        "P_C2 = data_C2.shape[0]/(data_C1.shape[0]+data_C2.shape[0]+data_C3.shape[0]+data_C4.shape[0])\n",
        "P_C3 = data_C3.shape[0]/(data_C1.shape[0]+data_C2.shape[0]+data_C3.shape[0]+data_C4.shape[0])\n",
        "P_C4 = data_C4.shape[0]/(data_C1.shape[0]+data_C2.shape[0]+data_C3.shape[0]+data_C4.shape[0])"
      ],
      "metadata": {
        "id": "Jl6uHdfBeYdT"
      },
      "execution_count": 6,
      "outputs": []
    },
    {
      "cell_type": "code",
      "source": [
        "datatrain, datatest = train_test_split(datavalues,test_size=0.3)\n",
        "print(datatrain.shape)\n",
        "print(datatest.shape)"
      ],
      "metadata": {
        "colab": {
          "base_uri": "https://localhost:8080/"
        },
        "id": "a1OBj17bfZLI",
        "outputId": "077c873c-707c-46a4-dfce-7aea5e8f66ee"
      },
      "execution_count": 9,
      "outputs": [
        {
          "output_type": "stream",
          "name": "stdout",
          "text": [
            "(2388, 61)\n",
            "(1024, 61)\n"
          ]
        }
      ]
    },
    {
      "cell_type": "code",
      "source": [
        "Xtrain = datatrain[0:2388,0:60]\n",
        "Ytrain = datatrain[0:2388,60]\n",
        "Xtest = datatest[2388:3412,0:60]\n",
        "Ytest = datatest[2388:3412,60]\n",
        "\n"
      ],
      "metadata": {
        "id": "9v5tC28ZgbeD"
      },
      "execution_count": 14,
      "outputs": []
    },
    {
      "cell_type": "code",
      "source": [
        "def MLE(mu_K,cov_K):\n",
        "  P = (1/(((2*3.14)**(30))*(cov_K)**(1/2)))*np.exp((-1/2)*((Xtest-mu_K).T)*np.linalg.inv(cov_K)*(Xtest-mu_K))\n",
        "  return P"
      ],
      "metadata": {
        "id": "S0IFG6wrjXgw"
      },
      "execution_count": 19,
      "outputs": []
    },
    {
      "cell_type": "code",
      "source": [
        "\n"
      ],
      "metadata": {
        "id": "tmxZRDMqnYCT"
      },
      "execution_count": null,
      "outputs": []
    }
  ]
}