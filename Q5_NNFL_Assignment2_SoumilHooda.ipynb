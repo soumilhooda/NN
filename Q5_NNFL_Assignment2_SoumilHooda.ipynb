{
  "nbformat": 4,
  "nbformat_minor": 0,
  "metadata": {
    "colab": {
      "name": "Q5_NNFL_Assignment2_SoumilHooda.ipynb",
      "provenance": [],
      "authorship_tag": "ABX9TyNpzR7JcREXNplHA1/wXeQL",
      "include_colab_link": true
    },
    "kernelspec": {
      "name": "python3",
      "display_name": "Python 3"
    },
    "language_info": {
      "name": "python"
    }
  },
  "cells": [
    {
      "cell_type": "markdown",
      "metadata": {
        "id": "view-in-github",
        "colab_type": "text"
      },
      "source": [
        "<a href=\"https://colab.research.google.com/github/soumilhooda/MLDLNNtoCV/blob/main/Q5_NNFL_Assignment2_SoumilHooda.ipynb\" target=\"_parent\"><img src=\"https://colab.research.google.com/assets/colab-badge.svg\" alt=\"Open In Colab\"/></a>"
      ]
    },
    {
      "cell_type": "code",
      "execution_count": 1,
      "metadata": {
        "id": "BZURQzSJjfIA"
      },
      "outputs": [],
      "source": [
        "import numpy as np\n",
        "import pandas as pd\n",
        "import math\n",
        "import matplotlib.pyplot as plt"
      ]
    },
    {
      "cell_type": "code",
      "source": [
        "from google.colab import files\n",
        "uploaded = files.upload()"
      ],
      "metadata": {
        "colab": {
          "resources": {
            "http://localhost:8080/nbextensions/google.colab/files.js": {
              "data": "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",
              "ok": true,
              "headers": [
                [
                  "content-type",
                  "application/javascript"
                ]
              ],
              "status": 200,
              "status_text": ""
            }
          },
          "base_uri": "https://localhost:8080/",
          "height": 73
        },
        "id": "l6rh3IegkG8I",
        "outputId": "031223a6-be74-4dcc-b470-5c99aee9582b"
      },
      "execution_count": 2,
      "outputs": [
        {
          "output_type": "display_data",
          "data": {
            "text/plain": [
              "<IPython.core.display.HTML object>"
            ],
            "text/html": [
              "\n",
              "     <input type=\"file\" id=\"files-0bb15fd0-a2cd-4c26-b063-dfc9d787b6b3\" name=\"files[]\" multiple disabled\n",
              "        style=\"border:none\" />\n",
              "     <output id=\"result-0bb15fd0-a2cd-4c26-b063-dfc9d787b6b3\">\n",
              "      Upload widget is only available when the cell has been executed in the\n",
              "      current browser session. Please rerun this cell to enable.\n",
              "      </output>\n",
              "      <script src=\"/nbextensions/google.colab/files.js\"></script> "
            ]
          },
          "metadata": {}
        },
        {
          "output_type": "stream",
          "name": "stdout",
          "text": [
            "Saving data5.xlsx to data5.xlsx\n"
          ]
        }
      ]
    },
    {
      "cell_type": "code",
      "source": [
        "full=pd.read_excel('data5.xlsx',header=None,names=[\"A\",\"B\",\"C\",\"D\",\"E\",\"F\",\"G\",\"class\"])\n",
        "full.head()"
      ],
      "metadata": {
        "colab": {
          "base_uri": "https://localhost:8080/",
          "height": 206
        },
        "id": "mA_ty9VAkH8p",
        "outputId": "570ca293-d7f0-4fdb-a9fd-91626b7c449d"
      },
      "execution_count": 3,
      "outputs": [
        {
          "output_type": "execute_result",
          "data": {
            "text/plain": [
              "       A      B       C      D      E      F      G  class\n",
              "0  15.26  14.84  0.8710  5.763  3.312  2.221  5.220    1.0\n",
              "1  14.88  14.57  0.8811  5.554  3.333  1.018  4.956    1.0\n",
              "2  14.29  14.09  0.9050  5.291  3.337  2.699  4.825    1.0\n",
              "3  13.84  13.94  0.8955  5.324  3.379  2.259  4.805    1.0\n",
              "4  16.14  14.99  0.9034  5.658  3.562  1.355  5.175    1.0"
            ],
            "text/html": [
              "\n",
              "  <div id=\"df-e88c4631-4b60-4f47-854c-68e0d43f2c83\">\n",
              "    <div class=\"colab-df-container\">\n",
              "      <div>\n",
              "<style scoped>\n",
              "    .dataframe tbody tr th:only-of-type {\n",
              "        vertical-align: middle;\n",
              "    }\n",
              "\n",
              "    .dataframe tbody tr th {\n",
              "        vertical-align: top;\n",
              "    }\n",
              "\n",
              "    .dataframe thead th {\n",
              "        text-align: right;\n",
              "    }\n",
              "</style>\n",
              "<table border=\"1\" class=\"dataframe\">\n",
              "  <thead>\n",
              "    <tr style=\"text-align: right;\">\n",
              "      <th></th>\n",
              "      <th>A</th>\n",
              "      <th>B</th>\n",
              "      <th>C</th>\n",
              "      <th>D</th>\n",
              "      <th>E</th>\n",
              "      <th>F</th>\n",
              "      <th>G</th>\n",
              "      <th>class</th>\n",
              "    </tr>\n",
              "  </thead>\n",
              "  <tbody>\n",
              "    <tr>\n",
              "      <th>0</th>\n",
              "      <td>15.26</td>\n",
              "      <td>14.84</td>\n",
              "      <td>0.8710</td>\n",
              "      <td>5.763</td>\n",
              "      <td>3.312</td>\n",
              "      <td>2.221</td>\n",
              "      <td>5.220</td>\n",
              "      <td>1.0</td>\n",
              "    </tr>\n",
              "    <tr>\n",
              "      <th>1</th>\n",
              "      <td>14.88</td>\n",
              "      <td>14.57</td>\n",
              "      <td>0.8811</td>\n",
              "      <td>5.554</td>\n",
              "      <td>3.333</td>\n",
              "      <td>1.018</td>\n",
              "      <td>4.956</td>\n",
              "      <td>1.0</td>\n",
              "    </tr>\n",
              "    <tr>\n",
              "      <th>2</th>\n",
              "      <td>14.29</td>\n",
              "      <td>14.09</td>\n",
              "      <td>0.9050</td>\n",
              "      <td>5.291</td>\n",
              "      <td>3.337</td>\n",
              "      <td>2.699</td>\n",
              "      <td>4.825</td>\n",
              "      <td>1.0</td>\n",
              "    </tr>\n",
              "    <tr>\n",
              "      <th>3</th>\n",
              "      <td>13.84</td>\n",
              "      <td>13.94</td>\n",
              "      <td>0.8955</td>\n",
              "      <td>5.324</td>\n",
              "      <td>3.379</td>\n",
              "      <td>2.259</td>\n",
              "      <td>4.805</td>\n",
              "      <td>1.0</td>\n",
              "    </tr>\n",
              "    <tr>\n",
              "      <th>4</th>\n",
              "      <td>16.14</td>\n",
              "      <td>14.99</td>\n",
              "      <td>0.9034</td>\n",
              "      <td>5.658</td>\n",
              "      <td>3.562</td>\n",
              "      <td>1.355</td>\n",
              "      <td>5.175</td>\n",
              "      <td>1.0</td>\n",
              "    </tr>\n",
              "  </tbody>\n",
              "</table>\n",
              "</div>\n",
              "      <button class=\"colab-df-convert\" onclick=\"convertToInteractive('df-e88c4631-4b60-4f47-854c-68e0d43f2c83')\"\n",
              "              title=\"Convert this dataframe to an interactive table.\"\n",
              "              style=\"display:none;\">\n",
              "        \n",
              "  <svg xmlns=\"http://www.w3.org/2000/svg\" height=\"24px\"viewBox=\"0 0 24 24\"\n",
              "       width=\"24px\">\n",
              "    <path d=\"M0 0h24v24H0V0z\" fill=\"none\"/>\n",
              "    <path d=\"M18.56 5.44l.94 2.06.94-2.06 2.06-.94-2.06-.94-.94-2.06-.94 2.06-2.06.94zm-11 1L8.5 8.5l.94-2.06 2.06-.94-2.06-.94L8.5 2.5l-.94 2.06-2.06.94zm10 10l.94 2.06.94-2.06 2.06-.94-2.06-.94-.94-2.06-.94 2.06-2.06.94z\"/><path d=\"M17.41 7.96l-1.37-1.37c-.4-.4-.92-.59-1.43-.59-.52 0-1.04.2-1.43.59L10.3 9.45l-7.72 7.72c-.78.78-.78 2.05 0 2.83L4 21.41c.39.39.9.59 1.41.59.51 0 1.02-.2 1.41-.59l7.78-7.78 2.81-2.81c.8-.78.8-2.07 0-2.86zM5.41 20L4 18.59l7.72-7.72 1.47 1.35L5.41 20z\"/>\n",
              "  </svg>\n",
              "      </button>\n",
              "      \n",
              "  <style>\n",
              "    .colab-df-container {\n",
              "      display:flex;\n",
              "      flex-wrap:wrap;\n",
              "      gap: 12px;\n",
              "    }\n",
              "\n",
              "    .colab-df-convert {\n",
              "      background-color: #E8F0FE;\n",
              "      border: none;\n",
              "      border-radius: 50%;\n",
              "      cursor: pointer;\n",
              "      display: none;\n",
              "      fill: #1967D2;\n",
              "      height: 32px;\n",
              "      padding: 0 0 0 0;\n",
              "      width: 32px;\n",
              "    }\n",
              "\n",
              "    .colab-df-convert:hover {\n",
              "      background-color: #E2EBFA;\n",
              "      box-shadow: 0px 1px 2px rgba(60, 64, 67, 0.3), 0px 1px 3px 1px rgba(60, 64, 67, 0.15);\n",
              "      fill: #174EA6;\n",
              "    }\n",
              "\n",
              "    [theme=dark] .colab-df-convert {\n",
              "      background-color: #3B4455;\n",
              "      fill: #D2E3FC;\n",
              "    }\n",
              "\n",
              "    [theme=dark] .colab-df-convert:hover {\n",
              "      background-color: #434B5C;\n",
              "      box-shadow: 0px 1px 3px 1px rgba(0, 0, 0, 0.15);\n",
              "      filter: drop-shadow(0px 1px 2px rgba(0, 0, 0, 0.3));\n",
              "      fill: #FFFFFF;\n",
              "    }\n",
              "  </style>\n",
              "\n",
              "      <script>\n",
              "        const buttonEl =\n",
              "          document.querySelector('#df-e88c4631-4b60-4f47-854c-68e0d43f2c83 button.colab-df-convert');\n",
              "        buttonEl.style.display =\n",
              "          google.colab.kernel.accessAllowed ? 'block' : 'none';\n",
              "\n",
              "        async function convertToInteractive(key) {\n",
              "          const element = document.querySelector('#df-e88c4631-4b60-4f47-854c-68e0d43f2c83');\n",
              "          const dataTable =\n",
              "            await google.colab.kernel.invokeFunction('convertToInteractive',\n",
              "                                                     [key], {});\n",
              "          if (!dataTable) return;\n",
              "\n",
              "          const docLinkHtml = 'Like what you see? Visit the ' +\n",
              "            '<a target=\"_blank\" href=https://colab.research.google.com/notebooks/data_table.ipynb>data table notebook</a>'\n",
              "            + ' to learn more about interactive tables.';\n",
              "          element.innerHTML = '';\n",
              "          dataTable['output_type'] = 'display_data';\n",
              "          await google.colab.output.renderOutput(dataTable, element);\n",
              "          const docLink = document.createElement('div');\n",
              "          docLink.innerHTML = docLinkHtml;\n",
              "          element.appendChild(docLink);\n",
              "        }\n",
              "      </script>\n",
              "    </div>\n",
              "  </div>\n",
              "  "
            ]
          },
          "metadata": {},
          "execution_count": 3
        }
      ]
    },
    {
      "cell_type": "code",
      "source": [
        "full=full.values\n",
        "np.random.shuffle(full)\n",
        "\n",
        "x_full=full[:,0:7]\n",
        "y_full=full[:,7:8]"
      ],
      "metadata": {
        "id": "yXd3LCJ_kJNw"
      },
      "execution_count": 4,
      "outputs": []
    },
    {
      "cell_type": "code",
      "source": [
        "x_normalized=np.ones((x_full.shape[0],x_full.shape[1]+1))\n",
        "for i in range(x_full.shape[1]):\n",
        "  x_normalized[:,i+1:i+2]=(x_full[:,i:i+1]-np.amin(x_full[:,i:i+1]))/(np.amax(x_full[:,i:i+1])-np.amin(x_full[:,i:i+1]))"
      ],
      "metadata": {
        "id": "pLR_fpRPkKhf"
      },
      "execution_count": 5,
      "outputs": []
    },
    {
      "cell_type": "code",
      "source": [
        "y_normalized=np.zeros((len(y_full),3))\n",
        "\n",
        "for i in range(len(y_full)):\n",
        "  if y_full[i][0]==1:\n",
        "    y_normalized[i][0]=1\n",
        "    y_normalized[i][1]=0\n",
        "    y_normalized[i][2]=0\n",
        "  elif y_full[i][0]==2:\n",
        "    y_normalized[i][0]=0\n",
        "    y_normalized[i][1]=1\n",
        "    y_normalized[i][2]=0\n",
        "  elif y_full[i][0]==3:\n",
        "    y_normalized[i][0]=0\n",
        "    y_normalized[i][1]=0\n",
        "    y_normalized[i][2]=1"
      ],
      "metadata": {
        "id": "VgJzkDmWkMDz"
      },
      "execution_count": 6,
      "outputs": []
    },
    {
      "cell_type": "code",
      "source": [
        "def divide_tr_va_te(x_normalized,y_normalized):\n",
        "  x_tr=x_normalized[:math.floor(0.7*x_normalized.shape[0])]\n",
        "  x_va=x_normalized[math.floor(0.7*x_normalized.shape[0]):math.floor(0.8*x_normalized.shape[0])]\n",
        "  x_te=x_normalized[math.floor(0.8*x_normalized.shape[0]):]\n",
        "\n",
        "  y_tr=y_normalized[:math.floor(0.7*y_normalized.shape[0])]\n",
        "  y_va=y_normalized[math.floor(0.7*y_normalized.shape[0]):math.floor(0.8*y_normalized.shape[0])]\n",
        "  y_te=y_normalized[math.floor(0.8*y_normalized.shape[0]):]\n",
        "  return x_tr,x_va,x_te,y_tr,y_va,y_te\n",
        "\n",
        "x_tr,x_va,x_te,y_tr,y_va,y_te=divide_tr_va_te(x_normalized,y_normalized)\n",
        "print(x_tr.shape)\n",
        "print(x_va.shape)\n",
        "print(x_te.shape)\n",
        "print(y_tr.shape)"
      ],
      "metadata": {
        "colab": {
          "base_uri": "https://localhost:8080/"
        },
        "id": "-XsKfm9gkNhq",
        "outputId": "e0a33922-af17-4463-f3aa-962bfb4ff176"
      },
      "execution_count": 7,
      "outputs": [
        {
          "output_type": "stream",
          "name": "stdout",
          "text": [
            "(147, 8)\n",
            "(21, 8)\n",
            "(42, 8)\n",
            "(147, 3)\n"
          ]
        }
      ]
    },
    {
      "cell_type": "code",
      "source": [
        "def sigmoid(x):\n",
        "  return 1/(1+np.exp(-x))"
      ],
      "metadata": {
        "id": "zZJecOZbkPCY"
      },
      "execution_count": 8,
      "outputs": []
    },
    {
      "cell_type": "code",
      "source": [
        "def delta_sigm(x):\n",
        "  return np.multiply(x,1-x)"
      ],
      "metadata": {
        "id": "SNuBqTi4kQva"
      },
      "execution_count": 9,
      "outputs": []
    },
    {
      "cell_type": "code",
      "source": [
        "def fpa(inp,w1,b1,w2,b2):\n",
        "  h=inp@w1+b1\n",
        "  h=sigmoid(h)\n",
        "  o=h@w2+b2\n",
        "  o=sigmoid(o)\n",
        "  return inp,h,o"
      ],
      "metadata": {
        "id": "o_u2iS9ikSRe"
      },
      "execution_count": 10,
      "outputs": []
    },
    {
      "cell_type": "code",
      "source": [
        "def bpa(inp,a1,a2,a3,w1,b1,w2,b2,alpha,lam):\n",
        "  delta3=-1*((inp-a3)*delta_sigm(a3))\n",
        "  delta2=np.multiply(delta_sigm(a2), (delta3 @ w2.T) )\n",
        "  w2=w2*(1-alpha*lam)-(alpha)*(a2.T @ delta3)\n",
        "  w1=w1*(1-alpha*lam)-(alpha)*(a1.T @ delta2)\n",
        "  b2=b2-(alpha)*np.sum(delta3,axis=0)\n",
        "  b1=b1-(alpha)*np.sum(delta2,axis=0)\n",
        "  return w1,b1,w2,b2"
      ],
      "metadata": {
        "id": "ixQ-o4KIkUBW"
      },
      "execution_count": 11,
      "outputs": []
    },
    {
      "cell_type": "code",
      "source": [
        "def cost(w1,b1,w2,b2,inp,a1,a2,a3,lam,hidden):\n",
        "  err_sq=((a3-inp)**2)/2\n",
        "  err=np.sum(np.sum(err_sq))/len(inp)\n",
        "  pj=np.sum(a2,axis=1)/len(inp)\n",
        "  err2=(lam/2) * (np.sum(np.sum(w1**2))+np.sum(np.sum(w2**2)))\n",
        "  j=err+err2\n",
        "  return j"
      ],
      "metadata": {
        "id": "YmIaMNj4kVf7"
      },
      "execution_count": 12,
      "outputs": []
    },
    {
      "cell_type": "code",
      "source": [
        "def error(pred,act):\n",
        "  return np.sum((pred-act)**2)/len(pred)"
      ],
      "metadata": {
        "id": "KnC5-j34kXCB"
      },
      "execution_count": 13,
      "outputs": []
    },
    {
      "cell_type": "code",
      "source": [
        "def pre_training(x_tr,x_va,hidden_least,hidden_max):\n",
        "  hidden_arr=np.arange(hidden_least,hidden_max+1,1)\n",
        "\n",
        "  alpha_arr=np.arange(0.01,0.1,0.01)\n",
        "  lam_arr=np.arange(0.1,1,0.1)\n",
        "\n",
        "  j_min=float('inf')\n",
        "  alpha_min=0\n",
        "  lam_min=0\n",
        "  hidden_min=0\n",
        "  w1_min=0\n",
        "  w2_min=0\n",
        "  b1_min=0\n",
        "  b2_min=0\n",
        "\n",
        "  for hidden_index in range(len(hidden_arr)):\n",
        "    for alpha_index in range(len(alpha_arr)):\n",
        "      for lam_index in range(len(lam_arr)):\n",
        "        hidden=hidden_arr[hidden_index]\n",
        "        alpha=alpha_arr[alpha_index]\n",
        "        lam=lam_arr[lam_index]\n",
        "\n",
        "        inp=x_tr\n",
        "\n",
        "        w1=np.zeros((inp.shape[1],hidden))\n",
        "        w2=np.zeros((hidden,inp.shape[1]))\n",
        "        b1=np.zeros((1,hidden))\n",
        "        b2=np.zeros((1,inp.shape[1]))\n",
        "\n",
        "        for i in range(500):\n",
        "          a1,a2,a3=fpa(inp,w1,b1,w2,b2)\n",
        "          w1,b1,w2,b2=bpa(inp,a1,a2,a3,w1,b1,w2,b2,alpha,lam)\n",
        "\n",
        "        a1,a2,a3=fpa(x_va,w1,b1,w2,b2)\n",
        "        j=error(a3,x_va)\n",
        "        if j<=j_min:\n",
        "          j_min=j\n",
        "          alpha_min=alpha\n",
        "          lam_min=lam\n",
        "          hidden_min=hidden\n",
        "          w1_min=w1\n",
        "          w2_min=w2\n",
        "          b1_min=b1\n",
        "          b2_min=b2\n",
        "  print(f'hidden_min is {hidden_min}, j is {j_min}, alpha is {alpha_min}, lambda is {lam_min}')\n",
        "  return w1_min,b1_min,w2_min,b2_min,hidden_min"
      ],
      "metadata": {
        "id": "a1Zi7Q6UkYZj"
      },
      "execution_count": 14,
      "outputs": []
    },
    {
      "cell_type": "code",
      "source": [
        "w1,b1,w11,b11,hidden1=pre_training(x_tr,x_va,5,x_tr.shape[1]-1)"
      ],
      "metadata": {
        "colab": {
          "base_uri": "https://localhost:8080/"
        },
        "id": "gNQhWDoPkbbL",
        "outputId": "f9609673-6e00-43f2-eaed-71b1ca174ff4"
      },
      "execution_count": 15,
      "outputs": [
        {
          "output_type": "stream",
          "name": "stdout",
          "text": [
            "hidden_min is 7, j is 0.08913234313320365, alpha is 0.02, lambda is 0.1\n"
          ]
        }
      ]
    },
    {
      "cell_type": "code",
      "source": [
        "a1_tr,a2_tr,a3_tr=fpa(x_tr,w1,b1,w11,b11)\n",
        "a1_va,a2_va,a3_va=fpa(x_va,w1,b1,w11,b11)"
      ],
      "metadata": {
        "id": "G5d_0huhkdBx"
      },
      "execution_count": 16,
      "outputs": []
    },
    {
      "cell_type": "code",
      "source": [
        "\n",
        "w2,b2,w22,b22,hidden2=pre_training(a2_tr,a2_va,4,hidden1-1)\n",
        "a21_tr,a22_tr,a23_tr=fpa(a2_tr,w2,b2,w22,b22)\n",
        "a21_va,a22_va,a23_va=fpa(a2_va,w2,b2,w22,b22)\n",
        "\n",
        "print('a22_tr ',a22_tr.shape)"
      ],
      "metadata": {
        "colab": {
          "base_uri": "https://localhost:8080/"
        },
        "id": "PQcCJk3mkevu",
        "outputId": "9254707e-47b1-4523-efee-f23739788e10"
      },
      "execution_count": 17,
      "outputs": [
        {
          "output_type": "stream",
          "name": "stdout",
          "text": [
            "hidden_min is 6, j is 0.0020477386684816952, alpha is 0.060000000000000005, lambda is 0.1\n",
            "a22_tr  (147, 6)\n"
          ]
        }
      ]
    },
    {
      "cell_type": "code",
      "source": [
        "w3,b3,w33,b33,hidden3=pre_training(a22_tr,a22_va,3,hidden2-1)"
      ],
      "metadata": {
        "colab": {
          "base_uri": "https://localhost:8080/"
        },
        "id": "BfLhMJJwkuzb",
        "outputId": "d1bb1518-cfec-4c78-ef8b-debf8f3288b8"
      },
      "execution_count": 18,
      "outputs": [
        {
          "output_type": "stream",
          "name": "stdout",
          "text": [
            "hidden_min is 5, j is 0.00183306325600429, alpha is 0.02, lambda is 0.1\n"
          ]
        }
      ]
    },
    {
      "cell_type": "code",
      "source": [
        "def fpa_stack(inp,w1,b1,w2,b2,w3,b3,w4,b4):\n",
        "  h1=inp@w1+b1\n",
        "  h1=sigmoid(h1)\n",
        "  h2=h1@w2+b2\n",
        "  h2=sigmoid(h2)\n",
        "  h3=h2@w3+b3\n",
        "  h3=sigmoid(h3)\n",
        "  # print(h3.shape)\n",
        "  h4=h3@w4+b4\n",
        "  h4=sigmoid(h4)\n",
        "  \n",
        "  return inp,h1,h2,h3,h4"
      ],
      "metadata": {
        "id": "zGaIs01_kwSr"
      },
      "execution_count": 19,
      "outputs": []
    },
    {
      "cell_type": "code",
      "source": [
        "def bpa_stack(inp,a1,a2,a3,a4,a5,w1,b1,w2,b2,w3,b3,w4,b4,alpha,lam,y_tr):\n",
        "  delta5=-1*(np.multiply(y_tr-a5,delta_sigm(a5)))\n",
        "  delta4=np.multiply( (delta5 @ w4.T),delta_sigm(a4) )\n",
        "  delta3=np.multiply( (delta4 @ w3.T),delta_sigm(a3))\n",
        "  delta2=np.multiply( (delta3 @ w2.T),delta_sigm(a2))\n",
        "\n",
        "  w4=w4*(1-alpha*lam)-(alpha)*(a4.T @ delta5)  \n",
        "  w3=w3*(1-alpha*lam)-(alpha)*(a3.T @ delta4)\n",
        "  w2=w2*(1-alpha*lam)-(alpha)*(a2.T @ delta3)\n",
        "  w1=w1*(1-alpha*lam)-(alpha)*(a1.T @ delta2)\n",
        "\n",
        "  b4=b4-(alpha)*np.sum(delta5,axis=0)\n",
        "  b3=b3-(alpha)*np.sum(delta4,axis=0)\n",
        "  b2=b2-(alpha)*np.sum(delta3,axis=0)\n",
        "  b1=b1-(alpha)*np.sum(delta2,axis=0)\n",
        "  return w1,b1,w2,b2,w3,b3,w4,b4"
      ],
      "metadata": {
        "id": "nPB3Y9i1kyhL"
      },
      "execution_count": 20,
      "outputs": []
    },
    {
      "cell_type": "code",
      "source": [
        "def cost_stack(w1,b1,w2,b2,w3,b3,w4,b4,inp,a5,lam,y_tr):\n",
        "  err_sq=((a5-y_tr)**2)/2\n",
        "  err=np.sum(np.sum(err_sq))/len(inp)\n",
        "  err2=(lam/2) * (np.sum(np.sum(w1**2))+np.sum(np.sum(w2**2))+np.sum(np.sum(w3**2))+np.sum(np.sum(w4**2)))\n",
        "  j=err+err2\n",
        "  return j"
      ],
      "metadata": {
        "id": "FAN-xj2ak00C"
      },
      "execution_count": 21,
      "outputs": []
    },
    {
      "cell_type": "code",
      "source": [
        "def hot_decoding(m):\n",
        "  temp=np.zeros((len(m),1))\n",
        "  \n",
        "  for i in range(len(m)):\n",
        "    temp[i]=np.argmax(m[i])+1\n",
        "  \n",
        "  return temp\n",
        "\n",
        "def pred_err(y_pred,y_te):\n",
        "  y_pred_dec=hot_decoding(y_pred)\n",
        "  y_te_dec=hot_decoding(y_te)\n",
        "\n",
        "  err=0\n",
        "  for i in range(len(y_te)):\n",
        "    if y_pred_dec[i]!=y_te_dec[i]:\n",
        "      err+=1\n",
        "  return err"
      ],
      "metadata": {
        "id": "zN5PWBOJk2TQ"
      },
      "execution_count": 22,
      "outputs": []
    },
    {
      "cell_type": "code",
      "source": [
        "def stacked(x_tr,x_va,w1_opt,b1_opt,w2_opt,b2_opt,w3_opt,b3_opt):\n",
        "  alpha_arr=np.arange(0.01,0.1,0.01)\n",
        "  lam_arr=np.arange(0.1,1,0.1)\n",
        "\n",
        "  j_min=float('inf')\n",
        "  alpha_min=0\n",
        "  lam_min=0\n",
        "  w1_min=0\n",
        "  w2_min=0\n",
        "  w3_min=0\n",
        "  w4_min=0\n",
        "\n",
        "  b1_min=0\n",
        "  b2_min=0\n",
        "  b3_min=0\n",
        "  b4_min=0\n",
        "\n",
        "  for alpha_index in range(len(alpha_arr)):\n",
        "    for lam_index in range(len(lam_arr)):\n",
        "\n",
        "        w1=w1_opt\n",
        "        b1=b1_opt\n",
        "        w2=w2_opt\n",
        "        b2=b2_opt\n",
        "        w3=w3_opt\n",
        "        b3=b3_opt\n",
        "\n",
        "        alpha=alpha_arr[alpha_index]\n",
        "        lam=lam_arr[lam_index]\n",
        "\n",
        "        inp=x_tr\n",
        "\n",
        "        w4=np.zeros((hidden3,3))\n",
        "        b4=np.zeros((1,3))\n",
        "\n",
        "        for i in range(500):\n",
        "          a1,a2,a3,a4,a5=fpa_stack(inp,w1,b1,w2,b2,w3,b3,w4,b4)\n",
        "          w1,b1,w2,b2,w3,b3,w4,b4=bpa_stack(inp,a1,a2,a3,a4,a5,w1,b1,w2,b2,w3,b3,w4,b4,alpha,lam,y_tr)\n",
        "\n",
        "        a1,a2,a3,a4,a5=fpa_stack(x_va,w1,b1,w2,b2,w3,b3,w4,b4)\n",
        "        j=pred_err(a5,y_va)\n",
        "        if j<=j_min:\n",
        "          j_min=j\n",
        "          alpha_min=alpha\n",
        "          lam_min=lam\n",
        "          w1_min=w1\n",
        "          w2_min=w2\n",
        "          w3_min=w3\n",
        "          w4_min=w4\n",
        "\n",
        "          b1_min=b1\n",
        "          b2_min=b2\n",
        "          b3_min=b3\n",
        "          b4_min=b4\n",
        "  print(f'j is {j_min}, alpha is {alpha_min}, lambda is {lam_min}')\n",
        "  return w1_min,b1_min,w2_min,b2_min,w3_min,b3_min,w4_min,b4_min"
      ],
      "metadata": {
        "id": "3F0fjJOfk3o0"
      },
      "execution_count": 23,
      "outputs": []
    },
    {
      "cell_type": "code",
      "source": [
        "w1_stack,b1_stack,w2_stack,b2_stack,w3_stack,b3_stack,w4_stack,b4_stack=stacked(x_tr,x_va,w1,b1,w2,b2,w3,b3)"
      ],
      "metadata": {
        "colab": {
          "base_uri": "https://localhost:8080/"
        },
        "id": "rHKq2uULlIC_",
        "outputId": "5861ecae-d477-4346-f259-01f1c32f8613"
      },
      "execution_count": 24,
      "outputs": [
        {
          "output_type": "stream",
          "name": "stdout",
          "text": [
            "j is 3, alpha is 0.03, lambda is 0.2\n"
          ]
        }
      ]
    },
    {
      "cell_type": "code",
      "source": [
        "a1,a2,a3,a4,a5=fpa_stack(x_te,w1_stack,b1_stack,w2_stack,b2_stack,w3_stack,b3_stack,w4_stack,b4_stack)"
      ],
      "metadata": {
        "id": "EqjfQa-KmiJO"
      },
      "execution_count": 27,
      "outputs": []
    },
    {
      "cell_type": "code",
      "source": [
        "y_output_actual=hot_decoding(y_te)\n",
        "y_output=hot_decoding(a5)\n",
        "\n",
        "confusion_matrix=pd.crosstab(y_output_actual.flatten(),y_output.flatten())\n",
        "confusion_matrix=np.asarray(confusion_matrix)\n",
        "print(\"Confusion matrix is \")\n",
        "print(confusion_matrix)\n",
        "acc=(confusion_matrix[0][0]+confusion_matrix[1][1]+confusion_matrix[2][2])/len(x_te)*100\n",
        "print(\"Overall accuracy is \",acc)\n",
        "for i in range(3):\n",
        "  acc=confusion_matrix[i][i]/(np.sum(confusion_matrix[i]))\n",
        "  print(f\"Accuracy of class {i+1} :\",acc*100)"
      ],
      "metadata": {
        "colab": {
          "base_uri": "https://localhost:8080/"
        },
        "id": "YheQl_fFlk_e",
        "outputId": "d35b7313-5b9d-45fa-b6bf-c1a02de97f30"
      },
      "execution_count": 28,
      "outputs": [
        {
          "output_type": "stream",
          "name": "stdout",
          "text": [
            "Confusion matrix is \n",
            "[[ 7  0  5]\n",
            " [ 0 15  0]\n",
            " [ 0  0 15]]\n",
            "Overall accuracy is  88.09523809523809\n",
            "Accuracy of class 1 : 58.333333333333336\n",
            "Accuracy of class 2 : 100.0\n",
            "Accuracy of class 3 : 100.0\n"
          ]
        }
      ]
    }
  ]
}