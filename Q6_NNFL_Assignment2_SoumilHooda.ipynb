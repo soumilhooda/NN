{
  "nbformat": 4,
  "nbformat_minor": 0,
  "metadata": {
    "colab": {
      "name": "Q6_NNFL_Assignment2_SoumilHooda.ipynb",
      "provenance": [],
      "authorship_tag": "ABX9TyP7sOrAmp4YRcFAsFzcRYaM",
      "include_colab_link": true
    },
    "kernelspec": {
      "name": "python3",
      "display_name": "Python 3"
    },
    "language_info": {
      "name": "python"
    }
  },
  "cells": [
    {
      "cell_type": "markdown",
      "metadata": {
        "id": "view-in-github",
        "colab_type": "text"
      },
      "source": [
        "<a href=\"https://colab.research.google.com/github/soumilhooda/MLDLNNtoCV/blob/main/Q6_NNFL_Assignment2_SoumilHooda.ipynb\" target=\"_parent\"><img src=\"https://colab.research.google.com/assets/colab-badge.svg\" alt=\"Open In Colab\"/></a>"
      ]
    },
    {
      "cell_type": "code",
      "execution_count": 1,
      "metadata": {
        "id": "8twgnmQmiVV3"
      },
      "outputs": [],
      "source": [
        "import numpy as np\n",
        "import pandas as pd\n",
        "import io\n",
        "import matplotlib.pyplot as plt "
      ]
    },
    {
      "cell_type": "code",
      "source": [
        "from google.colab import files\n",
        "uploaded = files.upload()"
      ],
      "metadata": {
        "colab": {
          "resources": {
            "http://localhost:8080/nbextensions/google.colab/files.js": {
              "data": "Ly8gQ29weXJpZ2h0IDIwMTcgR29vZ2xlIExMQwovLwovLyBMaWNlbnNlZCB1bmRlciB0aGUgQXBhY2hlIExpY2Vuc2UsIFZlcnNpb24gMi4wICh0aGUgIkxpY2Vuc2UiKTsKLy8geW91IG1heSBub3QgdXNlIHRoaXMgZmlsZSBleGNlcHQgaW4gY29tcGxpYW5jZSB3aXRoIHRoZSBMaWNlbnNlLgovLyBZb3UgbWF5IG9idGFpbiBhIGNvcHkgb2YgdGhlIExpY2Vuc2UgYXQKLy8KLy8gICAgICBodHRwOi8vd3d3LmFwYWNoZS5vcmcvbGljZW5zZXMvTElDRU5TRS0yLjAKLy8KLy8gVW5sZXNzIHJlcXVpcmVkIGJ5IGFwcGxpY2FibGUgbGF3IG9yIGFncmVlZCB0byBpbiB3cml0aW5nLCBzb2Z0d2FyZQovLyBkaXN0cmlidXRlZCB1bmRlciB0aGUgTGljZW5zZSBpcyBkaXN0cmlidXRlZCBvbiBhbiAiQVMgSVMiIEJBU0lTLAovLyBXSVRIT1VUIFdBUlJBTlRJRVMgT1IgQ09ORElUSU9OUyBPRiBBTlkgS0lORCwgZWl0aGVyIGV4cHJlc3Mgb3IgaW1wbGllZC4KLy8gU2VlIHRoZSBMaWNlbnNlIGZvciB0aGUgc3BlY2lmaWMgbGFuZ3VhZ2UgZ292ZXJuaW5nIHBlcm1pc3Npb25zIGFuZAovLyBsaW1pdGF0aW9ucyB1bmRlciB0aGUgTGljZW5zZS4KCi8qKgogKiBAZmlsZW92ZXJ2aWV3IEhlbHBlcnMgZm9yIGdvb2dsZS5jb2xhYiBQeXRob24gbW9kdWxlLgogKi8KKGZ1bmN0aW9uKHNjb3BlKSB7CmZ1bmN0aW9uIHNwYW4odGV4dCwgc3R5bGVBdHRyaWJ1dGVzID0ge30pIHsKICBjb25zdCBlbGVtZW50ID0gZG9jdW1lbnQuY3JlYXRlRWxlbWVudCgnc3BhbicpOwogIGVsZW1lbnQudGV4dENvbnRlbnQgPSB0ZXh0OwogIGZvciAoY29uc3Qga2V5IG9mIE9iamVjdC5rZXlzKHN0eWxlQXR0cmlidXRlcykpIHsKICAgIGVsZW1lbnQuc3R5bGVba2V5XSA9IHN0eWxlQXR0cmlidXRlc1trZXldOwogIH0KICByZXR1cm4gZWxlbWVudDsKfQoKLy8gTWF4IG51bWJlciBvZiBieXRlcyB3aGljaCB3aWxsIGJlIHVwbG9hZGVkIGF0IGEgdGltZS4KY29uc3QgTUFYX1BBWUxPQURfU0laRSA9IDEwMCAqIDEwMjQ7CgpmdW5jdGlvbiBfdXBsb2FkRmlsZXMoaW5wdXRJZCwgb3V0cHV0SWQpIHsKICBjb25zdCBzdGVwcyA9IHVwbG9hZEZpbGVzU3RlcChpbnB1dElkLCBvdXRwdXRJZCk7CiAgY29uc3Qgb3V0cHV0RWxlbWVudCA9IGRvY3VtZW50LmdldEVsZW1lbnRCeUlkKG91dHB1dElkKTsKICAvLyBDYWNoZSBzdGVwcyBvbiB0aGUgb3V0cHV0RWxlbWVudCB0byBtYWtlIGl0IGF2YWlsYWJsZSBmb3IgdGhlIG5leHQgY2FsbAogIC8vIHRvIHVwbG9hZEZpbGVzQ29udGludWUgZnJvbSBQeXRob24uCiAgb3V0cHV0RWxlbWVudC5zdGVwcyA9IHN0ZXBzOwoKICByZXR1cm4gX3VwbG9hZEZpbGVzQ29udGludWUob3V0cHV0SWQpOwp9CgovLyBUaGlzIGlzIHJvdWdobHkgYW4gYXN5bmMgZ2VuZXJhdG9yIChub3Qgc3VwcG9ydGVkIGluIHRoZSBicm93c2VyIHlldCksCi8vIHdoZXJlIHRoZXJlIGFyZSBtdWx0aXBsZSBhc3luY2hyb25vdXMgc3RlcHMgYW5kIHRoZSBQeXRob24gc2lkZSBpcyBnb2luZwovLyB0byBwb2xsIGZvciBjb21wbGV0aW9uIG9mIGVhY2ggc3RlcC4KLy8gVGhpcyB1c2VzIGEgUHJvbWlzZSB0byBibG9jayB0aGUgcHl0aG9uIHNpZGUgb24gY29tcGxldGlvbiBvZiBlYWNoIHN0ZXAsCi8vIHRoZW4gcGFzc2VzIHRoZSByZXN1bHQgb2YgdGhlIHByZXZpb3VzIHN0ZXAgYXMgdGhlIGlucHV0IHRvIHRoZSBuZXh0IHN0ZXAuCmZ1bmN0aW9uIF91cGxvYWRGaWxlc0NvbnRpbnVlKG91dHB1dElkKSB7CiAgY29uc3Qgb3V0cHV0RWxlbWVudCA9IGRvY3VtZW50LmdldEVsZW1lbnRCeUlkKG91dHB1dElkKTsKICBjb25zdCBzdGVwcyA9IG91dHB1dEVsZW1lbnQuc3RlcHM7CgogIGNvbnN0IG5leHQgPSBzdGVwcy5uZXh0KG91dHB1dEVsZW1lbnQubGFzdFByb21pc2VWYWx1ZSk7CiAgcmV0dXJuIFByb21pc2UucmVzb2x2ZShuZXh0LnZhbHVlLnByb21pc2UpLnRoZW4oKHZhbHVlKSA9PiB7CiAgICAvLyBDYWNoZSB0aGUgbGFzdCBwcm9taXNlIHZhbHVlIHRvIG1ha2UgaXQgYXZhaWxhYmxlIHRvIHRoZSBuZXh0CiAgICAvLyBzdGVwIG9mIHRoZSBnZW5lcmF0b3IuCiAgICBvdXRwdXRFbGVtZW50Lmxhc3RQcm9taXNlVmFsdWUgPSB2YWx1ZTsKICAgIHJldHVybiBuZXh0LnZhbHVlLnJlc3BvbnNlOwogIH0pOwp9CgovKioKICogR2VuZXJhdG9yIGZ1bmN0aW9uIHdoaWNoIGlzIGNhbGxlZCBiZXR3ZWVuIGVhY2ggYXN5bmMgc3RlcCBvZiB0aGUgdXBsb2FkCiAqIHByb2Nlc3MuCiAqIEBwYXJhbSB7c3RyaW5nfSBpbnB1dElkIEVsZW1lbnQgSUQgb2YgdGhlIGlucHV0IGZpbGUgcGlja2VyIGVsZW1lbnQuCiAqIEBwYXJhbSB7c3RyaW5nfSBvdXRwdXRJZCBFbGVtZW50IElEIG9mIHRoZSBvdXRwdXQgZGlzcGxheS4KICogQHJldHVybiB7IUl0ZXJhYmxlPCFPYmplY3Q+fSBJdGVyYWJsZSBvZiBuZXh0IHN0ZXBzLgogKi8KZnVuY3Rpb24qIHVwbG9hZEZpbGVzU3RlcChpbnB1dElkLCBvdXRwdXRJZCkgewogIGNvbnN0IGlucHV0RWxlbWVudCA9IGRvY3VtZW50LmdldEVsZW1lbnRCeUlkKGlucHV0SWQpOwogIGlucHV0RWxlbWVudC5kaXNhYmxlZCA9IGZhbHNlOwoKICBjb25zdCBvdXRwdXRFbGVtZW50ID0gZG9jdW1lbnQuZ2V0RWxlbWVudEJ5SWQob3V0cHV0SWQpOwogIG91dHB1dEVsZW1lbnQuaW5uZXJIVE1MID0gJyc7CgogIGNvbnN0IHBpY2tlZFByb21pc2UgPSBuZXcgUHJvbWlzZSgocmVzb2x2ZSkgPT4gewogICAgaW5wdXRFbGVtZW50LmFkZEV2ZW50TGlzdGVuZXIoJ2NoYW5nZScsIChlKSA9PiB7CiAgICAgIHJlc29sdmUoZS50YXJnZXQuZmlsZXMpOwogICAgfSk7CiAgfSk7CgogIGNvbnN0IGNhbmNlbCA9IGRvY3VtZW50LmNyZWF0ZUVsZW1lbnQoJ2J1dHRvbicpOwogIGlucHV0RWxlbWVudC5wYXJlbnRFbGVtZW50LmFwcGVuZENoaWxkKGNhbmNlbCk7CiAgY2FuY2VsLnRleHRDb250ZW50ID0gJ0NhbmNlbCB1cGxvYWQnOwogIGNvbnN0IGNhbmNlbFByb21pc2UgPSBuZXcgUHJvbWlzZSgocmVzb2x2ZSkgPT4gewogICAgY2FuY2VsLm9uY2xpY2sgPSAoKSA9PiB7CiAgICAgIHJlc29sdmUobnVsbCk7CiAgICB9OwogIH0pOwoKICAvLyBXYWl0IGZvciB0aGUgdXNlciB0byBwaWNrIHRoZSBmaWxlcy4KICBjb25zdCBmaWxlcyA9IHlpZWxkIHsKICAgIHByb21pc2U6IFByb21pc2UucmFjZShbcGlja2VkUHJvbWlzZSwgY2FuY2VsUHJvbWlzZV0pLAogICAgcmVzcG9uc2U6IHsKICAgICAgYWN0aW9uOiAnc3RhcnRpbmcnLAogICAgfQogIH07CgogIGNhbmNlbC5yZW1vdmUoKTsKCiAgLy8gRGlzYWJsZSB0aGUgaW5wdXQgZWxlbWVudCBzaW5jZSBmdXJ0aGVyIHBpY2tzIGFyZSBub3QgYWxsb3dlZC4KICBpbnB1dEVsZW1lbnQuZGlzYWJsZWQgPSB0cnVlOwoKICBpZiAoIWZpbGVzKSB7CiAgICByZXR1cm4gewogICAgICByZXNwb25zZTogewogICAgICAgIGFjdGlvbjogJ2NvbXBsZXRlJywKICAgICAgfQogICAgfTsKICB9CgogIGZvciAoY29uc3QgZmlsZSBvZiBmaWxlcykgewogICAgY29uc3QgbGkgPSBkb2N1bWVudC5jcmVhdGVFbGVtZW50KCdsaScpOwogICAgbGkuYXBwZW5kKHNwYW4oZmlsZS5uYW1lLCB7Zm9udFdlaWdodDogJ2JvbGQnfSkpOwogICAgbGkuYXBwZW5kKHNwYW4oCiAgICAgICAgYCgke2ZpbGUudHlwZSB8fCAnbi9hJ30pIC0gJHtmaWxlLnNpemV9IGJ5dGVzLCBgICsKICAgICAgICBgbGFzdCBtb2RpZmllZDogJHsKICAgICAgICAgICAgZmlsZS5sYXN0TW9kaWZpZWREYXRlID8gZmlsZS5sYXN0TW9kaWZpZWREYXRlLnRvTG9jYWxlRGF0ZVN0cmluZygpIDoKICAgICAgICAgICAgICAgICAgICAgICAgICAgICAgICAgICAgJ24vYSd9IC0gYCkpOwogICAgY29uc3QgcGVyY2VudCA9IHNwYW4oJzAlIGRvbmUnKTsKICAgIGxpLmFwcGVuZENoaWxkKHBlcmNlbnQpOwoKICAgIG91dHB1dEVsZW1lbnQuYXBwZW5kQ2hpbGQobGkpOwoKICAgIGNvbnN0IGZpbGVEYXRhUHJvbWlzZSA9IG5ldyBQcm9taXNlKChyZXNvbHZlKSA9PiB7CiAgICAgIGNvbnN0IHJlYWRlciA9IG5ldyBGaWxlUmVhZGVyKCk7CiAgICAgIHJlYWRlci5vbmxvYWQgPSAoZSkgPT4gewogICAgICAgIHJlc29sdmUoZS50YXJnZXQucmVzdWx0KTsKICAgICAgfTsKICAgICAgcmVhZGVyLnJlYWRBc0FycmF5QnVmZmVyKGZpbGUpOwogICAgfSk7CiAgICAvLyBXYWl0IGZvciB0aGUgZGF0YSB0byBiZSByZWFkeS4KICAgIGxldCBmaWxlRGF0YSA9IHlpZWxkIHsKICAgICAgcHJvbWlzZTogZmlsZURhdGFQcm9taXNlLAogICAgICByZXNwb25zZTogewogICAgICAgIGFjdGlvbjogJ2NvbnRpbnVlJywKICAgICAgfQogICAgfTsKCiAgICAvLyBVc2UgYSBjaHVua2VkIHNlbmRpbmcgdG8gYXZvaWQgbWVzc2FnZSBzaXplIGxpbWl0cy4gU2VlIGIvNjIxMTU2NjAuCiAgICBsZXQgcG9zaXRpb24gPSAwOwogICAgZG8gewogICAgICBjb25zdCBsZW5ndGggPSBNYXRoLm1pbihmaWxlRGF0YS5ieXRlTGVuZ3RoIC0gcG9zaXRpb24sIE1BWF9QQVlMT0FEX1NJWkUpOwogICAgICBjb25zdCBjaHVuayA9IG5ldyBVaW50OEFycmF5KGZpbGVEYXRhLCBwb3NpdGlvbiwgbGVuZ3RoKTsKICAgICAgcG9zaXRpb24gKz0gbGVuZ3RoOwoKICAgICAgY29uc3QgYmFzZTY0ID0gYnRvYShTdHJpbmcuZnJvbUNoYXJDb2RlLmFwcGx5KG51bGwsIGNodW5rKSk7CiAgICAgIHlpZWxkIHsKICAgICAgICByZXNwb25zZTogewogICAgICAgICAgYWN0aW9uOiAnYXBwZW5kJywKICAgICAgICAgIGZpbGU6IGZpbGUubmFtZSwKICAgICAgICAgIGRhdGE6IGJhc2U2NCwKICAgICAgICB9LAogICAgICB9OwoKICAgICAgbGV0IHBlcmNlbnREb25lID0gZmlsZURhdGEuYnl0ZUxlbmd0aCA9PT0gMCA/CiAgICAgICAgICAxMDAgOgogICAgICAgICAgTWF0aC5yb3VuZCgocG9zaXRpb24gLyBmaWxlRGF0YS5ieXRlTGVuZ3RoKSAqIDEwMCk7CiAgICAgIHBlcmNlbnQudGV4dENvbnRlbnQgPSBgJHtwZXJjZW50RG9uZX0lIGRvbmVgOwoKICAgIH0gd2hpbGUgKHBvc2l0aW9uIDwgZmlsZURhdGEuYnl0ZUxlbmd0aCk7CiAgfQoKICAvLyBBbGwgZG9uZS4KICB5aWVsZCB7CiAgICByZXNwb25zZTogewogICAgICBhY3Rpb246ICdjb21wbGV0ZScsCiAgICB9CiAgfTsKfQoKc2NvcGUuZ29vZ2xlID0gc2NvcGUuZ29vZ2xlIHx8IHt9OwpzY29wZS5nb29nbGUuY29sYWIgPSBzY29wZS5nb29nbGUuY29sYWIgfHwge307CnNjb3BlLmdvb2dsZS5jb2xhYi5fZmlsZXMgPSB7CiAgX3VwbG9hZEZpbGVzLAogIF91cGxvYWRGaWxlc0NvbnRpbnVlLAp9Owp9KShzZWxmKTsK",
              "ok": true,
              "headers": [
                [
                  "content-type",
                  "application/javascript"
                ]
              ],
              "status": 200,
              "status_text": ""
            }
          },
          "base_uri": "https://localhost:8080/",
          "height": 73
        },
        "id": "W5IgMxKEigDZ",
        "outputId": "199a246f-23b3-4569-aedc-855b9c448664"
      },
      "execution_count": 2,
      "outputs": [
        {
          "output_type": "display_data",
          "data": {
            "text/plain": [
              "<IPython.core.display.HTML object>"
            ],
            "text/html": [
              "\n",
              "     <input type=\"file\" id=\"files-8d833da3-06dd-462a-98b6-1bc190552188\" name=\"files[]\" multiple disabled\n",
              "        style=\"border:none\" />\n",
              "     <output id=\"result-8d833da3-06dd-462a-98b6-1bc190552188\">\n",
              "      Upload widget is only available when the cell has been executed in the\n",
              "      current browser session. Please rerun this cell to enable.\n",
              "      </output>\n",
              "      <script src=\"/nbextensions/google.colab/files.js\"></script> "
            ]
          },
          "metadata": {}
        },
        {
          "output_type": "stream",
          "name": "stdout",
          "text": [
            "Saving data5.xlsx to data5.xlsx\n"
          ]
        }
      ]
    },
    {
      "cell_type": "code",
      "source": [
        "def hotencode(Y_t):\n",
        "  m=Y_t.shape[0]\n",
        "  s = (m,3)\n",
        "  Y_train=np.zeros(s)\n",
        "  for i in range(m):\n",
        "    if Y_t[i]==1:\n",
        "        Y_train[i,:]=[1,0,0]\n",
        "    if Y_t[i]==2:\n",
        "        Y_train[i,:]=[0,1,0]\n",
        "    if Y_t[i]==3:\n",
        "        Y_train[i,:]=[0,0,1]\n",
        "  return Y_train"
      ],
      "metadata": {
        "id": "30H8aqx5ihG1"
      },
      "execution_count": 3,
      "outputs": []
    },
    {
      "cell_type": "code",
      "source": [
        "def per(mat,m):\n",
        "  ia=np.zeros(3)\n",
        "  for i in range(3):\n",
        "    ia[i] = (mat[i,i]/(mat[i,0]+mat[i,1]+mat[i,2]))*100\n",
        "  oa=((mat[0,0]+mat[1,1]+mat[2,2])/m)*100\n",
        "  return ia[0],ia[1],ia[2],oa\n"
      ],
      "metadata": {
        "id": "-UbZ8WdCiv8x"
      },
      "execution_count": 4,
      "outputs": []
    },
    {
      "cell_type": "code",
      "source": [
        "dataset = pd.read_excel('data5.xlsx')\n",
        "dataset = dataset.to_numpy()\n",
        "m= len(dataset[:,0])\n",
        "n = len(dataset[0,:])-1\n",
        "for i in range(1,n,1):\n",
        "  dataset[:,i] = (dataset[:,i] - dataset[:,i].mean())/dataset[:,i].std()\n",
        "np.random.shuffle(dataset)"
      ],
      "metadata": {
        "id": "DxuzOogLix4Y"
      },
      "execution_count": 5,
      "outputs": []
    },
    {
      "cell_type": "code",
      "source": [
        "def input_to_hidden(x,t):\n",
        "  if t==1:\n",
        "    a = np.dot(x, W_input)\n",
        "    #a = np.maximum(a, 0, a) # ReLU\n",
        "    b1=1-np.exp(-a) #hyperbolic tan\n",
        "    b2=1+np.exp(-a)\n",
        "    a=b1/b2\n",
        "  if t==2:\n",
        "    f = np.dot(x, W_input) #gaussian \n",
        "    a= 1 / (1 + np.exp(-f))\n",
        "\n",
        "\n",
        "\n",
        "  return a"
      ],
      "metadata": {
        "id": "3_n47FMDizVR"
      },
      "execution_count": 6,
      "outputs": []
    },
    {
      "cell_type": "code",
      "source": [
        "def predict(x,W_Output,t):\n",
        "    x = input_to_hidden(x,t)\n",
        "    y = np.dot(x, W_Output)\n",
        "    return y"
      ],
      "metadata": {
        "id": "880LzQIPi0_p"
      },
      "execution_count": 7,
      "outputs": []
    },
    {
      "cell_type": "code",
      "source": [
        "K = 5 # no of folds for Tan H\n",
        "accuracy = 0\n",
        "class1 = 0\n",
        "class2 = 0\n",
        "class3 = 0\n",
        "for k in range(K):\n",
        "  X_test = dataset[int((0.8-0.2*k)*m):int(m*(1-0.2*k)),:]\n",
        "  X_train = np.delete(dataset,np.s_[int((0.8-0.2*k)*m):int((1-0.2*k)*m)], axis=0)\n",
        "  m_tr = len(X_train[:,0])\n",
        "  m_te = len(X_test[:,0])\n",
        "  Y_training=X_train[:,-1].astype(int)\n",
        "  Y_testing=X_test[:,-1].astype(int)\n",
        "  X_train = np.delete(X_train, -1, axis=1)\n",
        "  X_test = np.delete(X_test, -1, axis=1)\n",
        "  Y_test=hotencode(Y_testing)\n",
        "  Y_train=hotencode(Y_training)\n",
        "  samples=X_train.shape[0]\n",
        "  Hidden=30\n",
        "  InputN=X_train.shape[1]\n",
        "  W_input = np.random.normal(size=[InputN, Hidden])\n",
        "  X = input_to_hidden(X_train,1)\n",
        "  Xt = np.transpose(X)\n",
        "  W_Output = np.dot(np.linalg.inv(np.dot(Xt, X)), np.dot(Xt, Y_train))\n",
        "  Yt=predict(X_test,W_Output,1)\n",
        "  correct = 0\n",
        "  total = Yt.shape[0]\n",
        "  predicted=np.zeros(Y_test.shape[0])\n",
        "  test2=predicted\n",
        "  for i in range(total):\n",
        "      predicted[i] = np.argmax(Yt[i])+1\n",
        "      test = np.argmax(Y_test[i])+1\n",
        "      correct = correct + (1 if predicted[i] == test else 0)\n",
        "      test2[i]=test\n",
        "  confusion_matrix = np.zeros(9).reshape(3,3)\n",
        "  for i in range(total):\n",
        "    if predicted[i] == test2[i]:\n",
        "      idx = int(test2[i])\n",
        "      confusion_matrix[idx-1,idx-1] +=1\n",
        "    else:\n",
        "      confusion_matrix[test2[i]-1,predicted[i]-1] +=1\n",
        "  class1t,class2t,class3t,accuracyt=per(confusion_matrix,total)\n",
        "  class1=class1+class1t\n",
        "  class2=class2+class2t\n",
        "  class3=class3+class3t\n",
        "  accuracy=accuracy+accuracyt\n",
        "\n",
        "print('Overall Accuracy:', accuracy/K,'\\nClass1 Accuracy:',class1/K,'\\nClass2 Accuracy:'\n",
        ",class2/K,'\\nClass3 Accuracy:',class3/K)"
      ],
      "metadata": {
        "colab": {
          "base_uri": "https://localhost:8080/"
        },
        "id": "mbVb1CvTi2lY",
        "outputId": "0e614bbf-98e6-4922-f200-3a23afae4c6f"
      },
      "execution_count": 8,
      "outputs": [
        {
          "output_type": "stream",
          "name": "stdout",
          "text": [
            "Overall Accuracy: 100.0 \n",
            "Class1 Accuracy: 100.0 \n",
            "Class2 Accuracy: 100.0 \n",
            "Class3 Accuracy: 100.0\n"
          ]
        }
      ]
    },
    {
      "cell_type": "code",
      "source": [
        "K = 5 # no of folds for Gaussian\n",
        "accuracy = 0\n",
        "class1 = 0\n",
        "class2 = 0\n",
        "class3 = 0\n",
        "for k in range(K):\n",
        "  X_test = dataset[int((0.8-0.2*k)*m):int(m*(1-0.2*k)),:]\n",
        "  X_train = np.delete(dataset,np.s_[int((0.8-0.2*k)*m):int((1-0.2*k)*m)], axis=0)\n",
        "  m_tr = len(X_train[:,0])\n",
        "  m_te = len(X_test[:,0])\n",
        "  Y_training=X_train[:,-1].astype(int)\n",
        "  Y_testing=X_test[:,-1].astype(int)\n",
        "  X_train = np.delete(X_train, -1, axis=1)\n",
        "  X_test = np.delete(X_test, -1, axis=1)\n",
        "  Y_test=hotencode(Y_testing)\n",
        "  Y_train=hotencode(Y_training)\n",
        "  samples=X_train.shape[0]\n",
        "  Hidden=30\n",
        "  InputN=X_train.shape[1]\n",
        "  W_input = np.random.normal(size=[InputN, Hidden])\n",
        "  X = input_to_hidden(X_train,2)\n",
        "  Xt = np.transpose(X)\n",
        "  W_Output = np.dot(np.linalg.inv(np.dot(Xt, X)), np.dot(Xt, Y_train))\n",
        "  Yt=predict(X_test,W_Output,2)\n",
        "  correct = 0\n",
        "  total = Yt.shape[0]\n",
        "  predicted=np.zeros(Y_test.shape[0])\n",
        "  test2=predicted\n",
        "  for i in range(total):\n",
        "      predicted[i] = np.argmax(Yt[i])+1\n",
        "      test = np.argmax(Y_test[i])+1\n",
        "      correct = correct + (1 if predicted[i] == test else 0)\n",
        "      test2[i]=test\n",
        "  confusion_matrix = np.zeros(9).reshape(3,3)\n",
        "  for i in range(total):\n",
        "    if predicted[i] == test2[i]:\n",
        "      idx = int(test2[i])\n",
        "      confusion_matrix[idx-1,idx-1] +=1\n",
        "    else:\n",
        "      confusion_matrix[test2[i]-1,predicted[i]-1] +=1\n",
        "  class1t,class2t,class3t,accuracyt=per(confusion_matrix,total)\n",
        "  class1=class1+class1t\n",
        "  class2=class2+class2t\n",
        "  class3=class3+class3t\n",
        "  accuracy=accuracy+accuracyt\n",
        "\n",
        "print('Overall Accuracy:', accuracy/K,'\\nClass1 Accuracy:',class1/K,'\\nClass2 Accuracy:'\n",
        ",class2/K,'\\nClass3 Accuracy:',class3/K)"
      ],
      "metadata": {
        "colab": {
          "base_uri": "https://localhost:8080/"
        },
        "id": "jpODjRT4i5J_",
        "outputId": "55e178c8-1d79-42c2-bb5a-89486ab80a54"
      },
      "execution_count": 9,
      "outputs": [
        {
          "output_type": "stream",
          "name": "stdout",
          "text": [
            "Overall Accuracy: 100.0 \n",
            "Class1 Accuracy: 100.0 \n",
            "Class2 Accuracy: 100.0 \n",
            "Class3 Accuracy: 100.0\n"
          ]
        }
      ]
    }
  ]
}