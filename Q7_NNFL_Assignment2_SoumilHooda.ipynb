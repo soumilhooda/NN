{
  "nbformat": 4,
  "nbformat_minor": 0,
  "metadata": {
    "colab": {
      "name": "Q7_NNFL_Assignment2_SoumilHooda.ipynb",
      "provenance": [],
      "authorship_tag": "ABX9TyMMWv6qPgYZMdSkEPGciG8i",
      "include_colab_link": true
    },
    "kernelspec": {
      "name": "python3",
      "display_name": "Python 3"
    },
    "language_info": {
      "name": "python"
    }
  },
  "cells": [
    {
      "cell_type": "markdown",
      "metadata": {
        "id": "view-in-github",
        "colab_type": "text"
      },
      "source": [
        "<a href=\"https://colab.research.google.com/github/soumilhooda/MLDLNNtoCV/blob/main/Q7_NNFL_Assignment2_SoumilHooda.ipynb\" target=\"_parent\"><img src=\"https://colab.research.google.com/assets/colab-badge.svg\" alt=\"Open In Colab\"/></a>"
      ]
    },
    {
      "cell_type": "code",
      "execution_count": 1,
      "metadata": {
        "colab": {
          "resources": {
            "http://localhost:8080/nbextensions/google.colab/files.js": {
              "data": "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",
              "ok": true,
              "headers": [
                [
                  "content-type",
                  "application/javascript"
                ]
              ],
              "status": 200,
              "status_text": ""
            }
          },
          "base_uri": "https://localhost:8080/",
          "height": 73
        },
        "id": "5Qj-LVqDbE-T",
        "outputId": "9112c283-cc95-4f53-f1b2-badfb3543c12"
      },
      "outputs": [
        {
          "output_type": "display_data",
          "data": {
            "text/plain": [
              "<IPython.core.display.HTML object>"
            ],
            "text/html": [
              "\n",
              "     <input type=\"file\" id=\"files-30d86c37-4aca-4646-92ee-667e8fb9d605\" name=\"files[]\" multiple disabled\n",
              "        style=\"border:none\" />\n",
              "     <output id=\"result-30d86c37-4aca-4646-92ee-667e8fb9d605\">\n",
              "      Upload widget is only available when the cell has been executed in the\n",
              "      current browser session. Please rerun this cell to enable.\n",
              "      </output>\n",
              "      <script src=\"/nbextensions/google.colab/files.js\"></script> "
            ]
          },
          "metadata": {}
        },
        {
          "output_type": "stream",
          "name": "stdout",
          "text": [
            "Saving data5.xlsx to data5.xlsx\n"
          ]
        }
      ],
      "source": [
        "from google.colab import files\n",
        "uploaded = files.upload()"
      ]
    },
    {
      "cell_type": "code",
      "source": [
        "import numpy as np\n",
        "import pandas as pd\n",
        "from sklearn.metrics import confusion_matrix as cm\n",
        "from numpy import random"
      ],
      "metadata": {
        "id": "PcXzvHlZe3wD"
      },
      "execution_count": 2,
      "outputs": []
    },
    {
      "cell_type": "code",
      "source": [
        "Dataset = pd.read_excel('data5.xlsx', header = None)\n",
        "Dataset = np.array(Dataset)\n",
        "np.random.shuffle(Dataset)\n",
        "\n",
        "def initialize(Dataset):\n",
        "  X = np.array(Dataset[:,:-1], dtype = float)\n",
        "  y = np.array(Dataset[:,-1], dtype = int)\n",
        "  X = (X - X.mean(axis = 0))/X.std(axis = 0)\n",
        "  return X, y\n",
        "\n",
        "X_total, y_total = initialize(Dataset)\n",
        "y = np.zeros((len(y_total), 3))\n",
        "for i in range(len(y_total)):\n",
        "  if y_total[i] == 1:\n",
        "    y[i,0] = 1.0\n",
        "  elif y_total[i] == 2:\n",
        "    y[i,1] = 1.0\n",
        "  elif y_total[i] == 3:\n",
        "    y[i,2] = 1.0\n",
        "\n",
        "X_Train, Y_Train = X_total[:int(0.7 * len(X_total))], y[:int(0.7 * len(X_total))]\n",
        "X_validation, y_validation = X_total[int(0.7 * len(X_total)):], y[int(0.7 * len(X_total)):]\n",
        "alpha = 0.5"
      ],
      "metadata": {
        "id": "D1Wr3xGAe48X"
      },
      "execution_count": 3,
      "outputs": []
    },
    {
      "cell_type": "code",
      "source": [
        "def sigmoid(x, derivative = False):\n",
        "  if derivative == True:\n",
        "    return x * (1 - x)\n",
        "  return 1/(1 + np.exp(-x))"
      ],
      "metadata": {
        "id": "Yyh6kQIqe7wX"
      },
      "execution_count": 4,
      "outputs": []
    },
    {
      "cell_type": "code",
      "source": [
        "def tanh(x):\n",
        "  return np.tanh(x)"
      ],
      "metadata": {
        "id": "gkTH6_cBe9i2"
      },
      "execution_count": 5,
      "outputs": []
    },
    {
      "cell_type": "code",
      "source": [
        "def cost_calc(neuralNetwork, x, y):\n",
        "  cost = 0\n",
        "  for i in range(len(x)):\n",
        "    X = np.reshape(x[i], (len(x[i]), 1))\n",
        "    cost += 0.5/len(x) * np.sum((y[i] - neuralNetwork.forward_propagation(X)) ** 2)\n",
        "  return cost"
      ],
      "metadata": {
        "id": "qB3Bjg6tfBRt"
      },
      "execution_count": 6,
      "outputs": []
    },
    {
      "cell_type": "code",
      "source": [
        "class NeuralNetwork(object):\n",
        "  def __init__(self, sizes):\n",
        "    self.number_layers = len(sizes)\n",
        "    self.sizes = sizes\n",
        "    self.weight = {}\n",
        "    self.activation = {} \n",
        "    self.bias = {} \n",
        "\n",
        "    for i in range(1, self.number_layers):\n",
        "      self.weight[i] = np.random.randn(self.sizes[i-1], self.sizes[i])\n",
        "    \n",
        "    for i in range(1, self.number_layers):\n",
        "      self.bias[i] = np.random.randn(self.sizes[i], 1)\n",
        "\n",
        "    for i in range(1, self.number_layers):\n",
        "      self.activation[i] = np.zeros([self.sizes[i], 1])\n",
        "  \n",
        "  def forward_propagation(self, X):\n",
        "    self.activation[0] = X\n",
        "    for i in range(1, self.number_layers):\n",
        "      self.activation[i] = sigmoid(np.dot(self.weight[i].T, self.activation[i-1]) + self.bias[i])\n",
        "    return self.activation[self.number_layers - 1]\n",
        "  \n",
        "  def backward_propagation(self, X, y, output):\n",
        "    self.d = {}\n",
        "    self.d_output = (y - output) * sigmoid(output, derivative = True)\n",
        "    self.d[self.number_layers - 1] = self.d_output\n",
        "\n",
        "    for i in range(self.number_layers - 1, 1, -1):\n",
        "      self.d[i-1] = np.dot(self.weight[i], self.d[i]) * sigmoid(self.activation[i-1], derivative = True)\n",
        "\n",
        "    for i in range(1, self.number_layers - 1):\n",
        "      self.weight[i] += alpha * np.dot(self.activation[i-1], self.d[i].T)\n",
        "    \n",
        "    for i in range(1, self.number_layers - 1):\n",
        "      self.bias[i] += alpha * self.d[i]\n",
        "        \n",
        "  def training_process(self, X, y):\n",
        "    X = np.reshape(X, (len(X), 1))\n",
        "    output = self.forward_propagation(X)\n",
        "    self.backward_propagation(X, y, output)\n",
        "\n",
        "  def get_weight(self):\n",
        "    return self.weight\n",
        "  \n",
        "  def load_weights(self, weight):\n",
        "    self.weight = weight\n",
        "\n",
        "  def get_activation(self, X):\n",
        "    X = np.reshape(X, (len(X), 1))\n",
        "    self.forward_propagation(X)\n",
        "    return self.activation\n",
        "  \n",
        "  def load_activations(self, activation):\n",
        "    self.activation = activation"
      ],
      "metadata": {
        "id": "3G9YF-bJfDCp"
      },
      "execution_count": 7,
      "outputs": []
    },
    {
      "cell_type": "code",
      "source": [
        "autoencoder1 = NeuralNetwork([7,6,7])\n",
        "autoencoder2 = NeuralNetwork([6,3,6])\n",
        "\n",
        "for i in range(500):\n",
        "  for j, row in enumerate(X_Train):\n",
        "    row = np.reshape(row, (7,1))\n",
        "    autoencoder1.training_process(row, row)\n",
        "  \n",
        "  cost = cost_calc(autoencoder1, X_Train, X_Train)\n",
        "\n",
        "   \n",
        "\n",
        "autoencoder2_input = []\n",
        "for row in X_Train:\n",
        "  autoencoder2_input.append(autoencoder1.get_activation(row)[1])\n",
        "\n",
        "autoencoder2_input = np.array(autoencoder2_input)\n",
        "\n",
        "\n",
        "for i in range(500):\n",
        "  for j, row in enumerate(autoencoder2_input):\n",
        "    row = np.reshape(row, (6, 1))\n",
        "    autoencoder2.training_process(row, row)\n",
        "  \n",
        "  cost = cost_calc(autoencoder2, autoencoder2_input, autoencoder2_input)\n",
        "\n",
        "elm_input = []\n",
        "for row in autoencoder2_input:\n",
        "  elm_input.append(autoencoder2.get_activation(row)[1])\n",
        "elm_input = np.array(elm_input)\n",
        "\n",
        "elm_neurons = 25\n",
        "output_neurons = 3\n",
        "weight_elm = np.random.randn(elm_input.shape[1], elm_neurons)\n",
        "\n",
        "np.random.seed(1)\n",
        "elm_input = np.reshape(elm_input, (147, 3))\n",
        "H = np.matmul(elm_input, weight_elm)\n",
        "H = tanh(H)\n",
        "H_inv = np.linalg.pinv(H)\n",
        "weight_final = np.matmul(H_inv, Y_Train)\n",
        "\n",
        "layer1_output = []\n",
        "for i, row in enumerate(X_validation):\n",
        "  activation = autoencoder1.get_activation(row)[1]\n",
        "  layer1_output.append(activation)\n",
        "layer1_output = np.array(layer1_output)\n",
        "layer1_output = np.reshape(layer1_output, (63, 6))\n",
        "\n",
        "layer2_output = []\n",
        "for i, row in enumerate(layer1_output):\n",
        "  activation = autoencoder2.get_activation(row)[1]\n",
        "  layer2_output.append(activation)\n",
        "layer2_output = np.array(layer2_output)\n",
        "layer2_output = np.reshape(layer2_output, (63, 3))\n",
        "\n",
        "ht = np.matmul(layer2_output, weight_elm)\n",
        "ht = tanh(ht)\n",
        "y_prediction = np.matmul(ht, weight_final)\n",
        "\n",
        "activation = [np.argmax(y_prediction[i]) for i in range(len(y_prediction))]\n",
        "bias = [np.argmax(y_validation[i]) for i in range(len(y_validation))]\n",
        "\n",
        "confusion_matrix = cm(bias, activation)\n",
        "\n",
        "confusion_matrix = np.array(confusion_matrix)\n",
        "\n",
        "accuracy1 = (confusion_matrix[0][0])/(confusion_matrix[0][0] + confusion_matrix[0][1] + confusion_matrix[0][2])\n",
        "accuracy2 = (confusion_matrix[1][1])/(confusion_matrix[1][0] + confusion_matrix[1][1] + confusion_matrix[1][2])\n",
        "accuracy3 = (confusion_matrix[2][2])/(confusion_matrix[2][0] + confusion_matrix[2][1] + confusion_matrix[2][2])\n",
        "\n",
        "sum_allelements = 0.0\n",
        "for i in range(3):\n",
        "  for j in range(3):\n",
        "    sum_allelements += confusion_matrix[i][j]\n",
        "\n",
        "numerator = (confusion_matrix[0][0] + confusion_matrix[1][1] + confusion_matrix[2][2])\n",
        "final_accuracy = numerator/sum_allelements\n",
        "\n",
        "print(\"class1 accuracy \", accuracy1)\n",
        "print(\"class2 accuracy \", accuracy2)\n",
        "print(\"class3 accuracy\", accuracy3)\n",
        "print(\"final accuracy  \", final_accuracy)\n"
      ],
      "metadata": {
        "colab": {
          "base_uri": "https://localhost:8080/"
        },
        "id": "XF82Mq1SfWSD",
        "outputId": "74015cae-70d4-47a5-baca-bf3b08891dbd"
      },
      "execution_count": 8,
      "outputs": [
        {
          "output_type": "stream",
          "name": "stdout",
          "text": [
            "class1 accuracy  0.7142857142857143\n",
            "class2 accuracy  0.6842105263157895\n",
            "class3 accuracy 0.9130434782608695\n",
            "final accuracy   0.7777777777777778\n"
          ]
        }
      ]
    }
  ]
}