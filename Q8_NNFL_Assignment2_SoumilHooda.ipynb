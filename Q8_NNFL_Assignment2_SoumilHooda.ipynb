{
  "nbformat": 4,
  "nbformat_minor": 0,
  "metadata": {
    "colab": {
      "name": "Q8_NNFL_Assignment2_SoumilHooda.ipynb",
      "provenance": [],
      "authorship_tag": "ABX9TyNYp9WsiXcMzbKWYchXFvhj",
      "include_colab_link": true
    },
    "kernelspec": {
      "name": "python3",
      "display_name": "Python 3"
    },
    "language_info": {
      "name": "python"
    }
  },
  "cells": [
    {
      "cell_type": "markdown",
      "metadata": {
        "id": "view-in-github",
        "colab_type": "text"
      },
      "source": [
        "<a href=\"https://colab.research.google.com/github/soumilhooda/MLDLNNtoCV/blob/main/Q8_NNFL_Assignment2_SoumilHooda.ipynb\" target=\"_parent\"><img src=\"https://colab.research.google.com/assets/colab-badge.svg\" alt=\"Open In Colab\"/></a>"
      ]
    },
    {
      "cell_type": "code",
      "execution_count": 1,
      "metadata": {
        "id": "E7SEUzJLYsbs"
      },
      "outputs": [],
      "source": [
        "import pandas as pd\n",
        "import math\n",
        "import numpy as np\n",
        "import random\n",
        "from sklearn.model_selection import train_test_split"
      ]
    },
    {
      "cell_type": "code",
      "source": [
        "from google.colab import files\n",
        "uploaded = files.upload()"
      ],
      "metadata": {
        "colab": {
          "resources": {
            "http://localhost:8080/nbextensions/google.colab/files.js": {
              "data": "Ly8gQ29weXJpZ2h0IDIwMTcgR29vZ2xlIExMQwovLwovLyBMaWNlbnNlZCB1bmRlciB0aGUgQXBhY2hlIExpY2Vuc2UsIFZlcnNpb24gMi4wICh0aGUgIkxpY2Vuc2UiKTsKLy8geW91IG1heSBub3QgdXNlIHRoaXMgZmlsZSBleGNlcHQgaW4gY29tcGxpYW5jZSB3aXRoIHRoZSBMaWNlbnNlLgovLyBZb3UgbWF5IG9idGFpbiBhIGNvcHkgb2YgdGhlIExpY2Vuc2UgYXQKLy8KLy8gICAgICBodHRwOi8vd3d3LmFwYWNoZS5vcmcvbGljZW5zZXMvTElDRU5TRS0yLjAKLy8KLy8gVW5sZXNzIHJlcXVpcmVkIGJ5IGFwcGxpY2FibGUgbGF3IG9yIGFncmVlZCB0byBpbiB3cml0aW5nLCBzb2Z0d2FyZQovLyBkaXN0cmlidXRlZCB1bmRlciB0aGUgTGljZW5zZSBpcyBkaXN0cmlidXRlZCBvbiBhbiAiQVMgSVMiIEJBU0lTLAovLyBXSVRIT1VUIFdBUlJBTlRJRVMgT1IgQ09ORElUSU9OUyBPRiBBTlkgS0lORCwgZWl0aGVyIGV4cHJlc3Mgb3IgaW1wbGllZC4KLy8gU2VlIHRoZSBMaWNlbnNlIGZvciB0aGUgc3BlY2lmaWMgbGFuZ3VhZ2UgZ292ZXJuaW5nIHBlcm1pc3Npb25zIGFuZAovLyBsaW1pdGF0aW9ucyB1bmRlciB0aGUgTGljZW5zZS4KCi8qKgogKiBAZmlsZW92ZXJ2aWV3IEhlbHBlcnMgZm9yIGdvb2dsZS5jb2xhYiBQeXRob24gbW9kdWxlLgogKi8KKGZ1bmN0aW9uKHNjb3BlKSB7CmZ1bmN0aW9uIHNwYW4odGV4dCwgc3R5bGVBdHRyaWJ1dGVzID0ge30pIHsKICBjb25zdCBlbGVtZW50ID0gZG9jdW1lbnQuY3JlYXRlRWxlbWVudCgnc3BhbicpOwogIGVsZW1lbnQudGV4dENvbnRlbnQgPSB0ZXh0OwogIGZvciAoY29uc3Qga2V5IG9mIE9iamVjdC5rZXlzKHN0eWxlQXR0cmlidXRlcykpIHsKICAgIGVsZW1lbnQuc3R5bGVba2V5XSA9IHN0eWxlQXR0cmlidXRlc1trZXldOwogIH0KICByZXR1cm4gZWxlbWVudDsKfQoKLy8gTWF4IG51bWJlciBvZiBieXRlcyB3aGljaCB3aWxsIGJlIHVwbG9hZGVkIGF0IGEgdGltZS4KY29uc3QgTUFYX1BBWUxPQURfU0laRSA9IDEwMCAqIDEwMjQ7CgpmdW5jdGlvbiBfdXBsb2FkRmlsZXMoaW5wdXRJZCwgb3V0cHV0SWQpIHsKICBjb25zdCBzdGVwcyA9IHVwbG9hZEZpbGVzU3RlcChpbnB1dElkLCBvdXRwdXRJZCk7CiAgY29uc3Qgb3V0cHV0RWxlbWVudCA9IGRvY3VtZW50LmdldEVsZW1lbnRCeUlkKG91dHB1dElkKTsKICAvLyBDYWNoZSBzdGVwcyBvbiB0aGUgb3V0cHV0RWxlbWVudCB0byBtYWtlIGl0IGF2YWlsYWJsZSBmb3IgdGhlIG5leHQgY2FsbAogIC8vIHRvIHVwbG9hZEZpbGVzQ29udGludWUgZnJvbSBQeXRob24uCiAgb3V0cHV0RWxlbWVudC5zdGVwcyA9IHN0ZXBzOwoKICByZXR1cm4gX3VwbG9hZEZpbGVzQ29udGludWUob3V0cHV0SWQpOwp9CgovLyBUaGlzIGlzIHJvdWdobHkgYW4gYXN5bmMgZ2VuZXJhdG9yIChub3Qgc3VwcG9ydGVkIGluIHRoZSBicm93c2VyIHlldCksCi8vIHdoZXJlIHRoZXJlIGFyZSBtdWx0aXBsZSBhc3luY2hyb25vdXMgc3RlcHMgYW5kIHRoZSBQeXRob24gc2lkZSBpcyBnb2luZwovLyB0byBwb2xsIGZvciBjb21wbGV0aW9uIG9mIGVhY2ggc3RlcC4KLy8gVGhpcyB1c2VzIGEgUHJvbWlzZSB0byBibG9jayB0aGUgcHl0aG9uIHNpZGUgb24gY29tcGxldGlvbiBvZiBlYWNoIHN0ZXAsCi8vIHRoZW4gcGFzc2VzIHRoZSByZXN1bHQgb2YgdGhlIHByZXZpb3VzIHN0ZXAgYXMgdGhlIGlucHV0IHRvIHRoZSBuZXh0IHN0ZXAuCmZ1bmN0aW9uIF91cGxvYWRGaWxlc0NvbnRpbnVlKG91dHB1dElkKSB7CiAgY29uc3Qgb3V0cHV0RWxlbWVudCA9IGRvY3VtZW50LmdldEVsZW1lbnRCeUlkKG91dHB1dElkKTsKICBjb25zdCBzdGVwcyA9IG91dHB1dEVsZW1lbnQuc3RlcHM7CgogIGNvbnN0IG5leHQgPSBzdGVwcy5uZXh0KG91dHB1dEVsZW1lbnQubGFzdFByb21pc2VWYWx1ZSk7CiAgcmV0dXJuIFByb21pc2UucmVzb2x2ZShuZXh0LnZhbHVlLnByb21pc2UpLnRoZW4oKHZhbHVlKSA9PiB7CiAgICAvLyBDYWNoZSB0aGUgbGFzdCBwcm9taXNlIHZhbHVlIHRvIG1ha2UgaXQgYXZhaWxhYmxlIHRvIHRoZSBuZXh0CiAgICAvLyBzdGVwIG9mIHRoZSBnZW5lcmF0b3IuCiAgICBvdXRwdXRFbGVtZW50Lmxhc3RQcm9taXNlVmFsdWUgPSB2YWx1ZTsKICAgIHJldHVybiBuZXh0LnZhbHVlLnJlc3BvbnNlOwogIH0pOwp9CgovKioKICogR2VuZXJhdG9yIGZ1bmN0aW9uIHdoaWNoIGlzIGNhbGxlZCBiZXR3ZWVuIGVhY2ggYXN5bmMgc3RlcCBvZiB0aGUgdXBsb2FkCiAqIHByb2Nlc3MuCiAqIEBwYXJhbSB7c3RyaW5nfSBpbnB1dElkIEVsZW1lbnQgSUQgb2YgdGhlIGlucHV0IGZpbGUgcGlja2VyIGVsZW1lbnQuCiAqIEBwYXJhbSB7c3RyaW5nfSBvdXRwdXRJZCBFbGVtZW50IElEIG9mIHRoZSBvdXRwdXQgZGlzcGxheS4KICogQHJldHVybiB7IUl0ZXJhYmxlPCFPYmplY3Q+fSBJdGVyYWJsZSBvZiBuZXh0IHN0ZXBzLgogKi8KZnVuY3Rpb24qIHVwbG9hZEZpbGVzU3RlcChpbnB1dElkLCBvdXRwdXRJZCkgewogIGNvbnN0IGlucHV0RWxlbWVudCA9IGRvY3VtZW50LmdldEVsZW1lbnRCeUlkKGlucHV0SWQpOwogIGlucHV0RWxlbWVudC5kaXNhYmxlZCA9IGZhbHNlOwoKICBjb25zdCBvdXRwdXRFbGVtZW50ID0gZG9jdW1lbnQuZ2V0RWxlbWVudEJ5SWQob3V0cHV0SWQpOwogIG91dHB1dEVsZW1lbnQuaW5uZXJIVE1MID0gJyc7CgogIGNvbnN0IHBpY2tlZFByb21pc2UgPSBuZXcgUHJvbWlzZSgocmVzb2x2ZSkgPT4gewogICAgaW5wdXRFbGVtZW50LmFkZEV2ZW50TGlzdGVuZXIoJ2NoYW5nZScsIChlKSA9PiB7CiAgICAgIHJlc29sdmUoZS50YXJnZXQuZmlsZXMpOwogICAgfSk7CiAgfSk7CgogIGNvbnN0IGNhbmNlbCA9IGRvY3VtZW50LmNyZWF0ZUVsZW1lbnQoJ2J1dHRvbicpOwogIGlucHV0RWxlbWVudC5wYXJlbnRFbGVtZW50LmFwcGVuZENoaWxkKGNhbmNlbCk7CiAgY2FuY2VsLnRleHRDb250ZW50ID0gJ0NhbmNlbCB1cGxvYWQnOwogIGNvbnN0IGNhbmNlbFByb21pc2UgPSBuZXcgUHJvbWlzZSgocmVzb2x2ZSkgPT4gewogICAgY2FuY2VsLm9uY2xpY2sgPSAoKSA9PiB7CiAgICAgIHJlc29sdmUobnVsbCk7CiAgICB9OwogIH0pOwoKICAvLyBXYWl0IGZvciB0aGUgdXNlciB0byBwaWNrIHRoZSBmaWxlcy4KICBjb25zdCBmaWxlcyA9IHlpZWxkIHsKICAgIHByb21pc2U6IFByb21pc2UucmFjZShbcGlja2VkUHJvbWlzZSwgY2FuY2VsUHJvbWlzZV0pLAogICAgcmVzcG9uc2U6IHsKICAgICAgYWN0aW9uOiAnc3RhcnRpbmcnLAogICAgfQogIH07CgogIGNhbmNlbC5yZW1vdmUoKTsKCiAgLy8gRGlzYWJsZSB0aGUgaW5wdXQgZWxlbWVudCBzaW5jZSBmdXJ0aGVyIHBpY2tzIGFyZSBub3QgYWxsb3dlZC4KICBpbnB1dEVsZW1lbnQuZGlzYWJsZWQgPSB0cnVlOwoKICBpZiAoIWZpbGVzKSB7CiAgICByZXR1cm4gewogICAgICByZXNwb25zZTogewogICAgICAgIGFjdGlvbjogJ2NvbXBsZXRlJywKICAgICAgfQogICAgfTsKICB9CgogIGZvciAoY29uc3QgZmlsZSBvZiBmaWxlcykgewogICAgY29uc3QgbGkgPSBkb2N1bWVudC5jcmVhdGVFbGVtZW50KCdsaScpOwogICAgbGkuYXBwZW5kKHNwYW4oZmlsZS5uYW1lLCB7Zm9udFdlaWdodDogJ2JvbGQnfSkpOwogICAgbGkuYXBwZW5kKHNwYW4oCiAgICAgICAgYCgke2ZpbGUudHlwZSB8fCAnbi9hJ30pIC0gJHtmaWxlLnNpemV9IGJ5dGVzLCBgICsKICAgICAgICBgbGFzdCBtb2RpZmllZDogJHsKICAgICAgICAgICAgZmlsZS5sYXN0TW9kaWZpZWREYXRlID8gZmlsZS5sYXN0TW9kaWZpZWREYXRlLnRvTG9jYWxlRGF0ZVN0cmluZygpIDoKICAgICAgICAgICAgICAgICAgICAgICAgICAgICAgICAgICAgJ24vYSd9IC0gYCkpOwogICAgY29uc3QgcGVyY2VudCA9IHNwYW4oJzAlIGRvbmUnKTsKICAgIGxpLmFwcGVuZENoaWxkKHBlcmNlbnQpOwoKICAgIG91dHB1dEVsZW1lbnQuYXBwZW5kQ2hpbGQobGkpOwoKICAgIGNvbnN0IGZpbGVEYXRhUHJvbWlzZSA9IG5ldyBQcm9taXNlKChyZXNvbHZlKSA9PiB7CiAgICAgIGNvbnN0IHJlYWRlciA9IG5ldyBGaWxlUmVhZGVyKCk7CiAgICAgIHJlYWRlci5vbmxvYWQgPSAoZSkgPT4gewogICAgICAgIHJlc29sdmUoZS50YXJnZXQucmVzdWx0KTsKICAgICAgfTsKICAgICAgcmVhZGVyLnJlYWRBc0FycmF5QnVmZmVyKGZpbGUpOwogICAgfSk7CiAgICAvLyBXYWl0IGZvciB0aGUgZGF0YSB0byBiZSByZWFkeS4KICAgIGxldCBmaWxlRGF0YSA9IHlpZWxkIHsKICAgICAgcHJvbWlzZTogZmlsZURhdGFQcm9taXNlLAogICAgICByZXNwb25zZTogewogICAgICAgIGFjdGlvbjogJ2NvbnRpbnVlJywKICAgICAgfQogICAgfTsKCiAgICAvLyBVc2UgYSBjaHVua2VkIHNlbmRpbmcgdG8gYXZvaWQgbWVzc2FnZSBzaXplIGxpbWl0cy4gU2VlIGIvNjIxMTU2NjAuCiAgICBsZXQgcG9zaXRpb24gPSAwOwogICAgZG8gewogICAgICBjb25zdCBsZW5ndGggPSBNYXRoLm1pbihmaWxlRGF0YS5ieXRlTGVuZ3RoIC0gcG9zaXRpb24sIE1BWF9QQVlMT0FEX1NJWkUpOwogICAgICBjb25zdCBjaHVuayA9IG5ldyBVaW50OEFycmF5KGZpbGVEYXRhLCBwb3NpdGlvbiwgbGVuZ3RoKTsKICAgICAgcG9zaXRpb24gKz0gbGVuZ3RoOwoKICAgICAgY29uc3QgYmFzZTY0ID0gYnRvYShTdHJpbmcuZnJvbUNoYXJDb2RlLmFwcGx5KG51bGwsIGNodW5rKSk7CiAgICAgIHlpZWxkIHsKICAgICAgICByZXNwb25zZTogewogICAgICAgICAgYWN0aW9uOiAnYXBwZW5kJywKICAgICAgICAgIGZpbGU6IGZpbGUubmFtZSwKICAgICAgICAgIGRhdGE6IGJhc2U2NCwKICAgICAgICB9LAogICAgICB9OwoKICAgICAgbGV0IHBlcmNlbnREb25lID0gZmlsZURhdGEuYnl0ZUxlbmd0aCA9PT0gMCA/CiAgICAgICAgICAxMDAgOgogICAgICAgICAgTWF0aC5yb3VuZCgocG9zaXRpb24gLyBmaWxlRGF0YS5ieXRlTGVuZ3RoKSAqIDEwMCk7CiAgICAgIHBlcmNlbnQudGV4dENvbnRlbnQgPSBgJHtwZXJjZW50RG9uZX0lIGRvbmVgOwoKICAgIH0gd2hpbGUgKHBvc2l0aW9uIDwgZmlsZURhdGEuYnl0ZUxlbmd0aCk7CiAgfQoKICAvLyBBbGwgZG9uZS4KICB5aWVsZCB7CiAgICByZXNwb25zZTogewogICAgICBhY3Rpb246ICdjb21wbGV0ZScsCiAgICB9CiAgfTsKfQoKc2NvcGUuZ29vZ2xlID0gc2NvcGUuZ29vZ2xlIHx8IHt9OwpzY29wZS5nb29nbGUuY29sYWIgPSBzY29wZS5nb29nbGUuY29sYWIgfHwge307CnNjb3BlLmdvb2dsZS5jb2xhYi5fZmlsZXMgPSB7CiAgX3VwbG9hZEZpbGVzLAogIF91cGxvYWRGaWxlc0NvbnRpbnVlLAp9Owp9KShzZWxmKTsK",
              "ok": true,
              "headers": [
                [
                  "content-type",
                  "application/javascript"
                ]
              ],
              "status": 200,
              "status_text": ""
            }
          },
          "base_uri": "https://localhost:8080/",
          "height": 73
        },
        "id": "sYDzRfINZJbF",
        "outputId": "99ff79ed-bf39-4376-e2b1-5449db5a02d2"
      },
      "execution_count": 2,
      "outputs": [
        {
          "output_type": "display_data",
          "data": {
            "text/plain": [
              "<IPython.core.display.HTML object>"
            ],
            "text/html": [
              "\n",
              "     <input type=\"file\" id=\"files-5faf9cbc-b66a-41d2-9879-14132465d19a\" name=\"files[]\" multiple disabled\n",
              "        style=\"border:none\" />\n",
              "     <output id=\"result-5faf9cbc-b66a-41d2-9879-14132465d19a\">\n",
              "      Upload widget is only available when the cell has been executed in the\n",
              "      current browser session. Please rerun this cell to enable.\n",
              "      </output>\n",
              "      <script src=\"/nbextensions/google.colab/files.js\"></script> "
            ]
          },
          "metadata": {}
        },
        {
          "output_type": "stream",
          "name": "stdout",
          "text": [
            "Saving data5.xlsx to data5.xlsx\n"
          ]
        }
      ]
    },
    {
      "cell_type": "code",
      "source": [
        "qdata = data = pd.read_excel('data5.xlsx',header=None)\n",
        "qdata = qdata.sample(frac=1).reset_index(drop=True)"
      ],
      "metadata": {
        "id": "hcflBw9sZKyJ"
      },
      "execution_count": 3,
      "outputs": []
    },
    {
      "cell_type": "code",
      "source": [
        "class_one = qdata[qdata[7]==1][0:211]\n",
        "class_two = qdata[qdata[7]==2][0:211]\n",
        "class_three = qdata[qdata[7]==3][0:211]\n",
        "axes = class_one.plot(kind='scatter', x=1, y=2, color='black', label='one')\n",
        "class_two.plot(kind='scatter', x=1, y=2, color='red', label='two', ax=axes)\n",
        "class_three.plot(kind='scatter', x=1, y=2, color='blue', label='three', ax=axes)"
      ],
      "metadata": {
        "colab": {
          "base_uri": "https://localhost:8080/",
          "height": 297
        },
        "id": "BmKfVOgHZMdS",
        "outputId": "985b14c5-b179-4190-d237-4e6dac30e28a"
      },
      "execution_count": 14,
      "outputs": [
        {
          "output_type": "execute_result",
          "data": {
            "text/plain": [
              "<matplotlib.axes._subplots.AxesSubplot at 0x7fecb8f2bfd0>"
            ]
          },
          "metadata": {},
          "execution_count": 14
        },
        {
          "output_type": "display_data",
          "data": {
            "text/plain": [
              "<Figure size 432x288 with 1 Axes>"
            ],
            "image/png": "[encoded data removed]"
          },
          "metadata": {
            "needs_background": "light"
          }
        }
      ]
    },
    {
      "cell_type": "code",
      "source": [
        "sheet1 =pd.read_excel('data5.xlsx',header=None)\n",
        "data = sheet1.values\n",
        "np.random.shuffle(data)\n",
        "x = data[0: , :-1]\n",
        "x = (x - np.min(x,axis=0))/(np.max(x,axis=0)- np.min(x,axis=0))\n",
        "y = data[0: , -1]\n",
        "x_train,X_test,y_train,y_test = train_test_split(x, y, test_size= 0.2 )"
      ],
      "metadata": {
        "id": "k7Y0PhV2ZOFK"
      },
      "execution_count": 5,
      "outputs": []
    },
    {
      "cell_type": "code",
      "source": [
        "def one_vs_all(y):\n",
        "  y_model1 = []\n",
        "  y_model2 = []\n",
        "  y_model3 = []\n",
        "  for ele in y:\n",
        "    if (ele == 1):\n",
        "      y_model1.append(1)\n",
        "      y_model2.append(-1)\n",
        "      y_model3.append(-1)\n",
        "    if (ele == 2):\n",
        "      y_model1.append(-1)\n",
        "      y_model2.append(1)\n",
        "      y_model3.append(-1)\n",
        "    if (ele == 3):\n",
        "      y_model1.append(-1)\n",
        "      y_model2.append(-1)\n",
        "      y_model3.append(1)\n",
        "  return y_model1,y_model2,y_model3"
      ],
      "metadata": {
        "id": "5WGYRXBsZPoq"
      },
      "execution_count": 6,
      "outputs": []
    },
    {
      "cell_type": "code",
      "source": [
        "def train_lin_sum (x_tr,y_tr,C,bound,maxiters):\n",
        "  m = x_tr.shape[0]\n",
        "  n = x_tr.shape[1]\n",
        "  b = 0\n",
        "  mu = np.ones((m,1))\n",
        "  E = np.zeros((m,1))\n",
        "  iter = 0 \n",
        "  eta =0\n",
        "  L =0\n",
        "  H = 0\n",
        "  kernel = lambda xi, yi: math.pow((np.dot(xi.T, yi) + 1), 2)\n",
        "  while iter<maxiters:\n",
        "    count_mu = 0\n",
        "    for i in range(m):\n",
        "      E[i] = f_x(x_tr, y_tr, mu, b, x_tr[i, :], 2) - y_tr[i]\n",
        "      if (y_tr[i]*E[i]<-bound and mu[i]<C) or (y_tr[i]*E[i]>bound and mu[i]>0):\n",
        "        j = math.floor(m*np.random.rand())\n",
        "        while j == i:\n",
        "          j = math.floor(m*np.random.rand())\n",
        "        E[j] = f_x(x_tr, y_tr, mu, b, x_tr[j, :], 2) - y_tr[j]\n",
        "        mu_i_old = mu[i]\n",
        "        mu_j_old = mu[j]\n",
        "        if y_tr[i] == y_tr[j]:\n",
        "          L = max(0, mu[i]+mu[j]-C)\n",
        "          H = min(C,mu[i]+mu[j])\n",
        "        else:\n",
        "          L = max(0,mu[j]-mu[i])\n",
        "          H = min(C,C+mu[j]-mu[i])\n",
        "        if (L == H):\n",
        "          continue\n",
        "        eta = 2*kernel(x_tr[i, :], x_tr[j, :]) - kernel(x_tr[i, :], x_tr[i, :]) - kernel(x_tr[j, :], x_tr[j, :])\n",
        "        if eta>=0:\n",
        "          continue\n",
        "        mu[j] = mu[j] - (y_tr[j]*(E[i]-E[j]))/eta\n",
        "        mu[j] = min(H,mu[j])\n",
        "        mu[j] = max(L,mu[j])\n",
        "        if abs(mu[j]-mu_j_old)<bound:\n",
        "          mu[j] = mu_j_old\n",
        "          continue\n",
        "        mu[i] = mu[i]+y_tr[i]*y_tr[j]*(mu_j_old-mu[j])\n",
        "        b1 = b - E[i]- (y_tr[i]*(mu[i]-mu_i_old)*kernel(x_tr[i, :], x_tr[i, :]))  - (y_tr[j]*(mu[j]-mu_j_old)*kernel(x_tr[i, :], x_tr[j, :]))\n",
        "        b2 = b - E[j]- (y_tr[i]*(mu[i]-mu_i_old)*kernel(x_tr[i, :], x_tr[j, :])) - (y_tr[j]*(mu[j]-mu_j_old)*kernel(x_tr[j, :], x_tr[j, :]))\n",
        "        if (0<mu[i]) and (mu[i]<C):\n",
        "          b = b1\n",
        "        elif (0<mu[j]) and (mu[j]<C):\n",
        "          b = b2\n",
        "        else:\n",
        "          b = (b1+b2)/2\n",
        "        count_mu = count_mu +1\n",
        "    if (count_mu == 0):\n",
        "      iter = iter+1\n",
        "    else:\n",
        "      iter = 0\n",
        "  il1 = mu>0\n",
        "  Xsvm = []\n",
        "  Ysvm = []\n",
        "  mus = []\n",
        "  for v in range(len(il1)):\n",
        "    if il1[v]:\n",
        "      Xsvm.append(x_tr[v,:])\n",
        "      Ysvm.append(y_tr[v])\n",
        "      mus.append(mu[v])\n",
        "  Xsvm = np.array(Xsvm)\n",
        "  Ysvm = np.array(Ysvm)\n",
        "  mus = np.array(mus)\n",
        "  w = np.zeros(7)\n",
        "  num_sv = Xsvm.shape[1]\n",
        "  for l in range(7):\n",
        "    w += mus[l]*Ysvm[l]*((1 + Xsvm[l,:])**2)\n",
        "  return w,b,Xsvm,Ysvm,mus,num_sv"
      ],
      "metadata": {
        "id": "gZV-kWCkZRIX"
      },
      "execution_count": 7,
      "outputs": []
    },
    {
      "cell_type": "code",
      "source": [
        "def f_x(X, y, a, b, x, degree):\n",
        "    predicted_value = 0.0\n",
        "    # using polynomial kernel\n",
        "    for k in range(X.shape[0]):\n",
        "        predicted_value += (a[k]*y[k]*((X[k, :].T@x + 1)**degree))\n",
        "    return predicted_value + b"
      ],
      "metadata": {
        "id": "5ywgzmB2ZVkH"
      },
      "execution_count": 8,
      "outputs": []
    },
    {
      "cell_type": "code",
      "source": [
        "def sigmoid(z):\n",
        "  return 1.0 / ( 1.0 + np.exp(-z))"
      ],
      "metadata": {
        "id": "VSe5a6pJZXDj"
      },
      "execution_count": 9,
      "outputs": []
    },
    {
      "cell_type": "code",
      "source": [
        "def prediction(xs,ys,x_ts,mean,bias,n_svm):\n",
        "  yp = 0\n",
        "  for s in range(n_svm):\n",
        "    yp += (mean[s]*ys[s]*np.dot(x_ts,xs[s]))\n",
        "  return np.sign(yp+bias)"
      ],
      "metadata": {
        "id": "rAjCug_TZYVR"
      },
      "execution_count": 10,
      "outputs": []
    },
    {
      "cell_type": "code",
      "source": [
        "C = 50\n",
        "iters =150\n",
        "p_outputs = []\n",
        "y_tr1,y_tr2,y_tr3 = one_vs_all(y_train)\n",
        "y_ts1,y_ts2,y_ts3 = one_vs_all(y_test)\n",
        "w1,b1,x1,y1,m1,n1= train_lin_sum(x_train,y_tr1,C,0.001,iters)\n",
        "w2,b2,x2,y2,m2,n2= train_lin_sum(x_train,y_tr2,C,0.001,iters)\n",
        "w3,b3,x3,y3,m3,n3= train_lin_sum(x_train,y_tr3,C,0.001,iters)"
      ],
      "metadata": {
        "id": "ZMvvIY7sZZh1"
      },
      "execution_count": 11,
      "outputs": []
    },
    {
      "cell_type": "code",
      "source": [
        "yp1 = []\n",
        "yp2 = []\n",
        "yp3 = []\n",
        "lis = [-1,1]\n",
        "for b in range(len(X_test)):\n",
        "  if f_x(x1, y1, m1, b1, X_test[b, :], 4) >= 0:\n",
        "    yp1.append(1.0)\n",
        "  else:\n",
        "    yp1.append(-1.0)\n",
        "  if f_x(x2, y2, m2, b2, X_test[b, :], 4) >= 0:\n",
        "    yp2.append(1.0)\n",
        "  else:\n",
        "    yp2.append(-1.0)\n",
        "  if f_x(x3, y3, m3, b3, X_test[b, :], 4) >= 0:\n",
        "    yp3.append(1.0)\n",
        "  else:\n",
        "    yp3.append(-1.0)"
      ],
      "metadata": {
        "id": "drxC0Zz-ZbI2"
      },
      "execution_count": 12,
      "outputs": []
    },
    {
      "cell_type": "code",
      "source": [
        "y_actual1 = pd.Series(y_ts1, name= 'Actual' )\n",
        "y_pred1 = pd.Series(y1, name= 'Predicted' )\n",
        "confmat1 = pd.crosstab(y_actual1,y_pred1)\n",
        "y_actual2 = pd.Series(y_ts2, name= 'Actual' )\n",
        "y_pred2 = pd.Series(y2, name= 'Predicted' )\n",
        "confmat2 = pd.crosstab(y_actual2,y_pred2)\n",
        "y_actual3 = pd.Series(y_ts3, name= 'Actual' )\n",
        "y_pred3 = pd.Series(y3, name= 'Predicted' )\n",
        "confmat3 = pd.crosstab(y_actual3,y_pred3)\n",
        "print(\"Class 1:\\n\", confmat1)\n",
        "print(\"Class 2:\\n\", confmat2)\n",
        "print(\"Class 3:\\n\", confmat3)"
      ],
      "metadata": {
        "colab": {
          "base_uri": "https://localhost:8080/"
        },
        "id": "XApcppI7Zcpp",
        "outputId": "c90a7f73-1f06-4756-9413-0e7a9654898f"
      },
      "execution_count": 13,
      "outputs": [
        {
          "output_type": "stream",
          "name": "stdout",
          "text": [
            "Class 1:\n",
            " Predicted  -1   1\n",
            "Actual           \n",
            "-1         27   2\n",
            " 1         11   2\n",
            "Class 2:\n",
            " Predicted  -1   1\n",
            "Actual           \n",
            "-1         19   4\n",
            " 1         14   5\n",
            "Class 3:\n",
            " Predicted  -1   1\n",
            "Actual           \n",
            "-1         16   3\n",
            " 1          7   0\n"
          ]
        }
      ]
    }
  ]
}