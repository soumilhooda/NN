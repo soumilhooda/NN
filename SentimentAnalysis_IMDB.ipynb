{
  "nbformat": 4,
  "nbformat_minor": 0,
  "metadata": {
    "colab": {
      "name": "SentimentAnalysis_IMDB.ipynb",
      "provenance": [],
      "authorship_tag": "ABX9TyPyiKmwGq6/qCMnrxu540i3",
      "include_colab_link": true
    },
    "kernelspec": {
      "name": "python3",
      "display_name": "Python 3"
    },
    "language_info": {
      "name": "python"
    }
  },
  "cells": [
    {
      "cell_type": "markdown",
      "metadata": {
        "id": "view-in-github",
        "colab_type": "text"
      },
      "source": [
        "<a href=\"https://colab.research.google.com/github/soumilhooda/MLDLNNtoCV/blob/main/SentimentAnalysis_IMDB.ipynb\" target=\"_parent\"><img src=\"https://colab.research.google.com/assets/colab-badge.svg\" alt=\"Open In Colab\"/></a>"
      ]
    },
    {
      "cell_type": "code",
      "execution_count": 1,
      "metadata": {
        "id": "FXA91yMLUO5s"
      },
      "outputs": [],
      "source": [
        "import tensorflow as tf\n",
        "from tensorflow.keras import datasets, layers, models, preprocessing"
      ]
    },
    {
      "cell_type": "code",
      "source": [
        "max_len = 200\n",
        "n_words = 1000\n",
        "dim_embedding = 256\n",
        "EPOCHS = 20\n",
        "BATCH_SIZE = 500"
      ],
      "metadata": {
        "id": "x7QlV_-EUS8o"
      },
      "execution_count": 2,
      "outputs": []
    },
    {
      "cell_type": "code",
      "source": [
        "def load_data():\n",
        "    #Load Data\n",
        "    (X_train, Y_train), (X_test, Y_test) = datasets.imdb.load_data(num_words=n_words)\n",
        "    #Pad sequences with max_len\n",
        "    X_train = preprocessing.sequence.pad_sequences(X_train, maxlen=max_len)\n",
        "    X_test = preprocessing.sequence.pad_sequences(X_test, maxlen=max_len)\n",
        "    return(X_train, Y_train), (X_test, Y_test)"
      ],
      "metadata": {
        "id": "jd1E2qGhUU93"
      },
      "execution_count": 3,
      "outputs": []
    },
    {
      "cell_type": "code",
      "source": [
        "def build_model():\n",
        "    model = models.Sequential()\n",
        "    #Input -> embedding layer. The model will take an integer matrix as input of size (batch, input_length). The output layer will be (input_length, dim_embeddin g)\n",
        "    #The largest integer in the input should be no larger than n_worss.\n",
        "    model.add(layers.Embedding(n_words, dim_embedding, input_length=max_len))\n",
        "    model.add(layers.Dropout(0.3))\n",
        "    #Takes the maximum value of either feature vector from each of the n_words feature.\n",
        "    model.add(layers.GlobalMaxPooling1D())\n",
        "    model.add(layers.Dense(128, activation='relu'))\n",
        "    model.add(layers.Dropout(0.5))\n",
        "    model.add(layers.Dense(1, activation='relu'))\n",
        "    \n",
        "    return model"
      ],
      "metadata": {
        "id": "XqZjokxgUWI-"
      },
      "execution_count": 4,
      "outputs": []
    },
    {
      "cell_type": "code",
      "source": [
        "(X_train, Y_train), (X_test, Y_test) = load_data()\n",
        "model = build_model()\n",
        "model.summary()\n",
        "\n",
        "model.compile(optimizer=\"adam\", loss=\"binary_crossentropy\", metrics=[\"accuracy\"])\n",
        "\n",
        "score = model.fit(X_train, Y_train, epochs=EPOCHS, batch_size=BATCH_SIZE, validation_data=(X_test, Y_test))\n",
        "\n",
        "score=model.evaluate(X_test, Y_test, batch_size=BATCH_SIZE)\n",
        "print(\"\\nTest Score:\", score[0])\n",
        "print('Test Accuracy:', score[1])"
      ],
      "metadata": {
        "colab": {
          "base_uri": "https://localhost:8080/"
        },
        "id": "3PH2CjHQUXiz",
        "outputId": "fb9c5a8f-f25d-4cd6-ad6b-5ec781c51374"
      },
      "execution_count": 6,
      "outputs": [
        {
          "output_type": "stream",
          "name": "stdout",
          "text": [
            "Model: \"sequential_1\"\n",
            "_________________________________________________________________\n",
            " Layer (type)                Output Shape              Param #   \n",
            "=================================================================\n",
            " embedding_1 (Embedding)     (None, 200, 256)          256000    \n",
            "                                                                 \n",
            " dropout_2 (Dropout)         (None, 200, 256)          0         \n",
            "                                                                 \n",
            " global_max_pooling1d_1 (Glo  (None, 256)              0         \n",
            " balMaxPooling1D)                                                \n",
            "                                                                 \n",
            " dense_2 (Dense)             (None, 128)               32896     \n",
            "                                                                 \n",
            " dropout_3 (Dropout)         (None, 128)               0         \n",
            "                                                                 \n",
            " dense_3 (Dense)             (None, 1)                 129       \n",
            "                                                                 \n",
            "=================================================================\n",
            "Total params: 289,025\n",
            "Trainable params: 289,025\n",
            "Non-trainable params: 0\n",
            "_________________________________________________________________\n",
            "Epoch 1/20\n",
            "50/50 [==============================] - 23s 447ms/step - loss: 0.9660 - accuracy: 0.5321 - val_loss: 0.6858 - val_accuracy: 0.5000\n",
            "Epoch 2/20\n",
            "50/50 [==============================] - 22s 445ms/step - loss: 0.6134 - accuracy: 0.6675 - val_loss: 0.5688 - val_accuracy: 0.6709\n",
            "Epoch 3/20\n",
            "50/50 [==============================] - 22s 448ms/step - loss: 0.4917 - accuracy: 0.7791 - val_loss: 0.4801 - val_accuracy: 0.7728\n",
            "Epoch 4/20\n",
            "50/50 [==============================] - 22s 446ms/step - loss: 0.4824 - accuracy: 0.8008 - val_loss: 0.4479 - val_accuracy: 0.7894\n",
            "Epoch 5/20\n",
            "50/50 [==============================] - 22s 444ms/step - loss: 0.4787 - accuracy: 0.7962 - val_loss: 0.5468 - val_accuracy: 0.6464\n",
            "Epoch 6/20\n",
            "50/50 [==============================] - 22s 445ms/step - loss: 0.5049 - accuracy: 0.7808 - val_loss: 0.4277 - val_accuracy: 0.8180\n",
            "Epoch 7/20\n",
            "50/50 [==============================] - 22s 445ms/step - loss: 0.4649 - accuracy: 0.8082 - val_loss: 0.4534 - val_accuracy: 0.7912\n",
            "Epoch 8/20\n",
            "50/50 [==============================] - 22s 444ms/step - loss: 0.5366 - accuracy: 0.7939 - val_loss: 0.4726 - val_accuracy: 0.7616\n",
            "Epoch 9/20\n",
            "50/50 [==============================] - 22s 444ms/step - loss: 0.5174 - accuracy: 0.7835 - val_loss: 0.4379 - val_accuracy: 0.7936\n",
            "Epoch 10/20\n",
            "50/50 [==============================] - 22s 443ms/step - loss: 0.4863 - accuracy: 0.8139 - val_loss: 0.4479 - val_accuracy: 0.7851\n",
            "Epoch 11/20\n",
            "50/50 [==============================] - 22s 444ms/step - loss: 0.4522 - accuracy: 0.8212 - val_loss: 0.4556 - val_accuracy: 0.7703\n",
            "Epoch 12/20\n",
            "50/50 [==============================] - 22s 444ms/step - loss: 0.4512 - accuracy: 0.8161 - val_loss: 0.4398 - val_accuracy: 0.7917\n",
            "Epoch 13/20\n",
            "50/50 [==============================] - 22s 444ms/step - loss: 0.4409 - accuracy: 0.8332 - val_loss: 0.4315 - val_accuracy: 0.8082\n",
            "Epoch 14/20\n",
            "50/50 [==============================] - 22s 447ms/step - loss: 0.4458 - accuracy: 0.8389 - val_loss: 0.4127 - val_accuracy: 0.8185\n",
            "Epoch 15/20\n",
            "50/50 [==============================] - 22s 445ms/step - loss: 0.4280 - accuracy: 0.8370 - val_loss: 0.4242 - val_accuracy: 0.8015\n",
            "Epoch 16/20\n",
            "50/50 [==============================] - 22s 446ms/step - loss: 0.4284 - accuracy: 0.8421 - val_loss: 0.4534 - val_accuracy: 0.7906\n",
            "Epoch 17/20\n",
            "50/50 [==============================] - 22s 446ms/step - loss: 0.4242 - accuracy: 0.8320 - val_loss: 0.4443 - val_accuracy: 0.8030\n",
            "Epoch 18/20\n",
            "50/50 [==============================] - 22s 444ms/step - loss: 0.4226 - accuracy: 0.8279 - val_loss: 0.4427 - val_accuracy: 0.8015\n",
            "Epoch 19/20\n",
            "50/50 [==============================] - 22s 445ms/step - loss: 0.4351 - accuracy: 0.8340 - val_loss: 0.4516 - val_accuracy: 0.7955\n",
            "Epoch 20/20\n",
            "50/50 [==============================] - 22s 444ms/step - loss: 0.4211 - accuracy: 0.8433 - val_loss: 0.4430 - val_accuracy: 0.8059\n",
            "50/50 [==============================] - 2s 42ms/step - loss: 0.4430 - accuracy: 0.8059\n",
            "\n",
            "Test Score: 0.4429969787597656\n",
            "Test Accuracy: 0.8059200048446655\n"
          ]
        }
      ]
    }
  ]
}