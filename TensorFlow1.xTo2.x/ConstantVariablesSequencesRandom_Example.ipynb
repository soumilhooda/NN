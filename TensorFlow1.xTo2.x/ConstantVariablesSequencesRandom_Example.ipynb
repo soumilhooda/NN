{
  "nbformat": 4,
  "nbformat_minor": 0,
  "metadata": {
    "colab": {
      "name": "ConstantVariablesSequencesRandom_Example.ipynb",
      "provenance": [],
      "authorship_tag": "ABX9TyOFCyAuubwep2I4nyEt2FA8",
      "include_colab_link": true
    },
    "kernelspec": {
      "name": "python3",
      "display_name": "Python 3"
    },
    "language_info": {
      "name": "python"
    }
  },
  "cells": [
    {
      "cell_type": "markdown",
      "metadata": {
        "id": "view-in-github",
        "colab_type": "text"
      },
      "source": [
        "<a href=\"https://colab.research.google.com/github/soumilhooda/TensorFlow1.xTo2.x/blob/main/ConstantVariablesSequencesRandom_Example.ipynb\" target=\"_parent\"><img src=\"https://colab.research.google.com/assets/colab-badge.svg\" alt=\"Open In Colab\"/></a>"
      ]
    },
    {
      "cell_type": "code",
      "execution_count": 2,
      "metadata": {
        "colab": {
          "base_uri": "https://localhost:8080/"
        },
        "id": "wVKW57PM0XEn",
        "outputId": "30042d1a-36ef-475b-c285-2d44b7bc5724"
      },
      "outputs": [
        {
          "output_type": "stream",
          "name": "stdout",
          "text": [
            "TensorFlow 1.x selected.\n",
            "(2, 3)\n"
          ]
        },
        {
          "output_type": "execute_result",
          "data": {
            "text/plain": [
              "<tf.Tensor 'ones_like:0' shape=(3,) dtype=int32>"
            ]
          },
          "metadata": {},
          "execution_count": 2
        }
      ],
      "source": [
        "%tensorflow_version 1.x\n",
        "\n",
        "import tensorflow as tf\n",
        "\n",
        "t_1 = tf.constant(4) #a scalar constant\n",
        "t_2 = tf.constant([4,3,2]) #a constant vector of shape [1,3]\n",
        "zero_t = tf.zeros([2,3],tf.int32) #tf.zeros([M,N],tf.dtype) to create a tensor with all elements zero\n",
        "ones_t = tf.ones([2,3],tf.int32) #tf.ones([M,],tf.dtype) to create a tensor with all elements one\n",
        "print(tf.zeros([2,3],tf.int32).shape) #to get the shape of a tensor\n",
        "tf.zeros_like(t_2) #to create a zero matrix of the same shape as t_2\n",
        "tf.ones_like(t_2) #to create a ones matrix of the same shape as t_2"
      ]
    },
    {
      "cell_type": "code",
      "source": [
        "#Sequences\n",
        "\n",
        "range_t = tf.linspace(2.0,0.5,0.5) #tf.linspace(start, stop, num) where corresponding values differ by (stop-start)/(num-1)\n",
        "range2_t = tf.range(10) #tf.range(start, limit, delta) where default value for start is 0 and delta is 1"
      ],
      "metadata": {
        "id": "4dAHo6Eb1ceS"
      },
      "execution_count": null,
      "outputs": []
    },
    {
      "cell_type": "code",
      "source": [
        "t_random = tf.random_normal([2,3], mean=2.0, stddev=4, seed=12) #random values from a normal distribution \n",
        "t_random2 = tf.truncated_normal([1,5], stddev=2, seed=12) #random values from a truncated distribution\n",
        "t_random = tf.random_uniform([2,3],maxval=4,seed=12) #random values from gamma distribution\n",
        "tf.random_crop(t_random,[2,5],seed=12) #crop a tensor to specific size\n",
        "tf.random_shuffle(t_random) #random shuffling along first dimension\n",
        "tf.set_random_seed(24) #setting seed\n"
      ],
      "metadata": {
        "id": "7HCc6_p06xf3"
      },
      "execution_count": null,
      "outputs": []
    },
    {
      "cell_type": "code",
      "source": [
        "rand_t = tf.random_uniform([50,50],0,10,seed=0)\n",
        "t_a = tf.Variable(rand_t)\n",
        "t_b = tf.Variable(rand_t)\n",
        "#example\n",
        "\n",
        "weights = tf.Variable(tf.random_normal([100,100],stddev=2))\n",
        "bias=tf.Variable(tf.zeros[100],name='biases')\n",
        "weight2 = tf.Variable(weights.initialised_value(),name='w2')\n"
      ],
      "metadata": {
        "id": "OyHHgwmkFGtA"
      },
      "execution_count": null,
      "outputs": []
    },
    {
      "cell_type": "code",
      "source": [
        "#initialising variables\n",
        "#all declared variables must be explicitly initialised\n",
        "\n",
        "initial_op = tf.global_variable_intialiser()\n",
        "\n",
        "#each variable can also be initalised separately \n",
        "\n",
        "bias = tf.Variable(tf.zeroes([100,100]))\n",
        "with tf.Session() as sess:\n",
        "  sess.run(bias.intializer)\n",
        "  "
      ],
      "metadata": {
        "id": "TnlKKwFiOw1L"
      },
      "execution_count": null,
      "outputs": []
    },
    {
      "cell_type": "code",
      "source": [
        "#saving variables\n",
        "\n",
        "saver = tf.train.Saver()\n"
      ],
      "metadata": {
        "id": "i_XZiHOEWukQ"
      },
      "execution_count": null,
      "outputs": []
    },
    {
      "cell_type": "code",
      "source": [
        "#defining a placeholder\n",
        "\n",
        "tf.placeholder(dtype, shape=None, name=None)"
      ],
      "metadata": {
        "id": "wsZpauzZWyXz"
      },
      "execution_count": null,
      "outputs": []
    },
    {
      "cell_type": "code",
      "source": [
        "#now, we shall define the placeholder for x and calculate y=2x using feed_dict for a random 4X5 matrix\n",
        "\n",
        "x = tf.placeholder(\"float\")\n",
        "y = 2*x\n",
        "data = tf.random_uniform([4,5],10)\n",
        "with tf.Session() as sess:\n",
        "  x_data = sess.run(data)\n",
        "  print(sess.run(y,feed_dict={x:x_data}))"
      ],
      "metadata": {
        "colab": {
          "base_uri": "https://localhost:8080/"
        },
        "id": "G5ybX5bSW7t7",
        "outputId": "bfd200f4-ef55-43d3-d8aa-bbef44027061"
      },
      "execution_count": 4,
      "outputs": [
        {
          "output_type": "stream",
          "name": "stdout",
          "text": [
            "[[ 9.487378  19.742317  14.394262   2.376934  12.834461 ]\n",
            " [ 5.6704016  7.4135857  3.1700935  6.3872337 19.70401  ]\n",
            " [ 2.7667294  4.728281  18.825665  14.135468  12.870472 ]\n",
            " [16.498661  16.903625  17.020845  12.293321   5.084667 ]]\n"
          ]
        }
      ]
    }
  ]
}