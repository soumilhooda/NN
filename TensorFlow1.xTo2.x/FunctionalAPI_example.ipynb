{
  "nbformat": 4,
  "nbformat_minor": 0,
  "metadata": {
    "colab": {
      "name": "FunctionalAPI_example.ipynb",
      "provenance": [],
      "authorship_tag": "ABX9TyOCiwlysDA354bvLAZ167HY",
      "include_colab_link": true
    },
    "kernelspec": {
      "name": "python3",
      "display_name": "Python 3"
    },
    "language_info": {
      "name": "python"
    }
  },
  "cells": [
    {
      "cell_type": "markdown",
      "metadata": {
        "id": "view-in-github",
        "colab_type": "text"
      },
      "source": [
        "<a href=\"https://colab.research.google.com/github/soumilhooda/TensorFlow1.xTo2.x/blob/main/FunctionalAPI_example.ipynb\" target=\"_parent\"><img src=\"https://colab.research.google.com/assets/colab-badge.svg\" alt=\"Open In Colab\"/></a>"
      ]
    },
    {
      "cell_type": "code",
      "execution_count": 1,
      "metadata": {
        "id": "zbANuLSVADWj"
      },
      "outputs": [],
      "source": [
        "import tensorflow as tf"
      ]
    },
    {
      "cell_type": "code",
      "source": [
        "def build_model():\n",
        "  #variable length sequence of integers\n",
        "  text_input_a = tf.keras.Input(shape=(None,), dtype='int32')\n",
        "\n",
        "  #variable length sequence of integers\n",
        "  text_input_b = tf.keras.Input(shape=(None,), dtype='int32')\n",
        "\n",
        "  #Embedding for 1000 unique words mapped to 128-dimensional vectors \n",
        "  shared_embedding = tf.keras.layers.Embedding(1000,128)\n",
        "\n",
        "  #We reuse the same layer to encode both inputs\n",
        "  encoded_input_a = shared_embedding(text_input_a)\n",
        "  encoded_input_b = shared_embedding(text_input_b)\n",
        "\n",
        "  #two logistic predictions at the end\n",
        "  prediction_a = tf.keras.layers.Dense(1, activation='sigmoid', name='prediction_a')(encoded_input_a)\n",
        "  prediction_b = tf.keras.layers.Dense(1, activation='sigmoid', name='prediction_b')(encoded_input_b)\n",
        "\n",
        "  #this model has 2 inputs and 2 outputs\n",
        "  #in the middle we have a shared model\n",
        "\n",
        "  model = tf.keras.Model(inputs=[text_input_a, text_input_b],outputs=[prediction_a, prediction_b])\n",
        "\n",
        "  tf.keras.utils.plot_model(model, to_file=\"shared_model.png\")"
      ],
      "metadata": {
        "id": "bfrhGmn3AJno"
      },
      "execution_count": 2,
      "outputs": []
    },
    {
      "cell_type": "code",
      "source": [
        "build_model()"
      ],
      "metadata": {
        "id": "PKNLT6aRBm-b"
      },
      "execution_count": 3,
      "outputs": []
    }
  ]
}