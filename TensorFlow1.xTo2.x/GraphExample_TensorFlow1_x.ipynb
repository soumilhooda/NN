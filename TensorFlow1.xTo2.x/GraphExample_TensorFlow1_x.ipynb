{
  "nbformat": 4,
  "nbformat_minor": 0,
  "metadata": {
    "colab": {
      "name": "GraphExample_TensorFlow1.x.ipynb",
      "provenance": [],
      "authorship_tag": "ABX9TyOd/CUTwl0HVp0WuFr76fqA",
      "include_colab_link": true
    },
    "kernelspec": {
      "name": "python3",
      "display_name": "Python 3"
    },
    "language_info": {
      "name": "python"
    }
  },
  "cells": [
    {
      "cell_type": "markdown",
      "metadata": {
        "id": "view-in-github",
        "colab_type": "text"
      },
      "source": [
        "<a href=\"https://colab.research.google.com/github/soumilhooda/TensorFlow1.xTo2.x/blob/main/GraphExample_TensorFlow1_x.ipynb\" target=\"_parent\"><img src=\"https://colab.research.google.com/assets/colab-badge.svg\" alt=\"Open In Colab\"/></a>"
      ]
    },
    {
      "cell_type": "code",
      "execution_count": 1,
      "metadata": {
        "colab": {
          "base_uri": "https://localhost:8080/"
        },
        "id": "Oy2K6CkssRPC",
        "outputId": "a89212dc-730c-403b-f15b-6d81153e9513"
      },
      "outputs": [
        {
          "output_type": "stream",
          "name": "stdout",
          "text": [
            "TensorFlow 1.x selected.\n"
          ]
        }
      ],
      "source": [
        "%tensorflow_version 1.x\n",
        "\n",
        "import tensorflow as tf\n",
        "\n",
        "v_1 = tf.constant([1,2,3,4])\n",
        "v_2 = tf.constant([2,1,5,3])\n",
        "v_add = tf.add(v_1,v_2)"
      ]
    },
    {
      "cell_type": "code",
      "source": [
        "with tf.Session() as sess:\n",
        "  print(sess.run(v_add))"
      ],
      "metadata": {
        "colab": {
          "base_uri": "https://localhost:8080/"
        },
        "id": "kj0pRkMNxO4h",
        "outputId": "8e4adc62-e46e-4e87-bbbf-4518a3f1d253"
      },
      "execution_count": 2,
      "outputs": [
        {
          "output_type": "stream",
          "name": "stdout",
          "text": [
            "[3 3 8 7]\n"
          ]
        }
      ]
    },
    {
      "cell_type": "markdown",
      "source": [
        "Alternate way of writing a session is indicated below. It requires each session be explicitly closed."
      ],
      "metadata": {
        "id": "ThY5zmqMyBiS"
      }
    },
    {
      "cell_type": "code",
      "source": [
        "v_3 = tf.constant([1,2,3,4])\n",
        "v_4 = tf.constant([2,1,5,3])\n",
        "v_add = tf.add(v_3,v_4)\n",
        "\n",
        "sess = tf.Session()\n",
        "print(sess.run(v_add))\n",
        "sess.close()"
      ],
      "metadata": {
        "colab": {
          "base_uri": "https://localhost:8080/"
        },
        "id": "W3l7EZLVyJBK",
        "outputId": "de4f74da-3962-41a4-d89a-530e8fc06d8b"
      },
      "execution_count": 3,
      "outputs": [
        {
          "output_type": "stream",
          "name": "stdout",
          "text": [
            "[3 3 8 7]\n"
          ]
        }
      ]
    }
  ]
}