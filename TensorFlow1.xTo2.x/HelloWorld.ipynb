{
  "nbformat": 4,
  "nbformat_minor": 0,
  "metadata": {
    "colab": {
      "name": "HelloWorld.ipynb",
      "provenance": [],
      "authorship_tag": "ABX9TyO/PHAy3uBvxpiLYJKbZBJa",
      "include_colab_link": true
    },
    "kernelspec": {
      "name": "python3",
      "display_name": "Python 3"
    },
    "language_info": {
      "name": "python"
    }
  },
  "cells": [
    {
      "cell_type": "markdown",
      "metadata": {
        "id": "view-in-github",
        "colab_type": "text"
      },
      "source": [
        "<a href=\"https://colab.research.google.com/github/soumilhooda/TensorFlow1.xTo2.x/blob/main/HelloWorld.ipynb\" target=\"_parent\"><img src=\"https://colab.research.google.com/assets/colab-badge.svg\" alt=\"Open In Colab\"/></a>"
      ]
    },
    {
      "cell_type": "code",
      "execution_count": 2,
      "metadata": {
        "colab": {
          "base_uri": "https://localhost:8080/"
        },
        "id": "V8IOWm42c1UW",
        "outputId": "62fec034-4e22-4aad-9bd3-e49c96374f5c"
      },
      "outputs": [
        {
          "output_type": "stream",
          "name": "stdout",
          "text": [
            "Welcome to the exciting world of Deep Neural Networks Soumil!\n"
          ]
        }
      ],
      "source": [
        "%tensorflow_version 1.x\n",
        "\n",
        "import tensorflow as tf\n",
        "message = tf.constant('Welcome to the exciting world of Deep Neural Networks Soumil!')\n",
        "with tf.Session() as sess:\n",
        "  print(sess.run(message).decode())"
      ]
    },
    {
      "cell_type": "markdown",
      "source": [
        "To understand this piece of code, read below.\n",
        "\n",
        "The first line imports Tensorflow 1.x and the second line defines our message using `tf.constant`. \n",
        "\n",
        "The third line defines our `Session()` using `with`. The fourth line runs this session using `run()`. \n",
        "\n",
        "This results in a 'byte string.' \n",
        "\n",
        "In order to remove string quotes and b (for byte) we use the method `decode()`. "
      ],
      "metadata": {
        "id": "MZxj0IDfdQLY"
      }
    }
  ]
}